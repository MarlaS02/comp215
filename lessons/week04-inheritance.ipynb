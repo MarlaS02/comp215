{
  "nbformat": 4,
  "nbformat_minor": 0,
  "metadata": {
    "colab": {
      "provenance": [],
      "include_colab_link": true
    },
    "kernelspec": {
      "name": "python3",
      "display_name": "Python 3"
    },
    "language_info": {
      "name": "python"
    }
  },
  "cells": [
    {
      "cell_type": "markdown",
      "metadata": {
        "id": "view-in-github",
        "colab_type": "text"
      },
      "source": [
        "<a href=\"https://colab.research.google.com/github/MarlaS02/comp215/blob/main/lessons/week04-inheritance.ipynb\" target=\"_parent\"><img src=\"https://colab.research.google.com/assets/colab-badge.svg\" alt=\"Open In Colab\"/></a>"
      ]
    },
    {
      "cell_type": "markdown",
      "source": [
        "# **Unit Testing**\n",
        "\n",
        "We will create and test a basic calculator that has only four operations: additon, subtraction, multiplication and division.  This exercise is based on [damorimRG's workbook](https://colab.research.google.com/github/damorimRG/practical_testing_book/blob/master/testgranularity/unittesting.ipynb#scrollTo=ViO48KML_qJL)\n",
        "\n",
        "\n"
      ],
      "metadata": {
        "id": "p1akS3K8dw6B"
      }
    },
    {
      "cell_type": "code",
      "source": [
        "import unittest"
      ],
      "metadata": {
        "id": "tR7QVTHIdxus"
      },
      "execution_count": 1,
      "outputs": []
    },
    {
      "cell_type": "code",
      "source": [
        "class Calculator:\n",
        "    def __init__(self):\n",
        "        pass\n",
        "\n",
        "    def add(self, a, b):\n",
        "        return a + b\n",
        "\n",
        "    def sub(self, a, b):\n",
        "        return a - b\n",
        "\n",
        "    def mul(self, a, b):\n",
        "        return a * b\n",
        "\n",
        "    def div(self, a, b):\n",
        "        if b != 0:\n",
        "            return a / b"
      ],
      "metadata": {
        "id": "8fXwnxpQeC1s"
      },
      "execution_count": 2,
      "outputs": []
    },
    {
      "cell_type": "markdown",
      "source": [
        "Now let us use the `unittest` module to ensure each method is working properly and gives the right output when receiving example inputs.  A test case is created by subclassing `unittest.TestCase`."
      ],
      "metadata": {
        "id": "o6uFhYhzeNKz"
      }
    },
    {
      "cell_type": "code",
      "source": [
        "class TestCalculator(unittest.TestCase):\n",
        "\n",
        "    def test_add(self):\n",
        "        '''Test case function for addition'''\n",
        "        self.calc = Calculator()\n",
        "        result = self.calc.add(4, 7)\n",
        "        expected = 11\n",
        "        self.assertEqual(result, expected)\n",
        "\n",
        "    def test_sub(self):\n",
        "        '''Test case function for subtraction'''\n",
        "        self.calc = Calculator()\n",
        "        result = self.calc.sub(10, 5)\n",
        "        expected = 5\n",
        "        self.assertEqual(result, expected)\n",
        "\n",
        "    @unittest.skip('Some reason')\n",
        "    def test_mul(self):\n",
        "        '''Test case function for multiplication'''\n",
        "        self.calc = Calculator()\n",
        "        result = self.calc.mul(3, 7)\n",
        "        expected = 21\n",
        "        self.assertEqual(result, expected)\n",
        "\n",
        "    def test_div(self):\n",
        "        '''Test case function for division'''\n",
        "        self.calc = Calculator()\n",
        "        result = self.calc.div(10, 2)\n",
        "        expected = 4\n",
        "        self.assertEqual(result, expected)"
      ],
      "metadata": {
        "id": "Nzn0_p0GeOMn"
      },
      "execution_count": 3,
      "outputs": []
    },
    {
      "cell_type": "markdown",
      "source": [
        "We created 4 unit tests, each of it is checking a method of the calculator class. These checks are being done through calls to `Assertions`, in this case the `assertEqual` function. Note that, flagging the method `test_mul` with `@unittest.skip('your_reason')` will skip the test for that method.  To run the tests, use:"
      ],
      "metadata": {
        "id": "NETBL5MneR3O"
      }
    },
    {
      "cell_type": "code",
      "source": [
        "unittest.main(argv=[''], verbosity=2, exit=False)"
      ],
      "metadata": {
        "id": "Ry9XyxnLeXWN",
        "outputId": "8cc617c6-4e6e-4446-9f70-3fea35edf654",
        "colab": {
          "base_uri": "https://localhost:8080/"
        }
      },
      "execution_count": 4,
      "outputs": [
        {
          "output_type": "stream",
          "name": "stderr",
          "text": [
            "test_add (__main__.TestCalculator.test_add)\n",
            "Test case function for addition ... ok\n",
            "test_div (__main__.TestCalculator.test_div)\n",
            "Test case function for division ... FAIL\n",
            "test_mul (__main__.TestCalculator.test_mul)\n",
            "Test case function for multiplication ... skipped 'Some reason'\n",
            "test_sub (__main__.TestCalculator.test_sub)\n",
            "Test case function for subtraction ... ok\n",
            "\n",
            "======================================================================\n",
            "FAIL: test_div (__main__.TestCalculator.test_div)\n",
            "Test case function for division\n",
            "----------------------------------------------------------------------\n",
            "Traceback (most recent call last):\n",
            "  File \"<ipython-input-3-c1414c069ac7>\", line 30, in test_div\n",
            "    self.assertEqual(result, expected)\n",
            "AssertionError: 5.0 != 4\n",
            "\n",
            "----------------------------------------------------------------------\n",
            "Ran 4 tests in 0.020s\n",
            "\n",
            "FAILED (failures=1, skipped=1)\n"
          ]
        },
        {
          "output_type": "execute_result",
          "data": {
            "text/plain": [
              "<unittest.main.TestProgram at 0x7e15601816d0>"
            ]
          },
          "metadata": {},
          "execution_count": 4
        }
      ]
    },
    {
      "cell_type": "markdown",
      "source": [
        "After running you will see something like:\n",
        "\n",
        "```\n",
        "test_add (__main__.TestCalculator)\n",
        "Test case function for addition ... ok\n",
        "test_div (__main__.TestCalculator)\n",
        "Test case function for division ... FAIL\n",
        "test_mul (__main__.TestCalculator)\n",
        "Test case function for multiplication ... skipped 'Some reason'\n",
        "test_sub (__main__.TestCalculator)\n",
        "Test case function for subtraction ... ok\n",
        "```\n",
        "\n",
        "Where addition and subtraction passed, multiplication was intentionally skipped, and division failed.\n",
        "\n",
        "Unittest has several functions, known as `Assertions`, useful for the development of unit tests. Some are: `assertNotEqual(a, b)`, `assertTrue(x)`, `assertFalse(x)`, `assertIs(a, b)`, `assertIsNot(a, b)`, `assertIsNone(x)`, and much more."
      ],
      "metadata": {
        "id": "SEDtBetneYGz"
      }
    },
    {
      "cell_type": "markdown",
      "source": [
        "# **Inheritance and Composition**\n",
        "\n",
        "---\n",
        "\n",
        "## Inheritance\n",
        "\n",
        "Inheritance allows a class (child class) to acquire the properties and methods of another class (parent class). It represents an \"is-a\" relationship.\n",
        "\n",
        "#### Example:\n",
        "A `Dog` is a `Animal`. Therefore, `Dog` can inherit properties and behaviors from the `Animal` class.\n"
      ],
      "metadata": {
        "id": "wE5ePgdEcvA-"
      }
    },
    {
      "cell_type": "code",
      "source": [
        "class Animal:\n",
        "    def __init__(self, name):\n",
        "        self.name = name\n",
        "\n",
        "    def speak(self):\n",
        "        print(f\"{self.name} makes a sound\")\n",
        "\n",
        "# Child class inheriting from Animal\n",
        "class Dog(Animal):\n",
        "    def speak(self):\n",
        "        print(f\"{self.name} says Woof!\")\n",
        "\n",
        "# Child class inheriting from Animal\n",
        "class Cat(Animal):\n",
        "    def speak(self):\n",
        "        print(f\"{self.name} says Meow!\")\n",
        "\n",
        "# Example usage\n",
        "dog = Dog(\"Buddy\")\n",
        "dog.speak()  # Output: Buddy says Woof!\n",
        "\n",
        "cat = Cat(\"Kitty\")\n",
        "cat.speak()  # Output: Kitty says Meow!\n"
      ],
      "metadata": {
        "id": "vuSOr0oIc415",
        "outputId": "fe63540b-d4de-4c1e-959e-0e934cbedc5d",
        "colab": {
          "base_uri": "https://localhost:8080/"
        }
      },
      "execution_count": 5,
      "outputs": [
        {
          "output_type": "stream",
          "name": "stdout",
          "text": [
            "Buddy says Woof!\n",
            "Kitty says Meow!\n"
          ]
        }
      ]
    },
    {
      "cell_type": "markdown",
      "source": [
        "### Key points about inheritance:\n",
        "- The `Dog` and `Cat` classes inherit the `__init__` method from `Animal`.\n",
        "- They override the `speak` method to provide their own implementation.\n",
        "\n",
        "---"
      ],
      "metadata": {
        "id": "rYEqPD3Qc5-c"
      }
    },
    {
      "cell_type": "markdown",
      "source": [
        "## Composition\n",
        "\n",
        "Composition is a way to combine objects to build more complex functionality. It represents a \"has-a\" relationship.\n",
        "\n",
        "#### Example:\n",
        "A `Car` has an `Engine`. Instead of inheriting from an `Engine`, the `Car` class uses it as a part of its functionality.\n"
      ],
      "metadata": {
        "id": "xe1U57Kpc9KT"
      }
    },
    {
      "cell_type": "code",
      "source": [
        "class Engine:\n",
        "    def start(self):\n",
        "        print(\"Engine starts\")\n",
        "\n",
        "    def stop(self):\n",
        "        print(\"Engine stops\")\n",
        "\n",
        "class Car:\n",
        "    def __init__(self):\n",
        "        self.engine = Engine()  # Composition: Car has an Engine\n",
        "\n",
        "    def drive(self):\n",
        "        print(\"Car is driving\")\n",
        "        self.engine.start()\n",
        "\n",
        "    def park(self):\n",
        "        print(\"Car is parked\")\n",
        "        self.engine.stop()\n",
        "\n",
        "# Example usage\n",
        "car = Car()\n",
        "car.drive()  # Output: Car is driving \\n Engine starts\n",
        "car.park()   # Output: Car is parked \\n Engine stops"
      ],
      "metadata": {
        "id": "pTWtKD-GdGfT",
        "outputId": "b25637aa-5a15-4347-fad2-a0ce2ee1ad26",
        "colab": {
          "base_uri": "https://localhost:8080/"
        }
      },
      "execution_count": 6,
      "outputs": [
        {
          "output_type": "stream",
          "name": "stdout",
          "text": [
            "Car is driving\n",
            "Engine starts\n",
            "Car is parked\n",
            "Engine stops\n"
          ]
        }
      ]
    },
    {
      "cell_type": "markdown",
      "source": [
        "#### Key points about composition:\n",
        "- The `Car` class contains an instance of the `Engine` class.\n",
        "- The `Car` class delegates tasks like `start` and `stop` to the `Engine` object.\n",
        "\n",
        "---\n",
        "\n",
        "\n"
      ],
      "metadata": {
        "id": "gJGH1vMWdIAw"
      }
    },
    {
      "cell_type": "markdown",
      "source": [
        "## When to Use Inheritance vs Composition\n",
        "\n",
        "| Inheritance                     | Composition                      |\n",
        "|---------------------------------|----------------------------------|\n",
        "| \"Is-a\" relationship            | \"Has-a\" relationship            |\n",
        "| Share common behavior           | Combine independent behaviors    |\n",
        "| Can lead to tightly coupled code| Promotes loosely coupled design |\n",
        "\n",
        "#### Rule of thumb:\n",
        "- Use inheritance when classes share a significant amount of behavior.\n",
        "- Use composition when you want to combine different behaviors or when behaviors can vary independently.\n",
        "\n",
        "---"
      ],
      "metadata": {
        "id": "xeZAoBJtfht3"
      }
    },
    {
      "cell_type": "markdown",
      "source": [
        "### Exercise: Inheritance\n",
        "Define a base class `Shape` with a method `area` that prints \"Not implemented\". Create two child classes `Rectangle` and `Circle`. Override the `area` method to calculate and return the area of the respective shape.\n"
      ],
      "metadata": {
        "id": "9DPP4v7WdQdH"
      }
    },
    {
      "cell_type": "code",
      "execution_count": null,
      "metadata": {
        "id": "nq3kNmSbcsqC"
      },
      "outputs": [],
      "source": [
        "import math\n",
        "\n",
        "# Your code here\n",
        "class Shape:\n",
        "    def area(self):\n",
        "        print(\"not implemented\")\n",
        "\n",
        "class Rectangle(Shape):\n",
        "    def __init__(self, length, width):\n",
        "        self.length = length\n",
        "        self.width = width\n",
        "\n",
        "    def area(self):\n",
        "        return self.length * self.width\n",
        "\n",
        "class Circle(Shape):\n",
        "    def __init__(self, radius):\n",
        "      self.radius = radius\n",
        "\n",
        "    def area(self):\n",
        "      return math.pi * ((self.radius) ** 2)\n",
        "# Tests your classes\n",
        "\n"
      ]
    },
    {
      "cell_type": "markdown",
      "source": [
        "\n",
        "#### Exercise: Composition\n",
        "Create a class `Book` that has a `Title` and an `Author`. Then, create a `Library` class that can store multiple books. Implement methods to add books to the library and display all books.\n"
      ],
      "metadata": {
        "id": "ijH6jDygf3Hx"
      }
    },
    {
      "cell_type": "code",
      "source": [
        "# Your code here\n",
        "\n",
        "\n",
        "# Test your classes\n",
        "\n"
      ],
      "metadata": {
        "id": "5rJutIfZf8aG"
      },
      "execution_count": null,
      "outputs": []
    },
    {
      "cell_type": "markdown",
      "source": [
        "This workbook was developed by ChatGPT."
      ],
      "metadata": {
        "id": "x5pl0wUJjVnT"
      }
    }
  ]
}