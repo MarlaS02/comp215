{
  "nbformat": 4,
  "nbformat_minor": 0,
  "metadata": {
    "kernelspec": {
      "display_name": "Python 3",
      "language": "python",
      "name": "python3"
    },
    "language_info": {
      "codemirror_mode": {
        "name": "ipython",
        "version": 2
      },
      "file_extension": ".py",
      "mimetype": "text/x-python",
      "name": "python",
      "nbconvert_exporter": "python",
      "pygments_lexer": "ipython2",
      "version": "2.7.6"
    },
    "colab": {
      "provenance": [],
      "include_colab_link": true
    }
  },
  "cells": [
    {
      "cell_type": "markdown",
      "metadata": {
        "id": "view-in-github",
        "colab_type": "text"
      },
      "source": [
        "<a href=\"https://colab.research.google.com/github/MarlaS02/comp215/blob/main/labs/lab03-classes.ipynb\" target=\"_parent\"><img src=\"https://colab.research.google.com/assets/colab-badge.svg\" alt=\"Open In Colab\"/></a>"
      ]
    },
    {
      "cell_type": "markdown",
      "source": [
        "COMP 215 - LAB 3\n",
        "----------------\n",
        "#### Name(s):\n",
        "#### Date:\n",
        "\n",
        "By the end of this lab you should be able to:\n",
        "  * use a `class` to organize related data and functions\n",
        "  * identify a `record` as a related collection of data, with fields for each data value\n",
        "\n",
        "During this lab, you will be introduced to the following:\n",
        "  * the `@dataclass` decorator to simplify class definition for classes that primarily encapsulate a data structure.\n",
        "  * the `@classmethod` decorator to create 'object factories'.\n",
        "  * plotting frequency distributions in `matplotlib`\n",
        "\n"
      ],
      "metadata": {
        "id": "nbRPZPKZU5Pk"
      }
    },
    {
      "cell_type": "markdown",
      "source": [
        "## Near Earth Objects (with classes)\n",
        "\n",
        "We'll continue working with Near Earth Object data using NASA's API: https://api.nasa.gov/.  In this lab we will define an Asteroid class to help us structure the data for easier data analysis.  Here's a brief review from Lab 2 on how to use the API.  "
      ],
      "metadata": {
        "id": "j0F0hjKzgQ1W"
      }
    },
    {
      "cell_type": "code",
      "execution_count": 2,
      "outputs": [],
      "source": [
        "# import necessary modules\n",
        "import datetime, json, requests\n",
        "from dataclasses import dataclass\n",
        "from pprint import pprint\n",
        "import matplotlib.pyplot as plt\n",
        "%matplotlib inline"
      ],
      "metadata": {
        "pycharm": {
          "name": "#%%\n"
        },
        "ExecuteTime": {
          "end_time": "2024-01-04T04:10:54.380220Z",
          "start_time": "2024-01-04T04:10:54.335677Z"
        },
        "id": "TLWTJDuVfSzO"
      }
    },
    {
      "cell_type": "markdown",
      "source": [
        "### Review: make an API query\n",
        "\n",
        "Here's a query that gets the record for a single NEO that recently passed by.  Read these functions carefully to be sure you know what they are returning.  Note the nested for loop structure in the return statement of the `get_neos` function - be sure to understand what it is doing.  You might want to add some more `pprint` statements to be sure you understand the data structures."
      ],
      "metadata": {
        "collapsed": false,
        "pycharm": {
          "name": "#%% md\n"
        },
        "id": "ug6L49x3fSzP"
      }
    },
    {
      "cell_type": "code",
      "execution_count": 3,
      "outputs": [
        {
          "output_type": "stream",
          "name": "stdout",
          "text": [
            "117 Near Earth Objects found for week of 2023-01-15\n",
            "{'absolute_magnitude_h': 23.55,\n",
            " 'close_approach_data': [{'close_approach_date': '2023-01-18',\n",
            "                          'close_approach_date_full': '2023-Jan-18 21:12',\n",
            "                          'epoch_date_close_approach': 1674076320000,\n",
            "                          'miss_distance': {'astronomical': '0.2700993146',\n",
            "                                            'kilometers': '40406282.152619902',\n",
            "                                            'lunar': '105.0686333794',\n",
            "                                            'miles': '25107299.4886905676'},\n",
            "                          'orbiting_body': 'Earth',\n",
            "                          'relative_velocity': {'kilometers_per_hour': '19099.6570510935',\n",
            "                                                'kilometers_per_second': '5.305460292',\n",
            "                                                'miles_per_hour': '11867.7841271086'}}],\n",
            " 'designation': '2023 BO',\n",
            " 'estimated_diameter': {'feet': {'estimated_diameter_max': 380.2113086795,\n",
            "                                 'estimated_diameter_min': 170.0356664043},\n",
            "                        'kilometers': {'estimated_diameter_max': 0.1158884032,\n",
            "                                       'estimated_diameter_min': 0.0518268695},\n",
            "                        'meters': {'estimated_diameter_max': 115.8884031771,\n",
            "                                   'estimated_diameter_min': 51.8268694616},\n",
            "                        'miles': {'estimated_diameter_max': 0.072009693,\n",
            "                                  'estimated_diameter_min': 0.0322037137}},\n",
            " 'id': '54339244',\n",
            " 'is_potentially_hazardous_asteroid': False,\n",
            " 'is_sentry_object': False,\n",
            " 'links': {'self': 'http://api.nasa.gov/neo/rest/v1/neo/54339244?api_key=o2bsUdeZ6NhRHgHBxjC19Mxwj9QmkaykdtzGymNg'},\n",
            " 'name': '(2023 BO)',\n",
            " 'nasa_jpl_url': 'https://ssd.jpl.nasa.gov/tools/sbdb_lookup.html#/?sstr=54339244',\n",
            " 'neo_reference_id': '54339244',\n",
            " 'orbital_data': {'aphelion_distance': '2.255784041770856',\n",
            "                  'ascending_node_longitude': '81.66220833459143',\n",
            "                  'data_arc_in_days': 3,\n",
            "                  'eccentricity': '.3141321437619316',\n",
            "                  'epoch_osculation': '2459963.5',\n",
            "                  'equinox': 'J2000',\n",
            "                  'first_observation_date': '2023-01-18',\n",
            "                  'inclination': '11.33267293365172',\n",
            "                  'jupiter_tisserand_invariant': '4.101',\n",
            "                  'last_observation_date': '2023-01-21',\n",
            "                  'mean_anomaly': '344.5986908021632',\n",
            "                  'mean_motion': '.4382443758895068',\n",
            "                  'minimum_orbit_intersection': '.25743',\n",
            "                  'observations_used': 13,\n",
            "                  'orbit_class': {'orbit_class_description': 'Near-Earth '\n",
            "                                                             'asteroid orbits '\n",
            "                                                             'similar to that '\n",
            "                                                             'of 1221 Amor',\n",
            "                                  'orbit_class_range': '1.017 AU < q '\n",
            "                                                       '(perihelion) < 1.3 AU',\n",
            "                                  'orbit_class_type': 'AMO'},\n",
            "                  'orbit_determination_date': '2023-01-21 09:12:06',\n",
            "                  'orbit_id': '1',\n",
            "                  'orbit_uncertainty': '8',\n",
            "                  'orbital_period': '821.4594865463048',\n",
            "                  'perihelion_argument': '64.1870291116295',\n",
            "                  'perihelion_distance': '1.17733195417957',\n",
            "                  'perihelion_time': '2459998.643198738322',\n",
            "                  'semi_major_axis': '1.716557997975213'}}\n"
          ]
        }
      ],
      "source": [
        "API_KEY = 'o2bsUdeZ6NhRHgHBxjC19Mxwj9QmkaykdtzGymNg'  # substitute your API key here\n",
        "\n",
        "def get_neos(start_date):\n",
        "    \"\"\" Return a list of NEO for the week starting at start_date \"\"\"\n",
        "    url = f'https://api.nasa.gov/neo/rest/v1/feed?start_date={start_date}&api_key={API_KEY}'\n",
        "    # Fetch last week's NEO feed\n",
        "    response = requests.request(\"GET\", url, headers={}, data={})\n",
        "    data = json.loads(response.text)\n",
        "    print(f'{data[\"element_count\"]} Near Earth Objects found for week of {start_date}')\n",
        "    return [neo for dated_records in data['near_earth_objects'].values() for neo in dated_records ]\n",
        "\n",
        "def get_neo(id):\n",
        "    \"\"\" Return a NEO record for the given id \"\"\"\n",
        "    url = f'https://api.nasa.gov/neo/rest/v1/neo/{id}?api_key={API_KEY}'\n",
        "    response = requests.request(\"GET\", url, headers={}, data={})\n",
        "    return json.loads(response.text)\n",
        "\n",
        "week_start = '2023-01-15'\n",
        "neos = get_neos(week_start)\n",
        "assert len(neos) > 0, f'Oh oh!  No NEOs found for {week_start}'\n",
        "neo = get_neo(neos[-2]['id'])  # get the very latest NEO\n",
        "pprint(neo)"
      ],
      "metadata": {
        "pycharm": {
          "name": "#%%\n"
        },
        "ExecuteTime": {
          "end_time": "2024-01-04T04:11:12.889668Z",
          "start_time": "2024-01-04T04:10:54.383166Z"
        },
        "id": "7Ex-7gB4fSzP",
        "colab": {
          "base_uri": "https://localhost:8080/"
        },
        "outputId": "b5c2957d-0e82-42d2-fdfe-90f0d9a175dd"
      }
    },
    {
      "cell_type": "markdown",
      "source": [
        "## Exercise 1:  Define an Asteroid class\n",
        "\n",
        "Define a simple Asteroid class with some basic state variables for a single NEO.  Your Asteroid class should define at least 4 \"state variables:”\n",
        "\n",
        "    id\n",
        "    name\n",
        "    estimated_diameter (m)\n",
        "    is_potentially_hazardous (bool)\n",
        "\n",
        "Operations must include:\n",
        "* `__init__(self, ...)` method to initialize a new Asteroid object with specific data values\n",
        "* `__str__(self)`, and `__repr__(self)` methods that return nicely formatted string representations of the object.\n",
        "\n",
        "Write a little code to test your new class."
      ],
      "metadata": {
        "collapsed": false,
        "pycharm": {
          "name": "#%% md\n"
        },
        "id": "DcpH1nvJfSzP"
      }
    },
    {
      "cell_type": "code",
      "execution_count": 4,
      "outputs": [
        {
          "output_type": "stream",
          "name": "stdout",
          "text": [
            "Asteroid id: 54339244, name: (2023 BO), estimated diameter: {'estimated_diameter_min': 51.8268694616, 'estimated_diameter_max': 115.8884031771}, is potentially hazardous: False\n"
          ]
        }
      ],
      "source": [
        "# Ex.1 your code here\n",
        "class Asteroid:\n",
        "\n",
        "  def __init__(self, id, name, estimated_diameter, is_potentially_hazardous):\n",
        "    self.id = id\n",
        "    self.name = name\n",
        "    self.estimated_diameter = estimated_diameter\n",
        "    self.is_potentially_hazardous = is_potentially_hazardous\n",
        "\n",
        "  def __str__(self):\n",
        "    return f'Asteroid id: {self.id}, name: {self.name}, estimated diameter: {self.estimated_diameter}, is potentially hazardous: {self.is_potentially_hazardous}'\n",
        "\n",
        "  def __repr__(self):\n",
        "    return f'Asteroid id={self.id}, name={self.name}, estimated diamter={self.estimated_diameter}, is potentially hazardous={self.is_potentially_hazardous}'\n",
        "\n",
        "asteroid = Asteroid(neo['id'], neo['name'], neo['estimated_diameter']['meters'], neo['is_potentially_hazardous_asteroid'])\n",
        "print(asteroid)\n"
      ],
      "metadata": {
        "pycharm": {
          "name": "#%%\n"
        },
        "ExecuteTime": {
          "end_time": "2024-01-04T04:11:12.891665Z",
          "start_time": "2024-01-04T04:11:12.889274Z"
        },
        "id": "FklvnAw4fSzQ",
        "colab": {
          "base_uri": "https://localhost:8080/"
        },
        "outputId": "2939f9f4-2280-4e2d-b1e5-fce0e427f697"
      }
    },
    {
      "cell_type": "markdown",
      "source": [
        "## Exercise 2: Make a histogram\n",
        "\n",
        "Create a list of all the Asteroid objects from this week's NEO feed and use the list to create a histogram to visualize the distribution of Asteroid diameters.  To create the historgram use the `hist()` method in the `matplotlib.pyplot` module."
      ],
      "metadata": {
        "id": "1BIePZEEVbhK"
      }
    },
    {
      "cell_type": "code",
      "source": [
        "# Ex. 2 your code here\n",
        "asteroids = []\n",
        "for neo in neos:\n",
        "  asteroids.append(Asteroid(neo['id'], neo['name'], neo['estimated_diameter']['meters'], neo['is_potentially_hazardous_asteroid']))\n",
        "\n",
        "print(len(asteroids))\n",
        "pprint(asteroids)"
      ],
      "metadata": {
        "id": "orJxuk8nVd_B",
        "colab": {
          "base_uri": "https://localhost:8080/"
        },
        "outputId": "adeff506-18b8-4d3c-f1e0-aae246d0920f"
      },
      "execution_count": 7,
      "outputs": [
        {
          "output_type": "stream",
          "name": "stdout",
          "text": [
            "117\n",
            "[Asteroid id=3370021, name=(2007 EC), estimated diamter={'estimated_diameter_min': 95.1820329819, 'estimated_diameter_max': 212.8334959841}, is potentially hazardous=False,\n",
            " Asteroid id=3554439, name=(2010 YO), estimated diamter={'estimated_diameter_min': 31.9561886721, 'estimated_diameter_max': 71.4562101727}, is potentially hazardous=False,\n",
            " Asteroid id=3767162, name=(2017 BL30), estimated diamter={'estimated_diameter_min': 59.2318062676, 'estimated_diameter_max': 132.4463452445}, is potentially hazardous=False,\n",
            " Asteroid id=3883106, name=(2019 UD8), estimated diamter={'estimated_diameter_min': 61.4546821229, 'estimated_diameter_max': 137.4168467624}, is potentially hazardous=False,\n",
            " Asteroid id=54110694, name=(2021 CS2), estimated diamter={'estimated_diameter_min': 4.0230457983, 'estimated_diameter_max': 8.9958038817}, is potentially hazardous=False,\n",
            " Asteroid id=54137811, name=(2021 GP16), estimated diamter={'estimated_diameter_min': 108.7814833562, 'estimated_diameter_max': 243.2427914778}, is potentially hazardous=True,\n",
            " Asteroid id=54336231, name=(2022 YJ2), estimated diamter={'estimated_diameter_min': 99.2098919421, 'estimated_diameter_max': 221.8400624229}, is potentially hazardous=False,\n",
            " Asteroid id=54338828, name=(2023 AE1), estimated diamter={'estimated_diameter_min': 9.8754063894, 'estimated_diameter_max': 22.0820799921}, is potentially hazardous=False,\n",
            " Asteroid id=54339972, name=(2023 BH2), estimated diamter={'estimated_diameter_min': 8.6011194012, 'estimated_diameter_max': 19.2326876637}, is potentially hazardous=False,\n",
            " Asteroid id=54340099, name=(2023 BY3), estimated diamter={'estimated_diameter_min': 45.9785188279, 'estimated_diameter_max': 102.811093604}, is potentially hazardous=False,\n",
            " Asteroid id=54340444, name=(2023 BN8), estimated diamter={'estimated_diameter_min': 17.4002295067, 'estimated_diameter_max': 38.9080960011}, is potentially hazardous=False,\n",
            " Asteroid id=54340712, name=(2023 BW9), estimated diamter={'estimated_diameter_min': 122.6182113181, 'estimated_diameter_max': 274.1826557868}, is potentially hazardous=False,\n",
            " Asteroid id=54341485, name=(2023 CO1), estimated diamter={'estimated_diameter_min': 183.8886720703, 'estimated_diameter_max': 411.1875710413}, is potentially hazardous=False,\n",
            " Asteroid id=54341543, name=(2023 CD2), estimated diamter={'estimated_diameter_min': 68.9532874451, 'estimated_diameter_max': 154.1842379994}, is potentially hazardous=False,\n",
            " Asteroid id=2139345, name=139345 (2001 KA67), estimated diamter={'estimated_diameter_min': 1192.7652464423, 'estimated_diameter_max': 2667.1041722442}, is potentially hazardous=False,\n",
            " Asteroid id=3392297, name=(2007 UB66), estimated diamter={'estimated_diameter_min': 483.6764882185, 'estimated_diameter_max': 1081.533506775}, is potentially hazardous=False,\n",
            " Asteroid id=3734647, name=(2015 VE106), estimated diamter={'estimated_diameter_min': 36.6906137531, 'estimated_diameter_max': 82.0427064882}, is potentially hazardous=False,\n",
            " Asteroid id=54087767, name=(2020 VA4), estimated diamter={'estimated_diameter_min': 8.6807045791, 'estimated_diameter_max': 19.4106455316}, is potentially hazardous=False,\n",
            " Asteroid id=54328941, name=(2022 WS4), estimated diamter={'estimated_diameter_min': 256.1857544793, 'estimated_diameter_max': 572.8487618827}, is potentially hazardous=True,\n",
            " Asteroid id=54335605, name=(2022 YP1), estimated diamter={'estimated_diameter_min': 179.7028548592, 'estimated_diameter_max': 401.8277992159}, is potentially hazardous=False,\n",
            " Asteroid id=54338712, name=(2023 AT), estimated diamter={'estimated_diameter_min': 10.3885510102, 'estimated_diameter_max': 23.2295062464}, is potentially hazardous=False,\n",
            " Asteroid id=54339963, name=(2023 BZ1), estimated diamter={'estimated_diameter_min': 16.617090174, 'estimated_diameter_max': 37.1569432173}, is potentially hazardous=False,\n",
            " Asteroid id=54340042, name=(2023 BW2), estimated diamter={'estimated_diameter_min': 26.7026877056, 'estimated_diameter_max': 59.7090248917}, is potentially hazardous=False,\n",
            " Asteroid id=54340261, name=(2023 BJ5), estimated diamter={'estimated_diameter_min': 5.7883525749, 'estimated_diameter_max': 12.9431498352}, is potentially hazardous=False,\n",
            " Asteroid id=54340276, name=(2023 BY5), estimated diamter={'estimated_diameter_min': 36.3542321843, 'estimated_diameter_max': 81.290534434}, is potentially hazardous=False,\n",
            " Asteroid id=54340801, name=(2023 CN), estimated diamter={'estimated_diameter_min': 44.3154309096, 'estimated_diameter_max': 99.0923159661}, is potentially hazardous=False,\n",
            " Asteroid id=54487279, name=(2024 TQ2), estimated diamter={'estimated_diameter_min': 24.5784774633, 'estimated_diameter_max': 54.9591463913}, is potentially hazardous=False,\n",
            " Asteroid id=2483422, name=483422 (2000 CE59), estimated diamter={'estimated_diameter_min': 208.2355990473, 'estimated_diameter_max': 465.6289548051}, is potentially hazardous=True,\n",
            " Asteroid id=3402610, name=(2008 CH116), estimated diamter={'estimated_diameter_min': 372.0103103398, 'estimated_diameter_max': 831.8403422506}, is potentially hazardous=False,\n",
            " Asteroid id=3581556, name=(2011 TK5), estimated diamter={'estimated_diameter_min': 69.5913043585, 'estimated_diameter_max': 155.6108871884}, is potentially hazardous=False,\n",
            " Asteroid id=3792468, name=(2017 YH), estimated diamter={'estimated_diameter_min': 631.7641481849, 'estimated_diameter_max': 1412.6675810887}, is potentially hazardous=False,\n",
            " Asteroid id=54051141, name=(2020 QP), estimated diamter={'estimated_diameter_min': 42.1264610556, 'estimated_diameter_max': 94.1976305719}, is potentially hazardous=False,\n",
            " Asteroid id=54099945, name=(2020 XT4), estimated diamter={'estimated_diameter_min': 155.079708716, 'estimated_diameter_max': 346.7687706198}, is potentially hazardous=False,\n",
            " Asteroid id=54121906, name=(2021 CB9), estimated diamter={'estimated_diameter_min': 28.0902093949, 'estimated_diameter_max': 62.8116177092}, is potentially hazardous=False,\n",
            " Asteroid id=54225504, name=(2021 PL132), estimated diamter={'estimated_diameter_min': 6.0611492274, 'estimated_diameter_max': 13.5531416942}, is potentially hazardous=False,\n",
            " Asteroid id=54234943, name=(2022 AD), estimated diamter={'estimated_diameter_min': 36.1871996599, 'estimated_diameter_max': 80.917038355}, is potentially hazardous=False,\n",
            " Asteroid id=2613939, name=613939 (2008 CH116), estimated diamter={'estimated_diameter_min': 375.4524793607, 'estimated_diameter_max': 839.5372661714}, is potentially hazardous=False,\n",
            " Asteroid id=54291304, name=(2022 OK1), estimated diamter={'estimated_diameter_min': 36.0209345803, 'estimated_diameter_max': 80.5452583346}, is potentially hazardous=False,\n",
            " Asteroid id=54294124, name=(2022 PS1), estimated diamter={'estimated_diameter_min': 40.2304579834, 'estimated_diameter_max': 89.9580388169}, is potentially hazardous=False,\n",
            " Asteroid id=54298995, name=(2022 QB8), estimated diamter={'estimated_diameter_min': 17.9702854859, 'estimated_diameter_max': 40.1827799216}, is potentially hazardous=False,\n",
            " Asteroid id=54340045, name=(2023 BY2), estimated diamter={'estimated_diameter_min': 3.3616692116, 'estimated_diameter_max': 7.516920875}, is potentially hazardous=False,\n",
            " Asteroid id=54340320, name=(2023 BK7), estimated diamter={'estimated_diameter_min': 58.9596608383, 'estimated_diameter_max': 131.8378095647}, is potentially hazardous=False,\n",
            " Asteroid id=54340779, name=(2023 CH), estimated diamter={'estimated_diameter_min': 23.2570687455, 'estimated_diameter_max': 52.0043866724}, is potentially hazardous=False,\n",
            " Asteroid id=2678861, name=678861 (2017 YH), estimated diamter={'estimated_diameter_min': 631.7641481849, 'estimated_diameter_max': 1412.6675810887}, is potentially hazardous=False,\n",
            " Asteroid id=54469548, name=(2024 RU9), estimated diamter={'estimated_diameter_min': 23.5806068, 'estimated_diameter_max': 52.7278397554}, is potentially hazardous=False,\n",
            " Asteroid id=2452313, name=452313 (1998 XR16), estimated diamter={'estimated_diameter_min': 506.4714588346, 'estimated_diameter_max': 1132.5046106177}, is potentially hazardous=False,\n",
            " Asteroid id=3712626, name=(2015 DG200), estimated diamter={'estimated_diameter_min': 92.5880583366, 'estimated_diameter_max': 207.0331923453}, is potentially hazardous=False,\n",
            " Asteroid id=3769883, name=(2017 DW35), estimated diamter={'estimated_diameter_min': 96.0627414896, 'estimated_diameter_max': 214.8028200758}, is potentially hazardous=False,\n",
            " Asteroid id=3837976, name=(2019 BR1), estimated diamter={'estimated_diameter_min': 202.5606008648, 'estimated_diameter_max': 452.9392730968}, is potentially hazardous=False,\n",
            " Asteroid id=3968769, name=(2020 AG), estimated diamter={'estimated_diameter_min': 15.2951935344, 'estimated_diameter_max': 34.201092472}, is potentially hazardous=False,\n",
            " Asteroid id=54054451, name=(2020 SP), estimated diamter={'estimated_diameter_min': 10.1054341542, 'estimated_diameter_max': 22.5964377109}, is potentially hazardous=False,\n",
            " Asteroid id=54109178, name=(2021 CF), estimated diamter={'estimated_diameter_min': 18.388867207, 'estimated_diameter_max': 41.1187571041}, is potentially hazardous=False,\n",
            " Asteroid id=54194972, name=(2021 RK7), estimated diamter={'estimated_diameter_min': 37.5452479361, 'estimated_diameter_max': 83.9537266171}, is potentially hazardous=False,\n",
            " Asteroid id=54298759, name=(2015 MT200), estimated diamter={'estimated_diameter_min': 72.8710414898, 'estimated_diameter_max': 162.9446023625}, is potentially hazardous=False,\n",
            " Asteroid id=54290698, name=(2022 OK), estimated diamter={'estimated_diameter_min': 5.7883525749, 'estimated_diameter_max': 12.9431498352}, is potentially hazardous=False,\n",
            " Asteroid id=54317880, name=(2022 UG4), estimated diamter={'estimated_diameter_min': 117.09948272, 'estimated_diameter_max': 261.8424034921}, is potentially hazardous=False,\n",
            " Asteroid id=54321077, name=(2022 UU11), estimated diamter={'estimated_diameter_min': 163.8909514948, 'estimated_diameter_max': 366.4713084395}, is potentially hazardous=True,\n",
            " Asteroid id=54335457, name=(2022 YX), estimated diamter={'estimated_diameter_min': 144.7288051255, 'estimated_diameter_max': 323.623446563}, is potentially hazardous=False,\n",
            " Asteroid id=54336803, name=(2022 YP4), estimated diamter={'estimated_diameter_min': 23.7987954683, 'estimated_diameter_max': 53.2157244498}, is potentially hazardous=False,\n",
            " Asteroid id=54338661, name=(2023 AH), estimated diamter={'estimated_diameter_min': 4.9040509842, 'estimated_diameter_max': 10.9657913657}, is potentially hazardous=False,\n",
            " Asteroid id=54338671, name=(2023 AK), estimated diamter={'estimated_diameter_min': 7.4912618313, 'estimated_diameter_max': 16.750970692}, is potentially hazardous=False,\n",
            " Asteroid id=54339964, name=(2023 BA2), estimated diamter={'estimated_diameter_min': 22.0067027115, 'estimated_diameter_max': 49.2084832235}, is potentially hazardous=False,\n",
            " Asteroid id=54340106, name=(2023 BE4), estimated diamter={'estimated_diameter_min': 19.5233786156, 'estimated_diameter_max': 43.655601735}, is potentially hazardous=False,\n",
            " Asteroid id=54340429, name=(2023 BT7), estimated diamter={'estimated_diameter_min': 51.1157781544, 'estimated_diameter_max': 114.2983546761}, is potentially hazardous=False,\n",
            " Asteroid id=54357453, name=(2023 AN6), estimated diamter={'estimated_diameter_min': 1.9704026214, 'estimated_diameter_max': 4.4059542044}, is potentially hazardous=False,\n",
            " Asteroid id=54416849, name=(2023 XN13), estimated diamter={'estimated_diameter_min': 6.2023315295, 'estimated_diameter_max': 13.868834919}, is potentially hazardous=False,\n",
            " Asteroid id=54471060, name=(2024 RS15), estimated diamter={'estimated_diameter_min': 39.496169372, 'estimated_diameter_max': 88.3161195666}, is potentially hazardous=False,\n",
            " Asteroid id=2526826, name=526826 (2007 CA27), estimated diamter={'estimated_diameter_min': 147.4195145042, 'estimated_diameter_max': 329.6400556414}, is potentially hazardous=False,\n",
            " Asteroid id=3477703, name=(2009 WQ6), estimated diamter={'estimated_diameter_min': 3.8419789106, 'estimated_diameter_max': 8.5909260123}, is potentially hazardous=False,\n",
            " Asteroid id=3582523, name=(2011 UC64), estimated diamter={'estimated_diameter_min': 6.9912523225, 'estimated_diameter_max': 15.6329154409}, is potentially hazardous=False,\n",
            " Asteroid id=3596030, name=(2012 BV13), estimated diamter={'estimated_diameter_min': 92.5880583366, 'estimated_diameter_max': 207.0331923453}, is potentially hazardous=False,\n",
            " Asteroid id=3729233, name=(2015 TG24), estimated diamter={'estimated_diameter_min': 12.2618211318, 'estimated_diameter_max': 27.4182655787}, is potentially hazardous=False,\n",
            " Asteroid id=3799000, name=(2018 CN), estimated diamter={'estimated_diameter_min': 13.9493822934, 'estimated_diameter_max': 31.1917670523}, is potentially hazardous=False,\n",
            " Asteroid id=3843115, name=(2019 NM1), estimated diamter={'estimated_diameter_min': 158.691979174, 'estimated_diameter_max': 354.846052917}, is potentially hazardous=False,\n",
            " Asteroid id=3989079, name=(2020 BF4), estimated diamter={'estimated_diameter_min': 244.655496172, 'estimated_diameter_max': 547.0663205095}, is potentially hazardous=False,\n",
            " Asteroid id=54016324, name=(2020 FN3), estimated diamter={'estimated_diameter_min': 35.3634784299, 'estimated_diameter_max': 79.07514169}, is potentially hazardous=False,\n",
            " Asteroid id=54167167, name=(2021 NO2), estimated diamter={'estimated_diameter_min': 15.1549663572, 'estimated_diameter_max': 33.8875349715}, is potentially hazardous=False,\n",
            " Asteroid id=54231240, name=(2021 CH37), estimated diamter={'estimated_diameter_min': 6.8007212874, 'estimated_diameter_max': 15.2068750946}, is potentially hazardous=False,\n",
            " Asteroid id=54336899, name=(2022 YB5), estimated diamter={'estimated_diameter_min': 28.0902093949, 'estimated_diameter_max': 62.8116177092}, is potentially hazardous=False,\n",
            " Asteroid id=54338670, name=(2023 AJ), estimated diamter={'estimated_diameter_min': 30.9424698617, 'estimated_diameter_max': 69.1894660026}, is potentially hazardous=False,\n",
            " Asteroid id=54338715, name=(2023 AX), estimated diamter={'estimated_diameter_min': 6.4647982561, 'estimated_diameter_max': 14.4557283615}, is potentially hazardous=False,\n",
            " Asteroid id=54353681, name=(2023 FG14), estimated diamter={'estimated_diameter_min': 110.8038821264, 'estimated_diameter_max': 247.7650126055}, is potentially hazardous=True,\n",
            " Asteroid id=2509352, name=509352 (2007 AG), estimated diamter={'estimated_diameter_min': 246.9192656061, 'estimated_diameter_max': 552.1282628496}, is potentially hazardous=True,\n",
            " Asteroid id=3725659, name=(2015 PA57), estimated diamter={'estimated_diameter_min': 33.4622374455, 'estimated_diameter_max': 74.8238376074}, is potentially hazardous=False,\n",
            " Asteroid id=3753290, name=(2016 JT28), estimated diamter={'estimated_diameter_min': 48.3676488219, 'estimated_diameter_max': 108.1533506775}, is potentially hazardous=False,\n",
            " Asteroid id=3791015, name=(2017 XS), estimated diamter={'estimated_diameter_min': 76.6575573531, 'estimated_diameter_max': 171.4115092306}, is potentially hazardous=False,\n",
            " Asteroid id=3892189, name=(2019 UC14), estimated diamter={'estimated_diameter_min': 57.3528463953, 'estimated_diameter_max': 128.2448632429}, is potentially hazardous=False,\n",
            " Asteroid id=3986732, name=(2020 BP), estimated diamter={'estimated_diameter_min': 19.7949758664, 'estimated_diameter_max': 44.2629116503}, is potentially hazardous=False,\n",
            " Asteroid id=54106083, name=(2021 BA), estimated diamter={'estimated_diameter_min': 16.7708462163, 'estimated_diameter_max': 37.5007521798}, is potentially hazardous=False,\n",
            " Asteroid id=54239847, name=(2022 BN1), estimated diamter={'estimated_diameter_min': 12.5474356368, 'estimated_diameter_max': 28.0569190272}, is potentially hazardous=False,\n",
            " Asteroid id=54303338, name=(2022 RE4), estimated diamter={'estimated_diameter_min': 205.3784995184, 'estimated_diameter_max': 459.2402860401}, is potentially hazardous=True,\n",
            " Asteroid id=54339213, name=(2023 BF), estimated diamter={'estimated_diameter_min': 16.9260249457, 'estimated_diameter_max': 37.8477423675}, is potentially hazardous=False,\n",
            " Asteroid id=54339215, name=(2023 BJ), estimated diamter={'estimated_diameter_min': 107.7841687222, 'estimated_diameter_max': 241.0127281611}, is potentially hazardous=False,\n",
            " Asteroid id=54339243, name=(2023 BN), estimated diamter={'estimated_diameter_min': 26.0948603255, 'estimated_diameter_max': 58.3498815511}, is potentially hazardous=False,\n",
            " Asteroid id=54339875, name=(2023 BN1), estimated diamter={'estimated_diameter_min': 17.4805453169, 'estimated_diameter_max': 39.0876876124}, is potentially hazardous=False,\n",
            " Asteroid id=54339879, name=(2023 BQ1), estimated diamter={'estimated_diameter_min': 29.1443904535, 'estimated_diameter_max': 65.1688382168}, is potentially hazardous=False,\n",
            " Asteroid id=54340389, name=(2023 BR7), estimated diamter={'estimated_diameter_min': 7.5605776236, 'estimated_diameter_max': 16.9059655155}, is potentially hazardous=False,\n",
            " Asteroid id=54341468, name=(2023 BL10), estimated diamter={'estimated_diameter_min': 11.709948272, 'estimated_diameter_max': 26.1842403492}, is potentially hazardous=False,\n",
            " Asteroid id=3709774, name=(2015 BR515), estimated diamter={'estimated_diameter_min': 92.1626548503, 'estimated_diameter_max': 206.0819612321}, is potentially hazardous=False,\n",
            " Asteroid id=3736807, name=(2015 YA), estimated diamter={'estimated_diameter_min': 8.801465209, 'estimated_diameter_max': 19.6806745089}, is potentially hazardous=False,\n",
            " Asteroid id=3740823, name=(2016 BL1), estimated diamter={'estimated_diameter_min': 102.4601474676, 'estimated_diameter_max': 229.1078547221}, is potentially hazardous=False,\n",
            " Asteroid id=3748418, name=(2016 FL12), estimated diamter={'estimated_diameter_min': 14.6067964271, 'estimated_diameter_max': 32.6617897446}, is potentially hazardous=False,\n",
            " Asteroid id=3757410, name=(2016 PA40), estimated diamter={'estimated_diameter_min': 33.6166921158, 'estimated_diameter_max': 75.1692087496}, is potentially hazardous=False,\n",
            " Asteroid id=3836857, name=(2018 XQ2), estimated diamter={'estimated_diameter_min': 6.0891262211, 'estimated_diameter_max': 13.6157001539}, is potentially hazardous=False,\n",
            " Asteroid id=3844004, name=(2019 SP2), estimated diamter={'estimated_diameter_min': 41.7402433392, 'estimated_diameter_max': 93.3340215038}, is potentially hazardous=False,\n",
            " Asteroid id=3986679, name=(2020 AK3), estimated diamter={'estimated_diameter_min': 15.796285576, 'estimated_diameter_max': 35.3215683399}, is potentially hazardous=False,\n",
            " Asteroid id=54232321, name=(2022 AB), estimated diamter={'estimated_diameter_min': 50.6471458835, 'estimated_diameter_max': 113.2504610618}, is potentially hazardous=False,\n",
            " Asteroid id=54248639, name=(2022 DA4), estimated diamter={'estimated_diameter_min': 50.182810059, 'estimated_diameter_max': 112.2121745938}, is potentially hazardous=False,\n",
            " Asteroid id=54338708, name=(2023 AQ), estimated diamter={'estimated_diameter_min': 73.884778657, 'estimated_diameter_max': 165.2113875797}, is potentially hazardous=False,\n",
            " Asteroid id=54339765, name=(2023 BB1), estimated diamter={'estimated_diameter_min': 57.0893340024, 'estimated_diameter_max': 127.6556316195}, is potentially hazardous=False,\n",
            " Asteroid id=54340258, name=(2023 BF5), estimated diamter={'estimated_diameter_min': 57.0893340024, 'estimated_diameter_max': 127.6556316195}, is potentially hazardous=False,\n",
            " Asteroid id=54468274, name=(2024 RF2), estimated diamter={'estimated_diameter_min': 25.974965333, 'estimated_diameter_max': 58.0817881978}, is potentially hazardous=False,\n",
            " Asteroid id=3605885, name=(2012 MO3), estimated diamter={'estimated_diameter_min': 176.4229081128, 'estimated_diameter_max': 394.4936153285}, is potentially hazardous=False,\n",
            " Asteroid id=3797409, name=(2018 AV), estimated diamter={'estimated_diameter_min': 52.3064175804, 'estimated_diameter_max': 116.9607053693}, is potentially hazardous=False,\n",
            " Asteroid id=54054597, name=(2020 SW3), estimated diamter={'estimated_diameter_min': 11.0803882126, 'estimated_diameter_max': 24.7765012606}, is potentially hazardous=False,\n",
            " Asteroid id=54339244, name=(2023 BO), estimated diamter={'estimated_diameter_min': 51.8268694616, 'estimated_diameter_max': 115.8884031771}, is potentially hazardous=False,\n",
            " Asteroid id=54339874, name=(2023 BM1), estimated diamter={'estimated_diameter_min': 28.3501249023, 'estimated_diameter_max': 63.3928064522}, is potentially hazardous=False]\n"
          ]
        }
      ]
    },
    {
      "cell_type": "markdown",
      "source": [
        "## Exercise 3: Use `@dataclass` and `@classmethod` to do the same thing\n",
        "\n",
        "Now that you know how to define a simple class, we are going to use a use decorators to simplify (ie. shorten) our class definitions.  You will redefine the Asteroid class in this exercise.  Note that having two different definitions of a class in a single piece of code is very bad practice. I am asking you to do it here just so that you can see the differt ways to define classes.\n",
        "\n",
        " 1. Use the `@dataclass` decorator from the `dataclasses` module to define the Asteroid class.  The `@dataclass` decorator will automatically generate some of the commonly used methods, like `__init()__`, `__repr()__`, and `__eq()__`.  The definition should start like this:\n",
        "    ```\n",
        "    @dataclass\n",
        "    class Asteroid:\n",
        "      ...\n",
        "    ```\n",
        "Write a little code to test your new class.\n",
        "  \n",
        "\n",
        " 2. Use the `@classmethod` decorator to construct a `from_NEO()` 'factory method' inside your Asteroid class that creates Asteroid objects from the NEO API.  The method should take the id for a single NEO, fetche the NEO record from API, constructs a single Asteroid object, and return the Asteroid object representing that NEO.  This kind of method is called a “Factory” because it constructs an object from raw materials.  The object factory method should start like this:\n",
        "    ```\n",
        "    @classmethod\n",
        "    from_NEO(cls, neo_id):\n",
        "        ...\n",
        "    ```\n",
        "Write a little code to test your new method.\n",
        "\n",
        " 3. Use your new Asteroid class to create a list of Asteroid objects.  Use this list to create the same historgram as in Exercise 2.  \n",
        "\n",
        "\n"
      ],
      "metadata": {
        "id": "oae6EWIhQW76"
      }
    },
    {
      "cell_type": "code",
      "source": [
        "# Ex.3 your code here"
      ],
      "metadata": {
        "id": "ygUi21mXX25Y"
      },
      "execution_count": null,
      "outputs": []
    },
    {
      "cell_type": "markdown",
      "source": [
        "## Challenge Exercise:\n",
        "\n",
        "One of your esteemed astromoner collegues has a theory that there is a correlation between the diameter and the orbital period of an asteroid.  Add the `orbital_period` data from the NEO API to your Asteroid class definition and use it to plot the orbital period (in years) versus the estimated diameter (in m) of all the asteroids from this week's NEO record.  Do you see a correlation?"
      ],
      "metadata": {
        "id": "4TznF_wiZJqu"
      }
    },
    {
      "cell_type": "code",
      "source": [
        "# Ex. Challenge your code here"
      ],
      "metadata": {
        "id": "bXJbBGDHZWjP"
      },
      "execution_count": null,
      "outputs": []
    }
  ]
}