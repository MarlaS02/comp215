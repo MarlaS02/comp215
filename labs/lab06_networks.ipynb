{
  "nbformat": 4,
  "nbformat_minor": 0,
  "metadata": {
    "kernelspec": {
      "display_name": "Python 3.8.3 32-bit",
      "language": "python",
      "name": "python_defaultSpec_1593786317828"
    },
    "language_info": {
      "codemirror_mode": {
        "name": "ipython",
        "version": 3
      },
      "file_extension": ".py",
      "mimetype": "text/x-python",
      "name": "python",
      "nbconvert_exporter": "python",
      "pygments_lexer": "ipython3",
      "version": "3.7.6"
    },
    "colab": {
      "provenance": [],
      "include_colab_link": true
    }
  },
  "cells": [
    {
      "cell_type": "markdown",
      "metadata": {
        "id": "view-in-github",
        "colab_type": "text"
      },
      "source": [
        "<a href=\"https://colab.research.google.com/github/MarlaS02/comp215/blob/main/labs/lab06_networks.ipynb\" target=\"_parent\"><img src=\"https://colab.research.google.com/assets/colab-badge.svg\" alt=\"Open In Colab\"/></a>"
      ]
    },
    {
      "cell_type": "markdown",
      "source": [
        "COMP 215 - LAB 6\n",
        "----------------\n",
        "#### Name(s):\n",
        "#### Date:\n",
        "\n",
        "By the end of this lab you should be able to:\n",
        "  * create a Watts-Strogatz graph both from scratch and from the Networkx module\n",
        "  * measure the average clustering coefficient and path length of a network\n",
        "  * visualize summative data of a graph\n",
        "\n",
        "\n",
        "During this lab, you will be introduced to the following:\n",
        "  * numpy arrays\n",
        "  * local file i/o in Google Colab\n",
        "\n",
        "(this lab is based on workbooks provided in Allen Downey's 'Think Complexity')"
      ],
      "metadata": {
        "id": "PbDMwwMgFNX1"
      }
    },
    {
      "cell_type": "markdown",
      "metadata": {
        "id": "TJiS-F9RzzdV"
      },
      "source": [
        "## Social Networking\n",
        "\n",
        "This lab uses graphs to explore social networks using Facebook data.  In this lab you will create a simulated model of the network using a Watts-Strogatz graph and compare some properties of the simulated network and the real Facebook network."
      ]
    },
    {
      "cell_type": "code",
      "source": [
        "# put your imports here"
      ],
      "metadata": {
        "id": "xXutG9U4uFwC"
      },
      "execution_count": null,
      "outputs": []
    },
    {
      "cell_type": "code",
      "source": [
        "import numpy as np\n",
        "import networkx as nx\n",
        "import random\n",
        "from collections import deque"
      ],
      "metadata": {
        "id": "-WCMvBZiuIOV"
      },
      "execution_count": 1,
      "outputs": []
    },
    {
      "cell_type": "markdown",
      "metadata": {
        "id": "erejuo3kzzdV"
      },
      "source": [
        "## Get the Facebook Data\n",
        "\n",
        "Stanford Network Analysis Platform (SNAP) is a general purpose network analysis and graph mining library.  In previous labs, we have used APIs to access data.  For this lab, we will copy the data to a local file.  Download the ```facebook_combined.txt.gz``` file from [SNAP](https://snap.stanford.edu/data/egonets-Facebook.html), unzip it, and copy ```facebook_combined.txt``` to the ```Files``` folder in Colab.  \n",
        "\n",
        "Look at the content of the file and read the SNAP webpage to understand what the data represents before moving on to the rest of the lab."
      ]
    },
    {
      "cell_type": "markdown",
      "source": [
        "## Exercise 1: Make Facebook Graph\n",
        "\n",
        "Write a function that reads the file, one edge per line, specified by the two integer node IDs given in each line of the file and returns a ```networkx``` graph representing the data.  You can do this with Python's built-in file handling, or you could use ```numpy```'s ```loadtxt``` function.  Write a unit test to check that the network has 4039 nodes and 88234 edges (as given in the Dataset Statistics on the SNAP site) and draw the Facebook network (this takes about a minute).\n"
      ],
      "metadata": {
        "id": "Efqf1iZusG9l"
      }
    },
    {
      "cell_type": "code",
      "source": [
        "# Ex 1 code here\n",
        "\n",
        "import gzip\n",
        "\n",
        "def read_graph_from_file(file_path):\n",
        "\n",
        "    G = nx.Graph()\n",
        "\n",
        "    with gzip.open(file_path, 'r') as file:\n",
        "        for line in file:\n",
        "            line = line.strip()\n",
        "\n",
        "            if not line:\n",
        "                continue\n",
        "\n",
        "            node1, node2 = map(int, line.split())\n",
        "\n",
        "            G.add_edge(node1, node2)\n",
        "\n",
        "    return G\n",
        "\n",
        "file_path = 'facebook_combined.txt'\n",
        "graph = read_graph_from_file(file_path)\n",
        "\n",
        "print(graph)\n"
      ],
      "metadata": {
        "id": "bWXTcAS5tiA_",
        "outputId": "e8017f80-aac0-4b9b-c0a0-4a709d02f6b7",
        "colab": {
          "base_uri": "https://localhost:8080/"
        }
      },
      "execution_count": 5,
      "outputs": [
        {
          "output_type": "stream",
          "name": "stdout",
          "text": [
            "Graph with 4039 nodes and 88234 edges\n"
          ]
        }
      ]
    },
    {
      "cell_type": "markdown",
      "metadata": {
        "id": "OXPh29uSzzde"
      },
      "source": [
        "## Exercise 2: Clustering Coefficients\n",
        "\n",
        "With larger graphs, it can take a long time to compute clustering coefficients and path lengths. We can estimate them by sampling without much loss of accuracy if the sample size is large enough.  Write a function that calculates the average clustering coeffient for a random subset of a N pairs of nodes in a network.  You may use the ```node_clustering``` and ```all_pairs``` functions from Chapter 5 of the textbook.  You may also use the ```numpy``` module to calculate the mean; note that there is a ```nanmean``` function.\n",
        "\n",
        "Check that your clustering coeffients function gives a similar answer to the ```networkx``` ```average_clustering``` function.\n"
      ]
    },
    {
      "cell_type": "code",
      "source": [
        "# Ex 2 code here"
      ],
      "metadata": {
        "id": "4ECxHRHA38GQ"
      },
      "execution_count": null,
      "outputs": []
    },
    {
      "cell_type": "markdown",
      "metadata": {
        "id": "QTTwpgCqzzdi"
      },
      "source": [
        "## Exercise 3: Average Shortest Path Length\n",
        "\n",
        "Write a function that calculates the average shortest path length for all pairs of nodes in a network.  You may use the ```shortest_path_dijkstra``` function from Chapter 5 of the textbook.  Using that function, it took my algorithm about 2 minutes to find the average shortest path over all pairs of nodes.\n",
        "\n",
        "\n",
        "Check that your average shortest path length function gives a similar answer to the ```networkx``` ```average_shortest_path_length``` function.\n"
      ]
    },
    {
      "cell_type": "code",
      "source": [
        "# Ex 3 code here"
      ],
      "metadata": {
        "id": "mjUys_tj6xV2"
      },
      "execution_count": null,
      "outputs": []
    },
    {
      "cell_type": "markdown",
      "source": [
        "Here is a function from the textbook that takes a sample of path lengths to estimate the average shortest path length.  You may use this in the rest of the lab so that you don't need to wait for the whole full averaging algorithms above to run."
      ],
      "metadata": {
        "id": "sBkY9Y2RRPA8"
      }
    },
    {
      "cell_type": "code",
      "metadata": {
        "id": "hhco0N1Wzzdj"
      },
      "source": [
        "\n",
        "def sample_path_lengths(G, nodes=None, trials=100):\n",
        "    \"\"\"Choose random pairs of nodes and compute the path length between them.\n",
        "    G: Graph\n",
        "    N: number of pairs to choose\n",
        "    returns: list of path lengths\n",
        "    \"\"\"\n",
        "    if nodes is None:\n",
        "        nodes = list(G)\n",
        "    else:\n",
        "        nodes = list(nodes)\n",
        "\n",
        "    pairs = np.random.choice(nodes, (trials, 2))\n",
        "    lengths = [nx.shortest_path_length(G, *pair)\n",
        "               for pair in pairs]\n",
        "    return lengths\n",
        "\n",
        "def estimate_path_length(G, nodes=None, trials=1000):\n",
        "    return np.mean(sample_path_lengths(G, nodes, trials))"
      ],
      "execution_count": null,
      "outputs": []
    },
    {
      "cell_type": "markdown",
      "source": [
        "In the exercises above, you should have found that the Facebook network has an average clustering coefficient around 0.6 and an average shortest path length of around 3.7. Note that this corresponds to a 'degree of separation' of less than 6.   "
      ],
      "metadata": {
        "id": "mwX8KqjbRumD"
      }
    },
    {
      "cell_type": "markdown",
      "metadata": {
        "id": "m4eI_fYczzds"
      },
      "source": [
        "## Exercise 4: WS Graph\n",
        "\n",
        "Construct a WS graph with the same number of nodes and average degree as the Facebook network using the ```make_ws_graph``` function from Chapter 5.  Find the value of p (probability of rewire) that reproduces a clustering coefficient and average shortest path length of the Facebook network.  (Note that there is a ```nx.watts_strogatz_graph``` that you may use after you have demonstrated that you can create a WS graph using the functions from Chapter 5.).\n",
        "\n",
        "What could this value of p tell you about the actual social network that this Facebook data represents?  (Think about what p means in the model and what that would represent in the data.)"
      ]
    },
    {
      "cell_type": "code",
      "source": [
        "# Ex 4 code here"
      ],
      "metadata": {
        "id": "1lQ149MrVHhX"
      },
      "execution_count": null,
      "outputs": []
    }
  ]
}