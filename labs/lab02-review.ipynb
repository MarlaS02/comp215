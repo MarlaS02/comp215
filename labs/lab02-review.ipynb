{
  "nbformat": 4,
  "nbformat_minor": 0,
  "metadata": {
    "kernelspec": {
      "display_name": "Python 3",
      "language": "python",
      "name": "python3"
    },
    "language_info": {
      "codemirror_mode": {
        "name": "ipython",
        "version": 2
      },
      "file_extension": ".py",
      "mimetype": "text/x-python",
      "name": "python",
      "nbconvert_exporter": "python",
      "pygments_lexer": "ipython2",
      "version": "2.7.6"
    },
    "colab": {
      "provenance": [],
      "include_colab_link": true
    }
  },
  "cells": [
    {
      "cell_type": "markdown",
      "metadata": {
        "id": "view-in-github",
        "colab_type": "text"
      },
      "source": [
        "<a href=\"https://colab.research.google.com/github/MarlaS02/comp215/blob/main/labs/lab02-review.ipynb\" target=\"_parent\"><img src=\"https://colab.research.google.com/assets/colab-badge.svg\" alt=\"Open In Colab\"/></a>"
      ]
    },
    {
      "cell_type": "markdown",
      "source": [
        "COMP 215 - LAB 2\n",
        "----------------\n",
        "#### Nam(s):\n",
        "#### Date:\n",
        "\n",
        "By the end of this lab you should be able to:\n",
        "  * use strings, tuples, lists, and dictionaries (review)\n",
        "  * use *f-string* to simplify string formatting operations\n",
        "  * write functions and simple unit tests (review)\n",
        "  * use *list comprehension* to implement map and filter algorithms\n",
        "\n",
        "\n",
        "During this lab, you will be introduced to the following:\n",
        "  * API Keys\n",
        "  * JSON data formats\n",
        "  * the `datetime` module to represent dates and times\n",
        "  * the `pprint` module to format data structures"
      ],
      "metadata": {
        "id": "nbRPZPKZU5Pk"
      }
    },
    {
      "cell_type": "markdown",
      "source": [
        "## Near Earth Objects\n",
        "\n",
        "In this lab, we'll answer some questions about [Near Earth Objects](https://cneos.jpl.nasa.gov/) using NASA's API:  [https://api.nasa.gov/](https://api.nasa.gov/#NeoWS).  But, as usual, let's do the imports first.\n"
      ],
      "metadata": {
        "id": "UtWS08rgocwz"
      }
    },
    {
      "cell_type": "code",
      "execution_count": 2,
      "outputs": [],
      "source": [
        "import datetime, json, requests\n",
        "from pprint import pprint    # Pretty Print - built-in python function to nicely format data structures"
      ],
      "metadata": {
        "pycharm": {
          "name": "#%%\n"
        },
        "ExecuteTime": {
          "end_time": "2024-01-04T04:05:38.688434Z",
          "start_time": "2024-01-04T04:05:38.640552Z"
        },
        "id": "uckgiW6LmxA_"
      }
    },
    {
      "cell_type": "markdown",
      "source": [
        "### dates & f-strings\n",
        "\n",
        "First we need a short tutorial on python dates and [f-strings](https://realpython.com/python-f-strings/)..."
      ],
      "metadata": {
        "collapsed": false,
        "pycharm": {
          "name": "#%% md\n"
        },
        "id": "z7R9AVbYmxBA"
      }
    },
    {
      "cell_type": "code",
      "execution_count": 3,
      "outputs": [
        {
          "output_type": "stream",
          "name": "stdout",
          "text": [
            "2025-01-15 <class 'datetime.date'>\n",
            "Today is: 2025-01-15\n"
          ]
        }
      ],
      "source": [
        "today = datetime.date.today()   # get a date object representing today's date\n",
        "print(today, type(today))\n",
        "formatted_date = f'Today is: {today}'   # A format string - notice how the variable `today` is formatted into the string\n",
        "print(formatted_date)"
      ],
      "metadata": {
        "pycharm": {
          "name": "#%%\n"
        },
        "ExecuteTime": {
          "end_time": "2024-01-04T04:05:38.691283Z",
          "start_time": "2024-01-04T04:05:38.688366Z"
        },
        "colab": {
          "base_uri": "https://localhost:8080/"
        },
        "id": "FIqwOe5SmxBA",
        "outputId": "532a8284-91b5-4ebc-affc-7e7a9d1dd34e"
      }
    },
    {
      "cell_type": "markdown",
      "source": [
        "### Make an API Query\n",
        "\n",
        "Let's get some data from the NEO database; here's a query that gets the observation \"feed\" for today.  Notice the first line of the block is an 'API key'.  An API key is a unique identifier that authenticates a user when making a request to an API.  Run the block below using the API key 'DEMO_KEY' (just to be sure it works), then go to https://api.nasa.gov and get your own API key.  Use your own API key for the remainder of the lab."
      ],
      "metadata": {
        "collapsed": false,
        "pycharm": {
          "name": "#%% md\n"
        },
        "id": "NyY93KiOmxBB"
      }
    },
    {
      "cell_type": "code",
      "execution_count": 14,
      "outputs": [
        {
          "output_type": "stream",
          "name": "stdout",
          "text": [
            "{'links': {'next': 'http://api.nasa.gov/neo/rest/v1/feed?start_date=2023-09-11&end_date=2023-09-11&detailed=false&api_key=o2bsUdeZ6NhRHgHBxjC19Mxwj9QmkaykdtzGymNg', 'prev': 'http://api.nasa.gov/neo/rest/v1/feed?start_date=2023-09-09&end_date=2023-09-09&detailed=false&api_key=o2bsUdeZ6NhRHgHBxjC19Mxwj9QmkaykdtzGymNg', 'self': 'http://api.nasa.gov/neo/rest/v1/feed?start_date=2023-09-10&end_date=2023-09-10&detailed=false&api_key=o2bsUdeZ6NhRHgHBxjC19Mxwj9QmkaykdtzGymNg'}, 'element_count': 33, 'near_earth_objects': {'2023-09-10': [{'links': {'self': 'http://api.nasa.gov/neo/rest/v1/neo/2410627?api_key=o2bsUdeZ6NhRHgHBxjC19Mxwj9QmkaykdtzGymNg'}, 'id': '2410627', 'neo_reference_id': '2410627', 'name': '410627 (2008 RG1)', 'nasa_jpl_url': 'https://ssd.jpl.nasa.gov/tools/sbdb_lookup.html#/?sstr=2410627', 'absolute_magnitude_h': 20.89, 'estimated_diameter': {'kilometers': {'estimated_diameter_min': 0.1764229081, 'estimated_diameter_max': 0.3944936153}, 'meters': {'estimated_diameter_min': 176.4229081128, 'estimated_diameter_max': 394.4936153285}, 'miles': {'estimated_diameter_min': 0.1096240788, 'estimated_diameter_max': 0.2451268923}, 'feet': {'estimated_diameter_min': 578.8153338529, 'estimated_diameter_max': 1294.2704329143}}, 'is_potentially_hazardous_asteroid': True, 'close_approach_data': [{'close_approach_date': '2023-09-10', 'close_approach_date_full': '2023-Sep-10 05:56', 'epoch_date_close_approach': 1694325360000, 'relative_velocity': {'kilometers_per_second': '23.6353598087', 'kilometers_per_hour': '85087.2953114654', 'miles_per_hour': '52869.9363561714'}, 'miss_distance': {'astronomical': '0.3285068174', 'lunar': '127.7891519686', 'kilometers': '49143920.163518938', 'miles': '30536615.9879118244'}, 'orbiting_body': 'Earth'}], 'is_sentry_object': False}, {'links': {'self': 'http://api.nasa.gov/neo/rest/v1/neo/3029456?api_key=o2bsUdeZ6NhRHgHBxjC19Mxwj9QmkaykdtzGymNg'}, 'id': '3029456', 'neo_reference_id': '3029456', 'name': '(2000 AB6)', 'nasa_jpl_url': 'https://ssd.jpl.nasa.gov/tools/sbdb_lookup.html#/?sstr=3029456', 'absolute_magnitude_h': 22.4, 'estimated_diameter': {'kilometers': {'estimated_diameter_min': 0.0880146521, 'estimated_diameter_max': 0.1968067451}, 'meters': {'estimated_diameter_min': 88.0146520901, 'estimated_diameter_max': 196.8067450894}, 'miles': {'estimated_diameter_min': 0.0546897524, 'estimated_diameter_max': 0.122290004}, 'feet': {'estimated_diameter_min': 288.7619911632, 'estimated_diameter_max': 645.6914415591}}, 'is_potentially_hazardous_asteroid': False, 'close_approach_data': [{'close_approach_date': '2023-09-10', 'close_approach_date_full': '2023-Sep-10 09:04', 'epoch_date_close_approach': 1694336640000, 'relative_velocity': {'kilometers_per_second': '20.1453432449', 'kilometers_per_hour': '72523.2356816994', 'miles_per_hour': '45063.1183045537'}, 'miss_distance': {'astronomical': '0.3875421167', 'lunar': '150.7538833963', 'kilometers': '57975475.193611429', 'miles': '36024289.8167945602'}, 'orbiting_body': 'Earth'}], 'is_sentry_object': False}, {'links': {'self': 'http://api.nasa.gov/neo/rest/v1/neo/3651161?api_key=o2bsUdeZ6NhRHgHBxjC19Mxwj9QmkaykdtzGymNg'}, 'id': '3651161', 'neo_reference_id': '3651161', 'name': '(2013 TG135)', 'nasa_jpl_url': 'https://ssd.jpl.nasa.gov/tools/sbdb_lookup.html#/?sstr=3651161', 'absolute_magnitude_h': 25.2, 'estimated_diameter': {'kilometers': {'estimated_diameter_min': 0.0242412481, 'estimated_diameter_max': 0.0542050786}, 'meters': {'estimated_diameter_min': 24.2412481101, 'estimated_diameter_max': 54.2050786336}, 'miles': {'estimated_diameter_min': 0.0150628086, 'estimated_diameter_max': 0.0336814639}, 'feet': {'estimated_diameter_min': 79.5316564495, 'estimated_diameter_max': 177.8381901842}}, 'is_potentially_hazardous_asteroid': False, 'close_approach_data': [{'close_approach_date': '2023-09-10', 'close_approach_date_full': '2023-Sep-10 17:09', 'epoch_date_close_approach': 1694365740000, 'relative_velocity': {'kilometers_per_second': '18.7158019746', 'kilometers_per_hour': '67376.8871084603', 'miles_per_hour': '41865.3774369208'}, 'miss_distance': {'astronomical': '0.2533473416', 'lunar': '98.5521158824', 'kilometers': '37900222.673522392', 'miles': '23550106.3363853296'}, 'orbiting_body': 'Earth'}], 'is_sentry_object': False}, {'links': {'self': 'http://api.nasa.gov/neo/rest/v1/neo/3714123?api_key=o2bsUdeZ6NhRHgHBxjC19Mxwj9QmkaykdtzGymNg'}, 'id': '3714123', 'neo_reference_id': '3714123', 'name': '(2015 FG36)', 'nasa_jpl_url': 'https://ssd.jpl.nasa.gov/tools/sbdb_lookup.html#/?sstr=3714123', 'absolute_magnitude_h': 23.82, 'estimated_diameter': {'kilometers': {'estimated_diameter_min': 0.0457672667, 'estimated_diameter_max': 0.1023387195}, 'meters': {'estimated_diameter_min': 45.7672667231, 'estimated_diameter_max': 102.3387195373}, 'miles': {'estimated_diameter_min': 0.0284384523, 'estimated_diameter_max': 0.0635903125}, 'feet': {'estimated_diameter_min': 150.1550793559, 'estimated_diameter_max': 335.7569646067}}, 'is_potentially_hazardous_asteroid': False, 'close_approach_data': [{'close_approach_date': '2023-09-10', 'close_approach_date_full': '2023-Sep-10 19:02', 'epoch_date_close_approach': 1694372520000, 'relative_velocity': {'kilometers_per_second': '9.1561703032', 'kilometers_per_hour': '32962.213091416', 'miles_per_hour': '20481.4373511635'}, 'miss_distance': {'astronomical': '0.1339912697', 'lunar': '52.1226039133', 'kilometers': '20044808.545715539', 'miles': '12455266.4719268782'}, 'orbiting_body': 'Earth'}], 'is_sentry_object': False}, {'links': {'self': 'http://api.nasa.gov/neo/rest/v1/neo/3827152?api_key=o2bsUdeZ6NhRHgHBxjC19Mxwj9QmkaykdtzGymNg'}, 'id': '3827152', 'neo_reference_id': '3827152', 'name': '(2018 RC)', 'nasa_jpl_url': 'https://ssd.jpl.nasa.gov/tools/sbdb_lookup.html#/?sstr=3827152', 'absolute_magnitude_h': 24.93, 'estimated_diameter': {'kilometers': {'estimated_diameter_min': 0.0274507982, 'estimated_diameter_max': 0.0613818507}, 'meters': {'estimated_diameter_min': 27.4507981651, 'estimated_diameter_max': 61.3818507339}, 'miles': {'estimated_diameter_min': 0.0170571299, 'estimated_diameter_max': 0.038140902}, 'feet': {'estimated_diameter_min': 90.0616766521, 'estimated_diameter_max': 201.3840311617}}, 'is_potentially_hazardous_asteroid': False, 'close_approach_data': [{'close_approach_date': '2023-09-10', 'close_approach_date_full': '2023-Sep-10 18:12', 'epoch_date_close_approach': 1694369520000, 'relative_velocity': {'kilometers_per_second': '9.6333240942', 'kilometers_per_hour': '34679.9667391125', 'miles_per_hour': '21548.7826663113'}, 'miss_distance': {'astronomical': '0.1515462324', 'lunar': '58.9514844036', 'kilometers': '22670993.573564988', 'miles': '14087102.1790053144'}, 'orbiting_body': 'Earth'}], 'is_sentry_object': False}, {'links': {'self': 'http://api.nasa.gov/neo/rest/v1/neo/3830883?api_key=o2bsUdeZ6NhRHgHBxjC19Mxwj9QmkaykdtzGymNg'}, 'id': '3830883', 'neo_reference_id': '3830883', 'name': '(2018 SF2)', 'nasa_jpl_url': 'https://ssd.jpl.nasa.gov/tools/sbdb_lookup.html#/?sstr=3830883', 'absolute_magnitude_h': 24.7, 'estimated_diameter': {'kilometers': {'estimated_diameter_min': 0.0305179233, 'estimated_diameter_max': 0.0682401509}, 'meters': {'estimated_diameter_min': 30.5179232594, 'estimated_diameter_max': 68.2401509401}, 'miles': {'estimated_diameter_min': 0.0189629525, 'estimated_diameter_max': 0.0424024508}, 'feet': {'estimated_diameter_min': 100.1244233463, 'estimated_diameter_max': 223.8850168104}}, 'is_potentially_hazardous_asteroid': False, 'close_approach_data': [{'close_approach_date': '2023-09-10', 'close_approach_date_full': '2023-Sep-10 01:37', 'epoch_date_close_approach': 1694309820000, 'relative_velocity': {'kilometers_per_second': '27.5398900982', 'kilometers_per_hour': '99143.6043536737', 'miles_per_hour': '61603.9801607591'}, 'miss_distance': {'astronomical': '0.3581694543', 'lunar': '139.3279177227', 'kilometers': '53581387.462342341', 'miles': '33293930.3090366658'}, 'orbiting_body': 'Earth'}], 'is_sentry_object': False}, {'links': {'self': 'http://api.nasa.gov/neo/rest/v1/neo/54054357?api_key=o2bsUdeZ6NhRHgHBxjC19Mxwj9QmkaykdtzGymNg'}, 'id': '54054357', 'neo_reference_id': '54054357', 'name': '(2020 RL7)', 'nasa_jpl_url': 'https://ssd.jpl.nasa.gov/tools/sbdb_lookup.html#/?sstr=54054357', 'absolute_magnitude_h': 24.51, 'estimated_diameter': {'kilometers': {'estimated_diameter_min': 0.0333084924, 'estimated_diameter_max': 0.0744800533}, 'meters': {'estimated_diameter_min': 33.3084924299, 'estimated_diameter_max': 74.4800533014}, 'miles': {'estimated_diameter_min': 0.0206969312, 'estimated_diameter_max': 0.0462797452}, 'feet': {'estimated_diameter_min': 109.2798343039, 'estimated_diameter_max': 244.3571380733}}, 'is_potentially_hazardous_asteroid': False, 'close_approach_data': [{'close_approach_date': '2023-09-10', 'close_approach_date_full': '2023-Sep-10 19:40', 'epoch_date_close_approach': 1694374800000, 'relative_velocity': {'kilometers_per_second': '9.8219922435', 'kilometers_per_hour': '35359.1720764409', 'miles_per_hour': '21970.8144493863'}, 'miss_distance': {'astronomical': '0.3192259344', 'lunar': '124.1788884816', 'kilometers': '47755519.834999728', 'miles': '29673904.0282551264'}, 'orbiting_body': 'Earth'}], 'is_sentry_object': False}, {'links': {'self': 'http://api.nasa.gov/neo/rest/v1/neo/54130503?api_key=o2bsUdeZ6NhRHgHBxjC19Mxwj9QmkaykdtzGymNg'}, 'id': '54130503', 'neo_reference_id': '54130503', 'name': '(2021 ED2)', 'nasa_jpl_url': 'https://ssd.jpl.nasa.gov/tools/sbdb_lookup.html#/?sstr=54130503', 'absolute_magnitude_h': 28.73, 'estimated_diameter': {'kilometers': {'estimated_diameter_min': 0.004770402, 'estimated_diameter_max': 0.0106669431}, 'meters': {'estimated_diameter_min': 4.7704019801, 'estimated_diameter_max': 10.6669431075}, 'miles': {'estimated_diameter_min': 0.0029641894, 'estimated_diameter_max': 0.0066281291}, 'feet': {'estimated_diameter_min': 15.6509256325, 'estimated_diameter_max': 34.996533625}}, 'is_potentially_hazardous_asteroid': False, 'close_approach_data': [{'close_approach_date': '2023-09-10', 'close_approach_date_full': '2023-Sep-10 22:08', 'epoch_date_close_approach': 1694383680000, 'relative_velocity': {'kilometers_per_second': '7.1954402716', 'kilometers_per_hour': '25903.5849777385', 'miles_per_hour': '16095.4803435287'}, 'miss_distance': {'astronomical': '0.1181975879', 'lunar': '45.9788616931', 'kilometers': '17682107.388977773', 'miles': '10987152.0505003474'}, 'orbiting_body': 'Earth'}], 'is_sentry_object': False}, {'links': {'self': 'http://api.nasa.gov/neo/rest/v1/neo/54136761?api_key=o2bsUdeZ6NhRHgHBxjC19Mxwj9QmkaykdtzGymNg'}, 'id': '54136761', 'neo_reference_id': '54136761', 'name': '(2021 GX7)', 'nasa_jpl_url': 'https://ssd.jpl.nasa.gov/tools/sbdb_lookup.html#/?sstr=54136761', 'absolute_magnitude_h': 26.74, 'estimated_diameter': {'kilometers': {'estimated_diameter_min': 0.0119276525, 'estimated_diameter_max': 0.0266710417}, 'meters': {'estimated_diameter_min': 11.9276524644, 'estimated_diameter_max': 26.6710417224}, 'miles': {'estimated_diameter_min': 0.0074114973, 'estimated_diameter_max': 0.0165726119}, 'feet': {'estimated_diameter_min': 39.1327193114, 'estimated_diameter_max': 87.5034205247}}, 'is_potentially_hazardous_asteroid': False, 'close_approach_data': [{'close_approach_date': '2023-09-10', 'close_approach_date_full': '2023-Sep-10 22:16', 'epoch_date_close_approach': 1694384160000, 'relative_velocity': {'kilometers_per_second': '10.1607803816', 'kilometers_per_hour': '36578.8093736326', 'miles_per_hour': '22728.6496355219'}, 'miss_distance': {'astronomical': '0.2827598427', 'lunar': '109.9935788103', 'kilometers': '42300270.189455049', 'miles': '26284169.0826117162'}, 'orbiting_body': 'Earth'}], 'is_sentry_object': False}, {'links': {'self': 'http://api.nasa.gov/neo/rest/v1/neo/54157355?api_key=o2bsUdeZ6NhRHgHBxjC19Mxwj9QmkaykdtzGymNg'}, 'id': '54157355', 'neo_reference_id': '54157355', 'name': '(2021 LV2)', 'nasa_jpl_url': 'https://ssd.jpl.nasa.gov/tools/sbdb_lookup.html#/?sstr=54157355', 'absolute_magnitude_h': 25.27, 'estimated_diameter': {'kilometers': {'estimated_diameter_min': 0.0234722638, 'estimated_diameter_max': 0.0524855773}, 'meters': {'estimated_diameter_min': 23.4722637531, 'estimated_diameter_max': 52.4855773378}, 'miles': {'estimated_diameter_min': 0.014584984, 'estimated_diameter_max': 0.0326130157}, 'feet': {'estimated_diameter_min': 77.0087418118, 'estimated_diameter_max': 172.1967815529}}, 'is_potentially_hazardous_asteroid': False, 'close_approach_data': [{'close_approach_date': '2023-09-10', 'close_approach_date_full': '2023-Sep-10 08:58', 'epoch_date_close_approach': 1694336280000, 'relative_velocity': {'kilometers_per_second': '10.0306973744', 'kilometers_per_hour': '36110.5105477979', 'miles_per_hour': '22437.6669567692'}, 'miss_distance': {'astronomical': '0.1108014333', 'lunar': '43.1017575537', 'kilometers': '16575658.414627071', 'miles': '10299636.5383567398'}, 'orbiting_body': 'Earth'}], 'is_sentry_object': False}, {'links': {'self': 'http://api.nasa.gov/neo/rest/v1/neo/54195880?api_key=o2bsUdeZ6NhRHgHBxjC19Mxwj9QmkaykdtzGymNg'}, 'id': '54195880', 'neo_reference_id': '54195880', 'name': '(2021 RE12)', 'nasa_jpl_url': 'https://ssd.jpl.nasa.gov/tools/sbdb_lookup.html#/?sstr=54195880', 'absolute_magnitude_h': 23.31, 'estimated_diameter': {'kilometers': {'estimated_diameter_min': 0.0578835257, 'estimated_diameter_max': 0.1294314984}, 'meters': {'estimated_diameter_min': 57.8835257491, 'estimated_diameter_max': 129.4314983525}, 'miles': {'estimated_diameter_min': 0.0359671443, 'estimated_diameter_max': 0.0804249796}, 'feet': {'estimated_diameter_min': 189.9065866188, 'estimated_diameter_max': 424.6440370547}}, 'is_potentially_hazardous_asteroid': False, 'close_approach_data': [{'close_approach_date': '2023-09-10', 'close_approach_date_full': '2023-Sep-10 02:39', 'epoch_date_close_approach': 1694313540000, 'relative_velocity': {'kilometers_per_second': '13.074086562', 'kilometers_per_hour': '47066.7116233454', 'miles_per_hour': '29245.4242306282'}, 'miss_distance': {'astronomical': '0.3524980689', 'lunar': '137.1217488021', 'kilometers': '52732960.286553243', 'miles': '32766742.1080430334'}, 'orbiting_body': 'Earth'}], 'is_sentry_object': False}, {'links': {'self': 'http://api.nasa.gov/neo/rest/v1/neo/54301298?api_key=o2bsUdeZ6NhRHgHBxjC19Mxwj9QmkaykdtzGymNg'}, 'id': '54301298', 'neo_reference_id': '54301298', 'name': '(2022 RS1)', 'nasa_jpl_url': 'https://ssd.jpl.nasa.gov/tools/sbdb_lookup.html#/?sstr=54301298', 'absolute_magnitude_h': 27.82, 'estimated_diameter': {'kilometers': {'estimated_diameter_min': 0.0072536229, 'estimated_diameter_max': 0.016219594}, 'meters': {'estimated_diameter_min': 7.2536229467, 'estimated_diameter_max': 16.219593992}, 'miles': {'estimated_diameter_min': 0.0045071909, 'estimated_diameter_max': 0.0100783853}, 'feet': {'estimated_diameter_min': 23.7979763085, 'estimated_diameter_max': 53.2138927527}}, 'is_potentially_hazardous_asteroid': False, 'close_approach_data': [{'close_approach_date': '2023-09-10', 'close_approach_date_full': '2023-Sep-10 10:03', 'epoch_date_close_approach': 1694340180000, 'relative_velocity': {'kilometers_per_second': '8.3787374915', 'kilometers_per_hour': '30163.4549694381', 'miles_per_hour': '18742.39789476'}, 'miss_distance': {'astronomical': '0.1906304939', 'lunar': '74.1552621271', 'kilometers': '28517915.844487993', 'miles': '17720211.2086525834'}, 'orbiting_body': 'Earth'}], 'is_sentry_object': True, 'sentry_data': 'http://api.nasa.gov/neo/rest/v1/neo/sentry/54301298?api_key=o2bsUdeZ6NhRHgHBxjC19Mxwj9QmkaykdtzGymNg'}, {'links': {'self': 'http://api.nasa.gov/neo/rest/v1/neo/54340313?api_key=o2bsUdeZ6NhRHgHBxjC19Mxwj9QmkaykdtzGymNg'}, 'id': '54340313', 'neo_reference_id': '54340313', 'name': '(2023 BN6)', 'nasa_jpl_url': 'https://ssd.jpl.nasa.gov/tools/sbdb_lookup.html#/?sstr=54340313', 'absolute_magnitude_h': 25.23, 'estimated_diameter': {'kilometers': {'estimated_diameter_min': 0.0239086457, 'estimated_diameter_max': 0.0534613571}, 'meters': {'estimated_diameter_min': 23.9086457171, 'estimated_diameter_max': 53.4613570733}, 'miles': {'estimated_diameter_min': 0.0148561391, 'estimated_diameter_max': 0.0332193369}, 'feet': {'estimated_diameter_min': 78.4404412144, 'estimated_diameter_max': 175.3981587404}}, 'is_potentially_hazardous_asteroid': False, 'close_approach_data': [{'close_approach_date': '2023-09-10', 'close_approach_date_full': '2023-Sep-10 21:16', 'epoch_date_close_approach': 1694380560000, 'relative_velocity': {'kilometers_per_second': '6.090048756', 'kilometers_per_hour': '21924.1755215803', 'miles_per_hour': '13622.8300622842'}, 'miss_distance': {'astronomical': '0.2567807203', 'lunar': '99.8877001967', 'kilometers': '38413848.813945761', 'miles': '23869258.8207470618'}, 'orbiting_body': 'Earth'}], 'is_sentry_object': False}, {'links': {'self': 'http://api.nasa.gov/neo/rest/v1/neo/54353143?api_key=o2bsUdeZ6NhRHgHBxjC19Mxwj9QmkaykdtzGymNg'}, 'id': '54353143', 'neo_reference_id': '54353143', 'name': '(2023 FW10)', 'nasa_jpl_url': 'https://ssd.jpl.nasa.gov/tools/sbdb_lookup.html#/?sstr=54353143', 'absolute_magnitude_h': 25.24, 'estimated_diameter': {'kilometers': {'estimated_diameter_min': 0.0237987955, 'estimated_diameter_max': 0.0532157244}, 'meters': {'estimated_diameter_min': 23.7987954683, 'estimated_diameter_max': 53.2157244498}, 'miles': {'estimated_diameter_min': 0.0147878813, 'estimated_diameter_max': 0.0330667079}, 'feet': {'estimated_diameter_min': 78.0800401242, 'estimated_diameter_max': 174.5922774037}}, 'is_potentially_hazardous_asteroid': False, 'close_approach_data': [{'close_approach_date': '2023-09-10', 'close_approach_date_full': '2023-Sep-10 10:35', 'epoch_date_close_approach': 1694342100000, 'relative_velocity': {'kilometers_per_second': '9.326173211', 'kilometers_per_hour': '33574.2235595856', 'miles_per_hour': '20861.716855677'}, 'miss_distance': {'astronomical': '0.2870108047', 'lunar': '111.6472030283', 'kilometers': '42936205.050105989', 'miles': '26679320.6815970882'}, 'orbiting_body': 'Earth'}], 'is_sentry_object': False}, {'links': {'self': 'http://api.nasa.gov/neo/rest/v1/neo/54378526?api_key=o2bsUdeZ6NhRHgHBxjC19Mxwj9QmkaykdtzGymNg'}, 'id': '54378526', 'neo_reference_id': '54378526', 'name': '(2023 QF6)', 'nasa_jpl_url': 'https://ssd.jpl.nasa.gov/tools/sbdb_lookup.html#/?sstr=54378526', 'absolute_magnitude_h': 26.11, 'estimated_diameter': {'kilometers': {'estimated_diameter_min': 0.0159424468, 'estimated_diameter_max': 0.0356483948}, 'meters': {'estimated_diameter_min': 15.9424468069, 'estimated_diameter_max': 35.6483947878}, 'miles': {'estimated_diameter_min': 0.0099061741, 'estimated_diameter_max': 0.0221508787}, 'feet': {'estimated_diameter_min': 52.3046171819, 'estimated_diameter_max': 116.9566795557}}, 'is_potentially_hazardous_asteroid': False, 'close_approach_data': [{'close_approach_date': '2023-09-10', 'close_approach_date_full': '2023-Sep-10 23:21', 'epoch_date_close_approach': 1694388060000, 'relative_velocity': {'kilometers_per_second': '10.4645749784', 'kilometers_per_hour': '37672.4699222933', 'miles_per_hour': '23408.2077692161'}, 'miss_distance': {'astronomical': '0.0177969328', 'lunar': '6.9230068592', 'kilometers': '2662383.239413136', 'miles': '1654328.2327518368'}, 'orbiting_body': 'Earth'}], 'is_sentry_object': False}, {'links': {'self': 'http://api.nasa.gov/neo/rest/v1/neo/54379681?api_key=o2bsUdeZ6NhRHgHBxjC19Mxwj9QmkaykdtzGymNg'}, 'id': '54379681', 'neo_reference_id': '54379681', 'name': '(2023 QD8)', 'nasa_jpl_url': 'https://ssd.jpl.nasa.gov/tools/sbdb_lookup.html#/?sstr=54379681', 'absolute_magnitude_h': 23.14, 'estimated_diameter': {'kilometers': {'estimated_diameter_min': 0.06259721, 'estimated_diameter_max': 0.1399716167}, 'meters': {'estimated_diameter_min': 62.597209966, 'estimated_diameter_max': 139.9716166857}, 'miles': {'estimated_diameter_min': 0.038896091, 'estimated_diameter_max': 0.0869743034}, 'feet': {'estimated_diameter_min': 205.3714303447, 'estimated_diameter_max': 459.2244788871}}, 'is_potentially_hazardous_asteroid': False, 'close_approach_data': [{'close_approach_date': '2023-09-10', 'close_approach_date_full': '2023-Sep-10 06:38', 'epoch_date_close_approach': 1694327880000, 'relative_velocity': {'kilometers_per_second': '6.8575266169', 'kilometers_per_hour': '24687.0958209385', 'miles_per_hour': '15339.6012894048'}, 'miss_distance': {'astronomical': '0.2291754502', 'lunar': '89.1492501278', 'kilometers': '34284159.206211074', 'miles': '21303188.6887538612'}, 'orbiting_body': 'Earth'}], 'is_sentry_object': False}, {'links': {'self': 'http://api.nasa.gov/neo/rest/v1/neo/54379766?api_key=o2bsUdeZ6NhRHgHBxjC19Mxwj9QmkaykdtzGymNg'}, 'id': '54379766', 'neo_reference_id': '54379766', 'name': '(2023 QE8)', 'nasa_jpl_url': 'https://ssd.jpl.nasa.gov/tools/sbdb_lookup.html#/?sstr=54379766', 'absolute_magnitude_h': 24.0, 'estimated_diameter': {'kilometers': {'estimated_diameter_min': 0.0421264611, 'estimated_diameter_max': 0.0941976306}, 'meters': {'estimated_diameter_min': 42.1264610556, 'estimated_diameter_max': 94.1976305719}, 'miles': {'estimated_diameter_min': 0.0261761612, 'estimated_diameter_max': 0.0585316759}, 'feet': {'estimated_diameter_min': 138.2101784897, 'estimated_diameter_max': 309.0473542854}}, 'is_potentially_hazardous_asteroid': False, 'close_approach_data': [{'close_approach_date': '2023-09-10', 'close_approach_date_full': '2023-Sep-10 22:03', 'epoch_date_close_approach': 1694383380000, 'relative_velocity': {'kilometers_per_second': '14.4565879847', 'kilometers_per_hour': '52043.7167449956', 'miles_per_hour': '32337.9416630224'}, 'miss_distance': {'astronomical': '0.0101748149', 'lunar': '3.9580029961', 'kilometers': '1522130.636684263', 'miles': '945808.1199303094'}, 'orbiting_body': 'Earth'}], 'is_sentry_object': False}, {'links': {'self': 'http://api.nasa.gov/neo/rest/v1/neo/54380577?api_key=o2bsUdeZ6NhRHgHBxjC19Mxwj9QmkaykdtzGymNg'}, 'id': '54380577', 'neo_reference_id': '54380577', 'name': '(2023 QC13)', 'nasa_jpl_url': 'https://ssd.jpl.nasa.gov/tools/sbdb_lookup.html#/?sstr=54380577', 'absolute_magnitude_h': 22.48, 'estimated_diameter': {'kilometers': {'estimated_diameter_min': 0.0848310762, 'estimated_diameter_max': 0.189688053}, 'meters': {'estimated_diameter_min': 84.8310761886, 'estimated_diameter_max': 189.6880529621}, 'miles': {'estimated_diameter_min': 0.0527115706, 'estimated_diameter_max': 0.1178666552}, 'feet': {'estimated_diameter_min': 278.3171880025, 'estimated_diameter_max': 622.3361516803}}, 'is_potentially_hazardous_asteroid': False, 'close_approach_data': [{'close_approach_date': '2023-09-10', 'close_approach_date_full': '2023-Sep-10 19:39', 'epoch_date_close_approach': 1694374740000, 'relative_velocity': {'kilometers_per_second': '4.9585442453', 'kilometers_per_hour': '17850.7592831615', 'miles_per_hour': '11091.7676223622'}, 'miss_distance': {'astronomical': '0.2192854404', 'lunar': '85.3020363156', 'kilometers': '32804634.805851948', 'miles': '20383854.8564469624'}, 'orbiting_body': 'Earth'}], 'is_sentry_object': False}, {'links': {'self': 'http://api.nasa.gov/neo/rest/v1/neo/54379927?api_key=o2bsUdeZ6NhRHgHBxjC19Mxwj9QmkaykdtzGymNg'}, 'id': '54379927', 'neo_reference_id': '54379927', 'name': '(2023 RJ)', 'nasa_jpl_url': 'https://ssd.jpl.nasa.gov/tools/sbdb_lookup.html#/?sstr=54379927', 'absolute_magnitude_h': 24.67, 'estimated_diameter': {'kilometers': {'estimated_diameter_min': 0.0309424699, 'estimated_diameter_max': 0.069189466}, 'meters': {'estimated_diameter_min': 30.9424698617, 'estimated_diameter_max': 69.1894660026}, 'miles': {'estimated_diameter_min': 0.0192267534, 'estimated_diameter_max': 0.0429923277}, 'feet': {'estimated_diameter_min': 101.5172928212, 'estimated_diameter_max': 226.9995676399}}, 'is_potentially_hazardous_asteroid': False, 'close_approach_data': [{'close_approach_date': '2023-09-10', 'close_approach_date_full': '2023-Sep-10 13:14', 'epoch_date_close_approach': 1694351640000, 'relative_velocity': {'kilometers_per_second': '20.1394704336', 'kilometers_per_hour': '72502.0935608034', 'miles_per_hour': '45049.9814128225'}, 'miss_distance': {'astronomical': '0.0362093663', 'lunar': '14.0854434907', 'kilometers': '5416844.072529781', 'miles': '3365870.8291657378'}, 'orbiting_body': 'Earth'}], 'is_sentry_object': False}, {'links': {'self': 'http://api.nasa.gov/neo/rest/v1/neo/54380205?api_key=o2bsUdeZ6NhRHgHBxjC19Mxwj9QmkaykdtzGymNg'}, 'id': '54380205', 'neo_reference_id': '54380205', 'name': '(2023 RB1)', 'nasa_jpl_url': 'https://ssd.jpl.nasa.gov/tools/sbdb_lookup.html#/?sstr=54380205', 'absolute_magnitude_h': 26.69, 'estimated_diameter': {'kilometers': {'estimated_diameter_min': 0.0122054832, 'estimated_diameter_max': 0.0272922901}, 'meters': {'estimated_diameter_min': 12.2054831812, 'estimated_diameter_max': 27.2922900914}, 'miles': {'estimated_diameter_min': 0.0075841333, 'estimated_diameter_max': 0.0169586376}, 'feet': {'estimated_diameter_min': 40.0442374402, 'estimated_diameter_max': 89.5416370235}}, 'is_potentially_hazardous_asteroid': False, 'close_approach_data': [{'close_approach_date': '2023-09-10', 'close_approach_date_full': '2023-Sep-10 03:19', 'epoch_date_close_approach': 1694315940000, 'relative_velocity': {'kilometers_per_second': '8.699577485', 'kilometers_per_hour': '31318.4789459373', 'miles_per_hour': '19460.0848761575'}, 'miss_distance': {'astronomical': '0.0390197917', 'lunar': '15.1786989713', 'kilometers': '5837277.726163679', 'miles': '3627116.1874256102'}, 'orbiting_body': 'Earth'}], 'is_sentry_object': False}, {'links': {'self': 'http://api.nasa.gov/neo/rest/v1/neo/54380896?api_key=o2bsUdeZ6NhRHgHBxjC19Mxwj9QmkaykdtzGymNg'}, 'id': '54380896', 'neo_reference_id': '54380896', 'name': '(2023 RP2)', 'nasa_jpl_url': 'https://ssd.jpl.nasa.gov/tools/sbdb_lookup.html#/?sstr=54380896', 'absolute_magnitude_h': 27.19, 'estimated_diameter': {'kilometers': {'estimated_diameter_min': 0.0096951599, 'estimated_diameter_max': 0.0216790366}, 'meters': {'estimated_diameter_min': 9.6951599093, 'estimated_diameter_max': 21.6790366099}, 'miles': {'estimated_diameter_min': 0.0060242912, 'estimated_diameter_max': 0.0134707247}, 'feet': {'estimated_diameter_min': 31.8082684368, 'estimated_diameter_max': 71.1254504712}}, 'is_potentially_hazardous_asteroid': False, 'close_approach_data': [{'close_approach_date': '2023-09-10', 'close_approach_date_full': '2023-Sep-10 13:12', 'epoch_date_close_approach': 1694351520000, 'relative_velocity': {'kilometers_per_second': '9.1235467775', 'kilometers_per_hour': '32844.7683989796', 'miles_per_hour': '20408.4617865771'}, 'miss_distance': {'astronomical': '0.003231337', 'lunar': '1.256990093', 'kilometers': '483401.13245219', 'miles': '300371.535292622'}, 'orbiting_body': 'Earth'}], 'is_sentry_object': True, 'sentry_data': 'http://api.nasa.gov/neo/rest/v1/neo/sentry/54380896?api_key=o2bsUdeZ6NhRHgHBxjC19Mxwj9QmkaykdtzGymNg'}, {'links': {'self': 'http://api.nasa.gov/neo/rest/v1/neo/54381314?api_key=o2bsUdeZ6NhRHgHBxjC19Mxwj9QmkaykdtzGymNg'}, 'id': '54381314', 'neo_reference_id': '54381314', 'name': '(2023 RU2)', 'nasa_jpl_url': 'https://ssd.jpl.nasa.gov/tools/sbdb_lookup.html#/?sstr=54381314', 'absolute_magnitude_h': 22.64, 'estimated_diameter': {'kilometers': {'estimated_diameter_min': 0.0788052183, 'estimated_diameter_max': 0.1762138252}, 'meters': {'estimated_diameter_min': 78.8052183336, 'estimated_diameter_max': 176.2138251755}, 'miles': {'estimated_diameter_min': 0.0489672773, 'estimated_diameter_max': 0.1094941608}, 'feet': {'estimated_diameter_min': 258.5473125175, 'estimated_diameter_max': 578.1293661889}}, 'is_potentially_hazardous_asteroid': False, 'close_approach_data': [{'close_approach_date': '2023-09-10', 'close_approach_date_full': '2023-Sep-10 00:44', 'epoch_date_close_approach': 1694306640000, 'relative_velocity': {'kilometers_per_second': '4.9475947757', 'kilometers_per_hour': '17811.3411925248', 'miles_per_hour': '11067.2747537663'}, 'miss_distance': {'astronomical': '0.2793813729', 'lunar': '108.6793540581', 'kilometers': '41794858.303515723', 'miles': '25970120.6993060574'}, 'orbiting_body': 'Earth'}], 'is_sentry_object': False}, {'links': {'self': 'http://api.nasa.gov/neo/rest/v1/neo/54381336?api_key=o2bsUdeZ6NhRHgHBxjC19Mxwj9QmkaykdtzGymNg'}, 'id': '54381336', 'neo_reference_id': '54381336', 'name': '(2023 RX3)', 'nasa_jpl_url': 'https://ssd.jpl.nasa.gov/tools/sbdb_lookup.html#/?sstr=54381336', 'absolute_magnitude_h': 24.46, 'estimated_diameter': {'kilometers': {'estimated_diameter_min': 0.0340843469, 'estimated_diameter_max': 0.0762149166}, 'meters': {'estimated_diameter_min': 34.084346887, 'estimated_diameter_max': 76.214916608}, 'miles': {'estimated_diameter_min': 0.0211790247, 'estimated_diameter_max': 0.0473577389}, 'feet': {'estimated_diameter_min': 111.8252886407, 'estimated_diameter_max': 250.0489470042}}, 'is_potentially_hazardous_asteroid': False, 'close_approach_data': [{'close_approach_date': '2023-09-10', 'close_approach_date_full': '2023-Sep-10 02:46', 'epoch_date_close_approach': 1694313960000, 'relative_velocity': {'kilometers_per_second': '4.3130592216', 'kilometers_per_hour': '15527.0131976632', 'miles_per_hour': '9647.8821727369'}, 'miss_distance': {'astronomical': '0.2212075693', 'lunar': '86.0497444577', 'kilometers': '33092181.195157391', 'miles': '20562527.8975823558'}, 'orbiting_body': 'Earth'}], 'is_sentry_object': False}, {'links': {'self': 'http://api.nasa.gov/neo/rest/v1/neo/54382562?api_key=o2bsUdeZ6NhRHgHBxjC19Mxwj9QmkaykdtzGymNg'}, 'id': '54382562', 'neo_reference_id': '54382562', 'name': '(2023 RL7)', 'nasa_jpl_url': 'https://ssd.jpl.nasa.gov/tools/sbdb_lookup.html#/?sstr=54382562', 'absolute_magnitude_h': 27.21, 'estimated_diameter': {'kilometers': {'estimated_diameter_min': 0.0096062741, 'estimated_diameter_max': 0.021480282}, 'meters': {'estimated_diameter_min': 9.606274149, 'estimated_diameter_max': 21.4802820076}, 'miles': {'estimated_diameter_min': 0.0059690602, 'estimated_diameter_max': 0.0133472243}, 'feet': {'estimated_diameter_min': 31.5166484789, 'estimated_diameter_max': 70.4733684217}}, 'is_potentially_hazardous_asteroid': False, 'close_approach_data': [{'close_approach_date': '2023-09-10', 'close_approach_date_full': '2023-Sep-10 05:08', 'epoch_date_close_approach': 1694322480000, 'relative_velocity': {'kilometers_per_second': '11.5453524253', 'kilometers_per_hour': '41563.2687309317', 'miles_per_hour': '25825.7988400614'}, 'miss_distance': {'astronomical': '0.0130386218', 'lunar': '5.0720238802', 'kilometers': '1950550.049015566', 'miles': '1212015.5985481708'}, 'orbiting_body': 'Earth'}], 'is_sentry_object': False}, {'links': {'self': 'http://api.nasa.gov/neo/rest/v1/neo/54383296?api_key=o2bsUdeZ6NhRHgHBxjC19Mxwj9QmkaykdtzGymNg'}, 'id': '54383296', 'neo_reference_id': '54383296', 'name': '(2023 RF11)', 'nasa_jpl_url': 'https://ssd.jpl.nasa.gov/tools/sbdb_lookup.html#/?sstr=54383296', 'absolute_magnitude_h': 27.48, 'estimated_diameter': {'kilometers': {'estimated_diameter_min': 0.0084831076, 'estimated_diameter_max': 0.0189688053}, 'meters': {'estimated_diameter_min': 8.4831076189, 'estimated_diameter_max': 18.9688052962}, 'miles': {'estimated_diameter_min': 0.0052711571, 'estimated_diameter_max': 0.0117866655}, 'feet': {'estimated_diameter_min': 27.8317188003, 'estimated_diameter_max': 62.233615168}}, 'is_potentially_hazardous_asteroid': False, 'close_approach_data': [{'close_approach_date': '2023-09-10', 'close_approach_date_full': '2023-Sep-10 07:18', 'epoch_date_close_approach': 1694330280000, 'relative_velocity': {'kilometers_per_second': '12.448267837', 'kilometers_per_hour': '44813.764213258', 'miles_per_hour': '27845.5303246213'}, 'miss_distance': {'astronomical': '0.007884499', 'lunar': '3.067070111', 'kilometers': '1179504.25641713', 'miles': '732909.959451194'}, 'orbiting_body': 'Earth'}], 'is_sentry_object': False}, {'links': {'self': 'http://api.nasa.gov/neo/rest/v1/neo/54386476?api_key=o2bsUdeZ6NhRHgHBxjC19Mxwj9QmkaykdtzGymNg'}, 'id': '54386476', 'neo_reference_id': '54386476', 'name': '(2023 RS29)', 'nasa_jpl_url': 'https://ssd.jpl.nasa.gov/tools/sbdb_lookup.html#/?sstr=54386476', 'absolute_magnitude_h': 27.52, 'estimated_diameter': {'kilometers': {'estimated_diameter_min': 0.0083282735, 'estimated_diameter_max': 0.0186225856}, 'meters': {'estimated_diameter_min': 8.3282734552, 'estimated_diameter_max': 18.6225855811}, 'miles': {'estimated_diameter_min': 0.0051749476, 'estimated_diameter_max': 0.0115715346}, 'feet': {'estimated_diameter_min': 27.3237326829, 'estimated_diameter_max': 61.0977236779}}, 'is_potentially_hazardous_asteroid': False, 'close_approach_data': [{'close_approach_date': '2023-09-10', 'close_approach_date_full': '2023-Sep-10 06:55', 'epoch_date_close_approach': 1694328900000, 'relative_velocity': {'kilometers_per_second': '5.989047714', 'kilometers_per_hour': '21560.5717705086', 'miles_per_hour': '13396.9008315141'}, 'miss_distance': {'astronomical': '0.0237890721', 'lunar': '9.2539490469', 'kilometers': '3558794.515436427', 'miles': '2211332.3710476126'}, 'orbiting_body': 'Earth'}], 'is_sentry_object': False}, {'links': {'self': 'http://api.nasa.gov/neo/rest/v1/neo/54386833?api_key=o2bsUdeZ6NhRHgHBxjC19Mxwj9QmkaykdtzGymNg'}, 'id': '54386833', 'neo_reference_id': '54386833', 'name': '(2023 RX36)', 'nasa_jpl_url': 'https://ssd.jpl.nasa.gov/tools/sbdb_lookup.html#/?sstr=54386833', 'absolute_magnitude_h': 24.39, 'estimated_diameter': {'kilometers': {'estimated_diameter_min': 0.035200998, 'estimated_diameter_max': 0.0787118244}, 'meters': {'estimated_diameter_min': 35.2009980055, 'estimated_diameter_max': 78.7118244161}, 'miles': {'estimated_diameter_min': 0.0218728793, 'estimated_diameter_max': 0.048909245}, 'feet': {'estimated_diameter_min': 115.4888422963, 'estimated_diameter_max': 258.2409020172}}, 'is_potentially_hazardous_asteroid': False, 'close_approach_data': [{'close_approach_date': '2023-09-10', 'close_approach_date_full': '2023-Sep-10 17:09', 'epoch_date_close_approach': 1694365740000, 'relative_velocity': {'kilometers_per_second': '5.831227145', 'kilometers_per_hour': '20992.4177219892', 'miles_per_hour': '13043.8720006438'}, 'miss_distance': {'astronomical': '0.0901029725', 'lunar': '35.0500563025', 'kilometers': '13479212.766668575', 'miles': '8375594.431733335'}, 'orbiting_body': 'Earth'}], 'is_sentry_object': False}, {'links': {'self': 'http://api.nasa.gov/neo/rest/v1/neo/54385785?api_key=o2bsUdeZ6NhRHgHBxjC19Mxwj9QmkaykdtzGymNg'}, 'id': '54385785', 'neo_reference_id': '54385785', 'name': '(2023 SP2)', 'nasa_jpl_url': 'https://ssd.jpl.nasa.gov/tools/sbdb_lookup.html#/?sstr=54385785', 'absolute_magnitude_h': 28.23, 'estimated_diameter': {'kilometers': {'estimated_diameter_min': 0.0060055803, 'estimated_diameter_max': 0.0134288857}, 'meters': {'estimated_diameter_min': 6.0055802772, 'estimated_diameter_max': 13.4288857443}, 'miles': {'estimated_diameter_min': 0.0037316934, 'estimated_diameter_max': 0.0083443202}, 'feet': {'estimated_diameter_min': 19.7033479968, 'estimated_diameter_max': 44.0580255052}}, 'is_potentially_hazardous_asteroid': False, 'close_approach_data': [{'close_approach_date': '2023-09-10', 'close_approach_date_full': '2023-Sep-10 07:04', 'epoch_date_close_approach': 1694329440000, 'relative_velocity': {'kilometers_per_second': '4.8609821475', 'kilometers_per_hour': '17499.5357310934', 'miles_per_hour': '10873.5309658008'}, 'miss_distance': {'astronomical': '0.0147928719', 'lunar': '5.7544271691', 'kilometers': '2212982.127422853', 'miles': '1375083.3305192514'}, 'orbiting_body': 'Earth'}], 'is_sentry_object': False}, {'links': {'self': 'http://api.nasa.gov/neo/rest/v1/neo/54385811?api_key=o2bsUdeZ6NhRHgHBxjC19Mxwj9QmkaykdtzGymNg'}, 'id': '54385811', 'neo_reference_id': '54385811', 'name': '(2023 SQ3)', 'nasa_jpl_url': 'https://ssd.jpl.nasa.gov/tools/sbdb_lookup.html#/?sstr=54385811', 'absolute_magnitude_h': 21.71, 'estimated_diameter': {'kilometers': {'estimated_diameter_min': 0.1209358264, 'estimated_diameter_max': 0.2704207287}, 'meters': {'estimated_diameter_min': 120.9358263879, 'estimated_diameter_max': 270.4207287184}, 'miles': {'estimated_diameter_min': 0.0751460154, 'estimated_diameter_max': 0.1680315986}, 'feet': {'estimated_diameter_min': 396.7710966464, 'estimated_diameter_max': 887.2071436085}}, 'is_potentially_hazardous_asteroid': False, 'close_approach_data': [{'close_approach_date': '2023-09-10', 'close_approach_date_full': '2023-Sep-10 13:57', 'epoch_date_close_approach': 1694354220000, 'relative_velocity': {'kilometers_per_second': '15.6707874644', 'kilometers_per_hour': '56414.8348719836', 'miles_per_hour': '35053.9844792056'}, 'miss_distance': {'astronomical': '0.3798960416', 'lunar': '147.7795601824', 'kilometers': '56831638.644791392', 'miles': '35313542.7431375296'}, 'orbiting_body': 'Earth'}], 'is_sentry_object': False}, {'links': {'self': 'http://api.nasa.gov/neo/rest/v1/neo/54397454?api_key=o2bsUdeZ6NhRHgHBxjC19Mxwj9QmkaykdtzGymNg'}, 'id': '54397454', 'neo_reference_id': '54397454', 'name': '(2023 UQ3)', 'nasa_jpl_url': 'https://ssd.jpl.nasa.gov/tools/sbdb_lookup.html#/?sstr=54397454', 'absolute_magnitude_h': 25.02, 'estimated_diameter': {'kilometers': {'estimated_diameter_min': 0.0263363131, 'estimated_diameter_max': 0.0588897864}, 'meters': {'estimated_diameter_min': 26.3363130952, 'estimated_diameter_max': 58.8897863577}, 'miles': {'estimated_diameter_min': 0.0163646212, 'estimated_diameter_max': 0.0365924054}, 'feet': {'estimated_diameter_min': 86.4052294554, 'estimated_diameter_max': 193.2079666738}}, 'is_potentially_hazardous_asteroid': False, 'close_approach_data': [{'close_approach_date': '2023-09-10', 'close_approach_date_full': '2023-Sep-10 17:15', 'epoch_date_close_approach': 1694366100000, 'relative_velocity': {'kilometers_per_second': '5.0410082811', 'kilometers_per_hour': '18147.6298118911', 'miles_per_hour': '11276.2314239498'}, 'miss_distance': {'astronomical': '0.0677327338', 'lunar': '26.3480334482', 'kilometers': '10132672.705757006', 'miles': '6296150.8629624428'}, 'orbiting_body': 'Earth'}], 'is_sentry_object': False}, {'links': {'self': 'http://api.nasa.gov/neo/rest/v1/neo/54423049?api_key=o2bsUdeZ6NhRHgHBxjC19Mxwj9QmkaykdtzGymNg'}, 'id': '54423049', 'neo_reference_id': '54423049', 'name': '(2024 BQ3)', 'nasa_jpl_url': 'https://ssd.jpl.nasa.gov/tools/sbdb_lookup.html#/?sstr=54423049', 'absolute_magnitude_h': 26.73, 'estimated_diameter': {'kilometers': {'estimated_diameter_min': 0.011982708, 'estimated_diameter_max': 0.0267941497}, 'meters': {'estimated_diameter_min': 11.9827080067, 'estimated_diameter_max': 26.7941496575}, 'miles': {'estimated_diameter_min': 0.0074457073, 'estimated_diameter_max': 0.0166491076}, 'feet': {'estimated_diameter_min': 39.3133477367, 'estimated_diameter_max': 87.9073179624}}, 'is_potentially_hazardous_asteroid': False, 'close_approach_data': [{'close_approach_date': '2023-09-10', 'close_approach_date_full': '2023-Sep-10 03:35', 'epoch_date_close_approach': 1694316900000, 'relative_velocity': {'kilometers_per_second': '4.9066439135', 'kilometers_per_hour': '17663.9180885263', 'miles_per_hour': '10975.6717700624'}, 'miss_distance': {'astronomical': '0.3763075607', 'lunar': '146.3836411123', 'kilometers': '56294809.545615709', 'miles': '34979972.6087624242'}, 'orbiting_body': 'Earth'}], 'is_sentry_object': False}, {'links': {'self': 'http://api.nasa.gov/neo/rest/v1/neo/54432465?api_key=o2bsUdeZ6NhRHgHBxjC19Mxwj9QmkaykdtzGymNg'}, 'id': '54432465', 'neo_reference_id': '54432465', 'name': '(2024 GR)', 'nasa_jpl_url': 'https://ssd.jpl.nasa.gov/tools/sbdb_lookup.html#/?sstr=54432465', 'absolute_magnitude_h': 27.75, 'estimated_diameter': {'kilometers': {'estimated_diameter_min': 0.0074912618, 'estimated_diameter_max': 0.0167509707}, 'meters': {'estimated_diameter_min': 7.4912618313, 'estimated_diameter_max': 16.750970692}, 'miles': {'estimated_diameter_min': 0.0046548529, 'estimated_diameter_max': 0.0104085674}, 'feet': {'estimated_diameter_min': 24.5776314666, 'estimated_diameter_max': 54.9572546853}}, 'is_potentially_hazardous_asteroid': False, 'close_approach_data': [{'close_approach_date': '2023-09-10', 'close_approach_date_full': '2023-Sep-10 19:24', 'epoch_date_close_approach': 1694373840000, 'relative_velocity': {'kilometers_per_second': '2.5259154434', 'kilometers_per_hour': '9093.2955963381', 'miles_per_hour': '5650.2202554024'}, 'miss_distance': {'astronomical': '0.1187379268', 'lunar': '46.1890535252', 'kilometers': '17762940.937495916', 'miles': '11037379.6884630008'}, 'orbiting_body': 'Earth'}], 'is_sentry_object': False}, {'links': {'self': 'http://api.nasa.gov/neo/rest/v1/neo/54483146?api_key=o2bsUdeZ6NhRHgHBxjC19Mxwj9QmkaykdtzGymNg'}, 'id': '54483146', 'neo_reference_id': '54483146', 'name': '(2024 SJ3)', 'nasa_jpl_url': 'https://ssd.jpl.nasa.gov/tools/sbdb_lookup.html#/?sstr=54483146', 'absolute_magnitude_h': 23.18, 'estimated_diameter': {'kilometers': {'estimated_diameter_min': 0.0614546821, 'estimated_diameter_max': 0.1374168468}, 'meters': {'estimated_diameter_min': 61.4546821229, 'estimated_diameter_max': 137.4168467624}, 'miles': {'estimated_diameter_min': 0.0381861573, 'estimated_diameter_max': 0.0853868435}, 'feet': {'estimated_diameter_min': 201.622979296, 'estimated_diameter_max': 450.8426875319}}, 'is_potentially_hazardous_asteroid': False, 'close_approach_data': [{'close_approach_date': '2023-09-10', 'close_approach_date_full': '2023-Sep-10 18:18', 'epoch_date_close_approach': 1694369880000, 'relative_velocity': {'kilometers_per_second': '12.7376829832', 'kilometers_per_hour': '45855.6587395646', 'miles_per_hour': '28492.9230651478'}, 'miss_distance': {'astronomical': '0.0661628712', 'lunar': '25.7373568968', 'kilometers': '9897824.604604344', 'miles': '6150223.0196701872'}, 'orbiting_body': 'Earth'}], 'is_sentry_object': False}]}}\n",
            "33 Near Earth Objects found for 2023-09-10\n",
            "[{'absolute_magnitude_h': 20.89,\n",
            "  'close_approach_data': [{'close_approach_date': '2023-09-10',\n",
            "                           'close_approach_date_full': '2023-Sep-10 05:56',\n",
            "                           'epoch_date_close_approach': 1694325360000,\n",
            "                           'miss_distance': {'astronomical': '0.3285068174',\n",
            "                                             'kilometers': '49143920.163518938',\n",
            "                                             'lunar': '127.7891519686',\n",
            "                                             'miles': '30536615.9879118244'},\n",
            "                           'orbiting_body': 'Earth',\n",
            "                           'relative_velocity': {'kilometers_per_hour': '85087.2953114654',\n",
            "                                                 'kilometers_per_second': '23.6353598087',\n",
            "                                                 'miles_per_hour': '52869.9363561714'}}],\n",
            "  'estimated_diameter': {'feet': {'estimated_diameter_max': 1294.2704329143,\n",
            "                                  'estimated_diameter_min': 578.8153338529},\n",
            "                         'kilometers': {'estimated_diameter_max': 0.3944936153,\n",
            "                                        'estimated_diameter_min': 0.1764229081},\n",
            "                         'meters': {'estimated_diameter_max': 394.4936153285,\n",
            "                                    'estimated_diameter_min': 176.4229081128},\n",
            "                         'miles': {'estimated_diameter_max': 0.2451268923,\n",
            "                                   'estimated_diameter_min': 0.1096240788}},\n",
            "  'id': '2410627',\n",
            "  'is_potentially_hazardous_asteroid': True,\n",
            "  'is_sentry_object': False,\n",
            "  'links': {'self': 'http://api.nasa.gov/neo/rest/v1/neo/2410627?api_key=o2bsUdeZ6NhRHgHBxjC19Mxwj9QmkaykdtzGymNg'},\n",
            "  'name': '410627 (2008 RG1)',\n",
            "  'nasa_jpl_url': 'https://ssd.jpl.nasa.gov/tools/sbdb_lookup.html#/?sstr=2410627',\n",
            "  'neo_reference_id': '2410627'}]\n"
          ]
        }
      ],
      "source": [
        "API_KEY = 'o2bsUdeZ6NhRHgHBxjC19Mxwj9QmkaykdtzGymNg'  # substitute your API key here\n",
        "today = datetime.date.today()\n",
        "# get today's date (as a string)\n",
        "#today = str(datetime.date.today())\n",
        "today = today.strftime('%Y-%m-%d')\n",
        "today = \"2023-09-10\"\n",
        "# use an f-string to \"format\" the date and API key varaibles.\n",
        "url = f'https://api.nasa.gov/neo/rest/v1/feed?start_date={today}&end_date={today}&api_key={API_KEY}'\n",
        "\n",
        "# make the API request (recall from lab 1)\n",
        "response = requests.request(\"GET\", url, headers={}, data={})\n",
        "\n",
        "# convert the response to json format (recall from lab 1)\n",
        "data = json.loads(response.text)\n",
        "print(data)\n",
        "# TIP: print(data) to see the whole data structure returned, here we grab just the list of NEO's:\n",
        "n_results = data['element_count']\n",
        "neos = data['near_earth_objects'][today]\n",
        "print(f'{n_results} Near Earth Objects found for {today}')\n",
        "pprint(neos[:1])"
      ],
      "metadata": {
        "collapsed": true,
        "pycharm": {
          "name": "#%%\n"
        },
        "ExecuteTime": {
          "end_time": "2024-01-04T04:05:43.064157Z",
          "start_time": "2024-01-04T04:05:38.691252Z"
        },
        "id": "vZYx2VfXmxBB",
        "outputId": "45da3894-e3ca-4bfa-9cc6-247a393dfa34",
        "colab": {
          "base_uri": "https://localhost:8080/"
        }
      }
    },
    {
      "cell_type": "markdown",
      "source": [
        "Next we extract just the potentially hazerdous asteroids, using a Comp115-style list accumulator *loop*:"
      ],
      "metadata": {
        "collapsed": false,
        "pycharm": {
          "name": "#%% md\n"
        },
        "id": "g7VOkS2PmxBB"
      }
    },
    {
      "cell_type": "code",
      "execution_count": 15,
      "metadata": {
        "id": "JDGbYTySU3BP",
        "ExecuteTime": {
          "end_time": "2024-01-04T04:05:43.065108Z",
          "start_time": "2024-01-04T04:05:43.062239Z"
        },
        "colab": {
          "base_uri": "https://localhost:8080/"
        },
        "outputId": "c7cbbe6c-ac15-4d9a-bb65-13fd6278cd30"
      },
      "outputs": [
        {
          "output_type": "stream",
          "name": "stdout",
          "text": [
            "1 potentially hazardous asteroids identified.\n"
          ]
        }
      ],
      "source": [
        "hazards =  []\n",
        "for item in neos:\n",
        "  if item['is_potentially_hazardous_asteroid'] is True:\n",
        "    hazards.append(item)\n",
        "print(f'{len(hazards)} potentially hazardous asteroids identified.')"
      ]
    },
    {
      "cell_type": "markdown",
      "source": [
        "### Fetch Complete Data for One Asteroid\n",
        "\n",
        "Notice that the record for each `neo` is a dictionary with `id` field that uniquely identifies this record in the database.  We can use this `id` to fetch complete orbital and close approach data for the NEO.  For example, this query fetches the complete data set for the first hazardous asteroid...  Notice that the `miss_distance` field contains the distance (in various units) by which the NEO missed an \"orbiting body\".\n"
      ],
      "metadata": {
        "collapsed": false,
        "pycharm": {
          "name": "#%% md\n"
        },
        "id": "Um5gAiVTmxBC"
      }
    },
    {
      "cell_type": "code",
      "execution_count": 9,
      "outputs": [
        {
          "output_type": "error",
          "ename": "IndexError",
          "evalue": "list index out of range",
          "traceback": [
            "\u001b[0;31m---------------------------------------------------------------------------\u001b[0m",
            "\u001b[0;31mIndexError\u001b[0m                                Traceback (most recent call last)",
            "\u001b[0;32m<ipython-input-9-1a899f12c033>\u001b[0m in \u001b[0;36m<cell line: 1>\u001b[0;34m()\u001b[0m\n\u001b[0;32m----> 1\u001b[0;31m \u001b[0mid\u001b[0m \u001b[0;34m=\u001b[0m \u001b[0mhazards\u001b[0m\u001b[0;34m[\u001b[0m\u001b[0;36m0\u001b[0m\u001b[0;34m]\u001b[0m\u001b[0;34m[\u001b[0m\u001b[0;34m'id'\u001b[0m\u001b[0;34m]\u001b[0m\u001b[0;34m\u001b[0m\u001b[0;34m\u001b[0m\u001b[0m\n\u001b[0m\u001b[1;32m      2\u001b[0m \u001b[0murl\u001b[0m \u001b[0;34m=\u001b[0m \u001b[0;34mf'https://api.nasa.gov/neo/rest/v1/neo/{id}?api_key={API_KEY}'\u001b[0m\u001b[0;34m\u001b[0m\u001b[0;34m\u001b[0m\u001b[0m\n\u001b[1;32m      3\u001b[0m \u001b[0mresponse\u001b[0m \u001b[0;34m=\u001b[0m \u001b[0mrequests\u001b[0m\u001b[0;34m.\u001b[0m\u001b[0mrequest\u001b[0m\u001b[0;34m(\u001b[0m\u001b[0;34m\"GET\"\u001b[0m\u001b[0;34m,\u001b[0m \u001b[0murl\u001b[0m\u001b[0;34m,\u001b[0m \u001b[0mheaders\u001b[0m\u001b[0;34m=\u001b[0m\u001b[0;34m{\u001b[0m\u001b[0;34m}\u001b[0m\u001b[0;34m,\u001b[0m \u001b[0mdata\u001b[0m\u001b[0;34m=\u001b[0m\u001b[0;34m{\u001b[0m\u001b[0;34m}\u001b[0m\u001b[0;34m)\u001b[0m\u001b[0;34m\u001b[0m\u001b[0;34m\u001b[0m\u001b[0m\n\u001b[1;32m      4\u001b[0m \u001b[0mdata\u001b[0m \u001b[0;34m=\u001b[0m \u001b[0mjson\u001b[0m\u001b[0;34m.\u001b[0m\u001b[0mloads\u001b[0m\u001b[0;34m(\u001b[0m\u001b[0mresponse\u001b[0m\u001b[0;34m.\u001b[0m\u001b[0mtext\u001b[0m\u001b[0;34m)\u001b[0m\u001b[0;34m\u001b[0m\u001b[0;34m\u001b[0m\u001b[0m\n\u001b[1;32m      5\u001b[0m \u001b[0;34m\u001b[0m\u001b[0m\n",
            "\u001b[0;31mIndexError\u001b[0m: list index out of range"
          ]
        }
      ],
      "source": [
        "id = hazards[0]['id']\n",
        "url = f'https://api.nasa.gov/neo/rest/v1/neo/{id}?api_key={API_KEY}'\n",
        "response = requests.request(\"GET\", url, headers={}, data={})\n",
        "data = json.loads(response.text)\n",
        "\n",
        "pprint(data)"
      ],
      "metadata": {
        "collapsed": true,
        "pycharm": {
          "name": "#%%\n"
        },
        "ExecuteTime": {
          "end_time": "2024-01-04T04:05:43.787125Z",
          "start_time": "2024-01-04T04:05:43.067936Z"
        },
        "id": "NVRl3l7EmxBC",
        "outputId": "33770967-9ca6-4c5f-f26e-ebca795ec759",
        "colab": {
          "base_uri": "https://localhost:8080/",
          "height": 217
        }
      }
    },
    {
      "cell_type": "markdown",
      "source": [
        "## Exercise 1\n",
        "\n",
        "In the code cell below, **re-write the accumulator loop** that creates the list of hazards as a [list comprehension](https://realpython.com/lessons/list-comprehensions-overview/) that implements a [\"filter\"](https://youtu.be/hUes6y2b--0)\n",
        "Notice how this provides a concise way to \"filter\" items of interest from a larger data set."
      ],
      "metadata": {
        "collapsed": false,
        "pycharm": {
          "name": "#%% md\n"
        },
        "id": "93ns5r8gmxBB"
      }
    },
    {
      "cell_type": "code",
      "execution_count": null,
      "outputs": [],
      "source": [
        "# Ex. 1 your code here"
      ],
      "metadata": {
        "pycharm": {
          "name": "#%%\n"
        },
        "ExecuteTime": {
          "end_time": "2024-01-04T04:05:43.069849Z",
          "start_time": "2024-01-04T04:05:43.065922Z"
        },
        "id": "ewkwkc8wmxBB"
      }
    },
    {
      "cell_type": "markdown",
      "source": [
        "\n",
        "\n",
        "## Exercise 2\n",
        "\n",
        "In the code cell below, write a python function that takes a list of \"close approach data\" as a parameter,\n",
        "and returns a 2-tuple with the (date, miss km) of the closest approach to Earth in the list (where \"miss km\" is the miss distance in km).\n",
        "\n",
        "Hints:\n",
        "* notice the input is a list of dictionaries.  Each dictionary has a 'close_approach_date\", \"orbiting_body\", and 'miss_distance' field.\n",
        "* we are only interested in the closest approach to \"Earth\"\n",
        "* use a loop if that is easier to understand - we will look at more compact algorithms to solve this problem in class.\n",
        "\n",
        "Add at least one unit test to check your work - note the test data only needs dictionaries with the fields your function actually uses.\n"
      ],
      "metadata": {
        "id": "DNRs7ynOYwYk"
      }
    },
    {
      "cell_type": "code",
      "source": [
        "# Ex. 2 your code here"
      ],
      "metadata": {
        "id": "tiyXTDfnZAd0",
        "ExecuteTime": {
          "end_time": "2024-01-04T04:05:43.790535Z",
          "start_time": "2024-01-04T04:05:43.787064Z"
        }
      },
      "execution_count": null,
      "outputs": []
    },
    {
      "cell_type": "markdown",
      "source": [
        "## Challenge Exercise\n",
        "\n",
        "In the code cell below, write a complete program that:\n",
        " 1. fetches the list of NEO's for this week.\n",
        " 2. for each NEO, fetch it's complete orbital data and determine its closest approach to Earth\n",
        " 3. identify which NEO from this week's data makes the closet approach to earth\n",
        " 4. print a nice message with information about the NEO, which it will approach the Earth, and how close it will come.\n",
        "\n",
        "Hints:\n",
        "* you'll need the start and end date - end date is today, see if you can use a [`timedelta`](https://docs.python.org/3/library/datetime.html#timedelta-objects) object to ge the start date (you can do basic \"date math\" with `timedelta` and `date` objects!)\n",
        "* you may need to modify the function we wrote in Ex. 2 to return a triple with the NEO's id included;\n",
        "* lots of opportunity here for more practice with list comprehensions\n"
      ],
      "metadata": {
        "collapsed": false,
        "id": "BrVVSFCnmxBC"
      }
    },
    {
      "cell_type": "code",
      "source": [
        "# Ex. 3 (challenge) your code here"
      ],
      "metadata": {
        "id": "Ds1YevErlzCe",
        "pycharm": {
          "name": "#%%\n"
        },
        "ExecuteTime": {
          "end_time": "2024-01-04T04:05:43.790766Z",
          "start_time": "2024-01-04T04:05:43.789211Z"
        }
      },
      "execution_count": null,
      "outputs": []
    }
  ]
}