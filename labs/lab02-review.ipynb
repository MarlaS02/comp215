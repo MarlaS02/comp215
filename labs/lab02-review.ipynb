{
  "nbformat": 4,
  "nbformat_minor": 0,
  "metadata": {
    "kernelspec": {
      "display_name": "Python 3",
      "language": "python",
      "name": "python3"
    },
    "language_info": {
      "codemirror_mode": {
        "name": "ipython",
        "version": 2
      },
      "file_extension": ".py",
      "mimetype": "text/x-python",
      "name": "python",
      "nbconvert_exporter": "python",
      "pygments_lexer": "ipython2",
      "version": "2.7.6"
    },
    "colab": {
      "provenance": [],
      "include_colab_link": true
    }
  },
  "cells": [
    {
      "cell_type": "markdown",
      "metadata": {
        "id": "view-in-github",
        "colab_type": "text"
      },
      "source": [
        "<a href=\"https://colab.research.google.com/github/MarlaS02/comp215/blob/Practice/labs/lab02-review.ipynb\" target=\"_parent\"><img src=\"https://colab.research.google.com/assets/colab-badge.svg\" alt=\"Open In Colab\"/></a>"
      ]
    },
    {
      "cell_type": "markdown",
      "source": [
        "COMP 215 - LAB 2\n",
        "----------------\n",
        "#### Name(s):\n",
        "#### Date:\n",
        "\n",
        "By the end of this lab you should be able to:\n",
        "  * use strings, tuples, lists, and dictionaries (review)\n",
        "  * use *f-string* to simplify string formatting operations\n",
        "  * write functions and simple unit tests (review)\n",
        "  * use *list comprehension* to implement map and filter algorithms\n",
        "\n",
        "\n",
        "During this lab, you will be introduced to the following:\n",
        "  * API Keys\n",
        "  * JSON data formats\n",
        "  * the `datetime` module to represent dates and times\n",
        "  * the `pprint` module to format data structures"
      ],
      "metadata": {
        "id": "nbRPZPKZU5Pk"
      }
    },
    {
      "cell_type": "markdown",
      "source": [
        "## Near Earth Objects\n",
        "\n",
        "In this lab, we'll answer some questions about [Near Earth Objects](https://cneos.jpl.nasa.gov/) using NASA's API:  [https://api.nasa.gov/](https://api.nasa.gov/#NeoWS).  But, as usual, let's do the imports first.\n"
      ],
      "metadata": {
        "id": "UtWS08rgocwz"
      }
    },
    {
      "cell_type": "code",
      "execution_count": 1,
      "outputs": [],
      "source": [
        "import datetime, json, requests\n",
        "from pprint import pprint    # Pretty Print - built-in python function to nicely format data structures"
      ],
      "metadata": {
        "pycharm": {
          "name": "#%%\n"
        },
        "ExecuteTime": {
          "end_time": "2024-01-04T04:05:38.688434Z",
          "start_time": "2024-01-04T04:05:38.640552Z"
        },
        "id": "uckgiW6LmxA_"
      }
    },
    {
      "cell_type": "markdown",
      "source": [
        "### dates & f-strings\n",
        "\n",
        "First we need a short tutorial on python dates and [f-strings](https://realpython.com/python-f-strings/)..."
      ],
      "metadata": {
        "collapsed": false,
        "pycharm": {
          "name": "#%% md\n"
        },
        "id": "z7R9AVbYmxBA"
      }
    },
    {
      "cell_type": "code",
      "execution_count": 2,
      "outputs": [
        {
          "output_type": "stream",
          "name": "stdout",
          "text": [
            "2025-04-12 <class 'datetime.date'>\n",
            "Today is: 2025-04-12\n"
          ]
        }
      ],
      "source": [
        "today = datetime.date.today()   # get a date object representing today's date\n",
        "print(today, type(today))\n",
        "formatted_date = f'Today is: {today}'   # A format string - notice how the variable `today` is formatted into the string\n",
        "print(formatted_date)"
      ],
      "metadata": {
        "pycharm": {
          "name": "#%%\n"
        },
        "ExecuteTime": {
          "end_time": "2024-01-04T04:05:38.691283Z",
          "start_time": "2024-01-04T04:05:38.688366Z"
        },
        "colab": {
          "base_uri": "https://localhost:8080/"
        },
        "id": "FIqwOe5SmxBA",
        "outputId": "adad5ff8-800f-4cb9-b3e7-bdf2481c1016"
      }
    },
    {
      "cell_type": "markdown",
      "source": [
        "### Make an API Query\n",
        "\n",
        "Let's get some data from the NEO database; here's a query that gets the observation \"feed\" for today.  Notice the first line of the block is an 'API key'.  An API key is a unique identifier that authenticates a user when making a request to an API.  Run the block below using the API key 'DEMO_KEY' (just to be sure it works), then go to https://api.nasa.gov and get your own API key.  Use your own API key for the remainder of the lab."
      ],
      "metadata": {
        "collapsed": false,
        "pycharm": {
          "name": "#%% md\n"
        },
        "id": "NyY93KiOmxBB"
      }
    },
    {
      "cell_type": "code",
      "execution_count": 9,
      "outputs": [
        {
          "output_type": "stream",
          "name": "stdout",
          "text": [
            "15 Near Earth Objects found for 2025-04-12\n",
            "[{'absolute_magnitude_h': 22.3,\n",
            "  'close_approach_data': [{'close_approach_date': '2025-04-12',\n",
            "                           'close_approach_date_full': '2025-Apr-12 02:22',\n",
            "                           'epoch_date_close_approach': 1744424520000,\n",
            "                           'miss_distance': {'astronomical': '0.4973728948',\n",
            "                                             'kilometers': '74405925.657814076',\n",
            "                                             'lunar': '193.4780560772',\n",
            "                                             'miles': '46233698.3186872088'},\n",
            "                           'orbiting_body': 'Earth',\n",
            "                           'relative_velocity': {'kilometers_per_hour': '133895.9973579095',\n",
            "                                                 'kilometers_per_second': '37.1933325994',\n",
            "                                                 'miles_per_hour': '83197.765691641'}}],\n",
            "  'estimated_diameter': {'feet': {'estimated_diameter_max': 676.1219416887,\n",
            "                                  'estimated_diameter_min': 302.370924539},\n",
            "                         'kilometers': {'estimated_diameter_max': 0.2060819612,\n",
            "                                        'estimated_diameter_min': 0.0921626549},\n",
            "                         'meters': {'estimated_diameter_max': 206.0819612321,\n",
            "                                    'estimated_diameter_min': 92.1626548503},\n",
            "                         'miles': {'estimated_diameter_max': 0.1280533543,\n",
            "                                   'estimated_diameter_min': 0.057267201}},\n",
            "  'id': '2527977',\n",
            "  'is_potentially_hazardous_asteroid': False,\n",
            "  'is_sentry_object': False,\n",
            "  'links': {'self': 'http://api.nasa.gov/neo/rest/v1/neo/2527977?api_key=o2bsUdeZ6NhRHgHBxjC19Mxwj9QmkaykdtzGymNg'},\n",
            "  'name': '527977 (2008 EY68)',\n",
            "  'nasa_jpl_url': 'https://ssd.jpl.nasa.gov/tools/sbdb_lookup.html#/?sstr=2527977',\n",
            "  'neo_reference_id': '2527977'},\n",
            " {'absolute_magnitude_h': 27.1,\n",
            "  'close_approach_data': [{'close_approach_date': '2025-04-12',\n",
            "                           'close_approach_date_full': '2025-Apr-12 22:34',\n",
            "                           'epoch_date_close_approach': 1744497240000,\n",
            "                           'miss_distance': {'astronomical': '0.479795971',\n",
            "                                             'kilometers': '71776455.29618177',\n",
            "                                             'lunar': '186.640632719',\n",
            "                                             'miles': '44599821.199857626'},\n",
            "                           'orbiting_body': 'Earth',\n",
            "                           'relative_velocity': {'kilometers_per_hour': '26858.3079605563',\n",
            "                                                 'kilometers_per_second': '7.4606411002',\n",
            "                                                 'miles_per_hour': '16688.7080769357'}}],\n",
            "  'estimated_diameter': {'feet': {'estimated_diameter_max': 74.1352966996,\n",
            "                                  'estimated_diameter_min': 33.1543125905},\n",
            "                         'kilometers': {'estimated_diameter_max': 0.0225964377,\n",
            "                                        'estimated_diameter_min': 0.0101054342},\n",
            "                         'meters': {'estimated_diameter_max': 22.5964377109,\n",
            "                                    'estimated_diameter_min': 10.1054341542},\n",
            "                         'miles': {'estimated_diameter_max': 0.0140407711,\n",
            "                                   'estimated_diameter_min': 0.0062792237}},\n",
            "  'id': '3441092',\n",
            "  'is_potentially_hazardous_asteroid': False,\n",
            "  'is_sentry_object': False,\n",
            "  'links': {'self': 'http://api.nasa.gov/neo/rest/v1/neo/3441092?api_key=o2bsUdeZ6NhRHgHBxjC19Mxwj9QmkaykdtzGymNg'},\n",
            "  'name': '(2008 XS)',\n",
            "  'nasa_jpl_url': 'https://ssd.jpl.nasa.gov/tools/sbdb_lookup.html#/?sstr=3441092',\n",
            "  'neo_reference_id': '3441092'},\n",
            " {'absolute_magnitude_h': 22.6,\n",
            "  'close_approach_data': [{'close_approach_date': '2025-04-12',\n",
            "                           'close_approach_date_full': '2025-Apr-12 01:14',\n",
            "                           'epoch_date_close_approach': 1744420440000,\n",
            "                           'miss_distance': {'astronomical': '0.0375012854',\n",
            "                                             'kilometers': '5610112.418102098',\n",
            "                                             'lunar': '14.5880000206',\n",
            "                                             'miles': '3485962.2103930324'},\n",
            "                           'orbiting_body': 'Earth',\n",
            "                           'relative_velocity': {'kilometers_per_hour': '74518.4412223088',\n",
            "                                                 'kilometers_per_second': '20.6995670062',\n",
            "                                                 'miles_per_hour': '46302.8614361618'}}],\n",
            "  'estimated_diameter': {'feet': {'estimated_diameter_max': 588.8775935812,\n",
            "                                  'estimated_diameter_min': 263.3540659348},\n",
            "                         'kilometers': {'estimated_diameter_max': 0.1794898848,\n",
            "                                        'estimated_diameter_min': 0.0802703167},\n",
            "                         'meters': {'estimated_diameter_max': 179.4898847799,\n",
            "                                    'estimated_diameter_min': 80.2703167283},\n",
            "                         'miles': {'estimated_diameter_max': 0.1115298092,\n",
            "                                   'estimated_diameter_min': 0.049877647}},\n",
            "  'id': '3713935',\n",
            "  'is_potentially_hazardous_asteroid': False,\n",
            "  'is_sentry_object': False,\n",
            "  'links': {'self': 'http://api.nasa.gov/neo/rest/v1/neo/3713935?api_key=o2bsUdeZ6NhRHgHBxjC19Mxwj9QmkaykdtzGymNg'},\n",
            "  'name': '(2015 FS33)',\n",
            "  'nasa_jpl_url': 'https://ssd.jpl.nasa.gov/tools/sbdb_lookup.html#/?sstr=3713935',\n",
            "  'neo_reference_id': '3713935'}]\n"
          ]
        }
      ],
      "source": [
        "API_KEY = 'o2bsUdeZ6NhRHgHBxjC19Mxwj9QmkaykdtzGymNg'  # substitute your API key here\n",
        "\n",
        "#get today's date (as a string)\n",
        "today = str(datetime.date.today())\n",
        "\n",
        "# use an f-string to \"format\" the date and API key varaibles.\n",
        "url = f'https://api.nasa.gov/neo/rest/v1/feed?start_date={today}&end_date={today}&api_key={API_KEY}'\n",
        "\n",
        "# make the API request (recall from lab 1)\n",
        "response = requests.request(\"GET\", url, headers={}, data={})    #this is the same as response = requests.get(url)\n",
        "\n",
        "# convert the response to json format (recall from lab 1)\n",
        "data = json.loads(response.text)\n",
        "\n",
        "# TIP: print(data) to see the whole data structure returned, here we grab just the list of NEO's:\n",
        "n_results = data['element_count'] #this is the number of results\n",
        "neos = data['near_earth_objects'][today]\n",
        "print(f'{n_results} Near Earth Objects found for {today}')\n",
        "pprint(neos[:3])"
      ],
      "metadata": {
        "collapsed": true,
        "pycharm": {
          "name": "#%%\n"
        },
        "ExecuteTime": {
          "end_time": "2024-01-04T04:05:43.064157Z",
          "start_time": "2024-01-04T04:05:38.691252Z"
        },
        "id": "vZYx2VfXmxBB",
        "outputId": "67678ce0-e0f6-46d4-8751-61a15de0e3fe",
        "colab": {
          "base_uri": "https://localhost:8080/"
        }
      }
    },
    {
      "cell_type": "markdown",
      "source": [
        "Next we extract just the potentially hazerdous asteroids, using a Comp115-style list accumulator *loop*:"
      ],
      "metadata": {
        "collapsed": false,
        "pycharm": {
          "name": "#%% md\n"
        },
        "id": "g7VOkS2PmxBB"
      }
    },
    {
      "cell_type": "code",
      "execution_count": 12,
      "metadata": {
        "id": "JDGbYTySU3BP",
        "ExecuteTime": {
          "end_time": "2024-01-04T04:05:43.065108Z",
          "start_time": "2024-01-04T04:05:43.062239Z"
        },
        "colab": {
          "base_uri": "https://localhost:8080/"
        },
        "outputId": "f05e179f-2939-4966-ba34-22c4c8c70bfd",
        "collapsed": true
      },
      "outputs": [
        {
          "output_type": "stream",
          "name": "stdout",
          "text": [
            "1 potentially hazardous asteroids identified.\n",
            "[{'absolute_magnitude_h': 18.9,\n",
            "  'close_approach_data': [{'close_approach_date': '2025-04-12',\n",
            "                           'close_approach_date_full': '2025-Apr-12 03:55',\n",
            "                           'epoch_date_close_approach': 1744430100000,\n",
            "                           'miss_distance': {'astronomical': '0.0277410749',\n",
            "                                             'kilometers': '4150005.716550463',\n",
            "                                             'lunar': '10.7912781361',\n",
            "                                             'miles': '2578693.9766358694'},\n",
            "                           'orbiting_body': 'Earth',\n",
            "                           'relative_velocity': {'kilometers_per_hour': '50241.2903200026',\n",
            "                                                 'kilometers_per_second': '13.9559139778',\n",
            "                                                 'miles_per_hour': '31217.9839768927'}}],\n",
            "  'estimated_diameter': {'feet': {'estimated_diameter_max': 3236.1230737181,\n",
            "                                  'estimated_diameter_min': 1447.2382352778},\n",
            "                         'kilometers': {'estimated_diameter_max': 0.9863702813,\n",
            "                                        'estimated_diameter_min': 0.4411182},\n",
            "                         'meters': {'estimated_diameter_max': 986.3702813054,\n",
            "                                    'estimated_diameter_min': 441.1181999969},\n",
            "                         'miles': {'estimated_diameter_max': 0.6129018881,\n",
            "                                   'estimated_diameter_min': 0.2740980571}},\n",
            "  'id': '54524726',\n",
            "  'is_potentially_hazardous_asteroid': True,\n",
            "  'is_sentry_object': False,\n",
            "  'links': {'self': 'http://api.nasa.gov/neo/rest/v1/neo/54524726?api_key=o2bsUdeZ6NhRHgHBxjC19Mxwj9QmkaykdtzGymNg'},\n",
            "  'name': '(2025 FP10)',\n",
            "  'nasa_jpl_url': 'https://ssd.jpl.nasa.gov/tools/sbdb_lookup.html#/?sstr=54524726',\n",
            "  'neo_reference_id': '54524726'}]\n"
          ]
        }
      ],
      "source": [
        "hazards =  []\n",
        "for item in neos:\n",
        "  if item['is_potentially_hazardous_asteroid'] is True:\n",
        "    hazards.append(item)\n",
        "print(f'{len(hazards)} potentially hazardous asteroids identified.')\n",
        "pprint(hazards)"
      ]
    },
    {
      "cell_type": "markdown",
      "source": [
        "### Fetch Complete Data for One Asteroid\n",
        "\n",
        "Notice that the record for each `neo` is a dictionary with `id` field that uniquely identifies this record in the database.  We can use this `id` to fetch complete orbital and close approach data for the NEO.  For example, this query fetches the complete data set for the first hazardous asteroid...  Notice that the `miss_distance` field contains the distance (in various units) by which the NEO missed an \"orbiting body\".\n"
      ],
      "metadata": {
        "collapsed": false,
        "pycharm": {
          "name": "#%% md\n"
        },
        "id": "Um5gAiVTmxBC"
      }
    },
    {
      "cell_type": "code",
      "execution_count": 7,
      "outputs": [
        {
          "output_type": "stream",
          "name": "stdout",
          "text": [
            "{'absolute_magnitude_h': 18.9,\n",
            " 'close_approach_data': [{'close_approach_date': '1910-04-11',\n",
            "                          'close_approach_date_full': '1910-Apr-11 18:20',\n",
            "                          'epoch_date_close_approach': -1884750000000,\n",
            "                          'miss_distance': {'astronomical': '0.0665240723',\n",
            "                                            'kilometers': '9951859.519806001',\n",
            "                                            'lunar': '25.8778641247',\n",
            "                                            'miles': '6183798.7590487738'},\n",
            "                          'orbiting_body': 'Earth',\n",
            "                          'relative_velocity': {'kilometers_per_hour': '50089.6627831494',\n",
            "                                                'kilometers_per_second': '13.9137952175',\n",
            "                                                'miles_per_hour': '31123.7685221186'}},\n",
            "                         {'close_approach_date': '1923-04-12',\n",
            "                          'close_approach_date_full': '1923-Apr-12 06:12',\n",
            "                          'epoch_date_close_approach': -1474480080000,\n",
            "                          'miss_distance': {'astronomical': '0.0322912804',\n",
            "                                            'kilometers': '4830706.767412748',\n",
            "                                            'lunar': '12.5613080756',\n",
            "                                            'miles': '3001661.9963540024'},\n",
            "                          'orbiting_body': 'Earth',\n",
            "                          'relative_velocity': {'kilometers_per_hour': '50110.7159055352',\n",
            "                                                'kilometers_per_second': '13.9196433071',\n",
            "                                                'miles_per_hour': '31136.8501136366'}},\n",
            "                         {'close_approach_date': '1927-09-26',\n",
            "                          'close_approach_date_full': '1927-Sep-26 15:54',\n",
            "                          'epoch_date_close_approach': -1333785960000,\n",
            "                          'miss_distance': {'astronomical': '0.1470505515',\n",
            "                                            'kilometers': '21998449.286725305',\n",
            "                                            'lunar': '57.2026645335',\n",
            "                                            'miles': '13669202.537427009'},\n",
            "                          'orbiting_body': 'Venus',\n",
            "                          'relative_velocity': {'kilometers_per_hour': '71487.8236989893',\n",
            "                                                'kilometers_per_second': '19.8577288053',\n",
            "                                                'miles_per_hour': '44419.7535645192'}},\n",
            "                         {'close_approach_date': '1936-04-11',\n",
            "                          'close_approach_date_full': '1936-Apr-11 15:28',\n",
            "                          'epoch_date_close_approach': -1064219520000,\n",
            "                          'miss_distance': {'astronomical': '0.027757318',\n",
            "                                            'kilometers': '4152435.64971266',\n",
            "                                            'lunar': '10.797596702',\n",
            "                                            'miles': '2580203.867088308'},\n",
            "                          'orbiting_body': 'Earth',\n",
            "                          'relative_velocity': {'kilometers_per_hour': '50230.5649921559',\n",
            "                                                'kilometers_per_second': '13.95293472',\n",
            "                                                'miles_per_hour': '31211.3196752649'}},\n",
            "                         {'close_approach_date': '1949-04-12',\n",
            "                          'close_approach_date_full': '1949-Apr-12 01:16',\n",
            "                          'epoch_date_close_approach': -653957040000,\n",
            "                          'miss_distance': {'astronomical': '0.0315151723',\n",
            "                                            'kilometers': '4714602.648763001',\n",
            "                                            'lunar': '12.2594020247',\n",
            "                                            'miles': '2929518.2423753738'},\n",
            "                          'orbiting_body': 'Earth',\n",
            "                          'relative_velocity': {'kilometers_per_hour': '50466.9769718051',\n",
            "                                                'kilometers_per_second': '14.0186047144',\n",
            "                                                'miles_per_hour': '31358.2168856197'}},\n",
            "                         {'close_approach_date': '1962-04-12',\n",
            "                          'close_approach_date_full': '1962-Apr-12 17:51',\n",
            "                          'epoch_date_close_approach': -243670140000,\n",
            "                          'miss_distance': {'astronomical': '0.0655239947',\n",
            "                                            'kilometers': '9802250.041011289',\n",
            "                                            'lunar': '25.4888339383',\n",
            "                                            'miles': '6090835.7396782282'},\n",
            "                          'orbiting_body': 'Earth',\n",
            "                          'relative_velocity': {'kilometers_per_hour': '51563.9822696723',\n",
            "                                                'kilometers_per_second': '14.3233284082',\n",
            "                                                'miles_per_hour': '32039.8533163972'}},\n",
            "                         {'close_approach_date': '1970-03-04',\n",
            "                          'close_approach_date_full': '1970-Mar-04 21:40',\n",
            "                          'epoch_date_close_approach': 5434800000,\n",
            "                          'miss_distance': {'astronomical': '0.149394177',\n",
            "                                            'kilometers': '22349050.66960299',\n",
            "                                            'lunar': '58.114334853',\n",
            "                                            'miles': '13887056.134741662'},\n",
            "                          'orbiting_body': 'Venus',\n",
            "                          'relative_velocity': {'kilometers_per_hour': '71827.7981663675',\n",
            "                                                'kilometers_per_second': '19.9521661573',\n",
            "                                                'miles_per_hour': '44631.0004773187'}},\n",
            "                         {'close_approach_date': '1973-04-11',\n",
            "                          'close_approach_date_full': '1973-Apr-11 11:08',\n",
            "                          'epoch_date_close_approach': 103374480000,\n",
            "                          'miss_distance': {'astronomical': '0.1787568654',\n",
            "                                            'kilometers': '26741646.311716698',\n",
            "                                            'lunar': '69.5364206406',\n",
            "                                            'miles': '16616488.5012905124'},\n",
            "                          'orbiting_body': 'Earth',\n",
            "                          'relative_velocity': {'kilometers_per_hour': '52849.1724253312',\n",
            "                                                'kilometers_per_second': '14.6803256737',\n",
            "                                                'miles_per_hour': '32838.4204995065'}},\n",
            "                         {'close_approach_date': '1975-04-13',\n",
            "                          'close_approach_date_full': '1975-Apr-13 20:17',\n",
            "                          'epoch_date_close_approach': 166652220000,\n",
            "                          'miss_distance': {'astronomical': '0.1281126961',\n",
            "                                            'kilometers': '19165386.456517307',\n",
            "                                            'lunar': '49.8358387829',\n",
            "                                            'miles': '11908818.9248085566'},\n",
            "                          'orbiting_body': 'Earth',\n",
            "                          'relative_velocity': {'kilometers_per_hour': '54227.8990428001',\n",
            "                                                'kilometers_per_second': '15.0633052897',\n",
            "                                                'miles_per_hour': '33695.1076024554'}},\n",
            "                         {'close_approach_date': '1976-05-06',\n",
            "                          'close_approach_date_full': '1976-May-06 04:24',\n",
            "                          'epoch_date_close_approach': 200204640000,\n",
            "                          'miss_distance': {'astronomical': '0.1499316094',\n",
            "                                            'kilometers': '22429449.411911978',\n",
            "                                            'lunar': '58.3233960566',\n",
            "                                            'miles': '13937013.5966541764'},\n",
            "                          'orbiting_body': 'Venus',\n",
            "                          'relative_velocity': {'kilometers_per_hour': '71228.5720450222',\n",
            "                                                'kilometers_per_second': '19.785714457',\n",
            "                                                'miles_per_hour': '44258.6646687528'}},\n",
            "                         {'close_approach_date': '1986-04-11',\n",
            "                          'close_approach_date_full': '1986-Apr-11 20:40',\n",
            "                          'epoch_date_close_approach': 513636000000,\n",
            "                          'miss_distance': {'astronomical': '0.1104685415',\n",
            "                                            'kilometers': '16525858.510406605',\n",
            "                                            'lunar': '42.9722626435',\n",
            "                                            'miles': '10268692.312776949'},\n",
            "                          'orbiting_body': 'Earth',\n",
            "                          'relative_velocity': {'kilometers_per_hour': '50690.6718551978',\n",
            "                                                'kilometers_per_second': '14.080742182',\n",
            "                                                'miles_per_hour': '31497.2121869145'}},\n",
            "                         {'close_approach_date': '1988-04-14',\n",
            "                          'close_approach_date_full': '1988-Apr-14 07:52',\n",
            "                          'epoch_date_close_approach': 577007520000,\n",
            "                          'miss_distance': {'astronomical': '0.1981269988',\n",
            "                                            'kilometers': '29639377.009972556',\n",
            "                                            'lunar': '77.0714025332',\n",
            "                                            'miles': '18417054.8638150328'},\n",
            "                          'orbiting_body': 'Earth',\n",
            "                          'relative_velocity': {'kilometers_per_hour': '58256.1566875271',\n",
            "                                                'kilometers_per_second': '16.1822657465',\n",
            "                                                'miles_per_hour': '36198.1102484248'}},\n",
            "                         {'close_approach_date': '1999-04-12',\n",
            "                          'close_approach_date_full': '1999-Apr-12 08:16',\n",
            "                          'epoch_date_close_approach': 923904960000,\n",
            "                          'miss_distance': {'astronomical': '0.0529073896',\n",
            "                                            'kilometers': '7914832.791420152',\n",
            "                                            'lunar': '20.5809745544',\n",
            "                                            'miles': '4918049.0436240176'},\n",
            "                          'orbiting_body': 'Earth',\n",
            "                          'relative_velocity': {'kilometers_per_hour': '50014.6421826265',\n",
            "                                                'kilometers_per_second': '13.8929561618',\n",
            "                                                'miles_per_hour': '31077.1536384215'}},\n",
            "                         {'close_approach_date': '2012-04-11',\n",
            "                          'close_approach_date_full': '2012-Apr-11 19:20',\n",
            "                          'epoch_date_close_approach': 1334172000000,\n",
            "                          'miss_distance': {'astronomical': '0.0302644458',\n",
            "                                            'kilometers': '4527496.628410446',\n",
            "                                            'lunar': '11.7728694162',\n",
            "                                            'miles': '2813255.9524823148'},\n",
            "                          'orbiting_body': 'Earth',\n",
            "                          'relative_velocity': {'kilometers_per_hour': '50124.7419581617',\n",
            "                                                'kilometers_per_second': '13.9235394328',\n",
            "                                                'miles_per_hour': '31145.5653572811'}},\n",
            "                         {'close_approach_date': '2012-08-18',\n",
            "                          'close_approach_date_full': '2012-Aug-18 22:59',\n",
            "                          'epoch_date_close_approach': 1345330740000,\n",
            "                          'miss_distance': {'astronomical': '0.1472439222',\n",
            "                                            'kilometers': '22027377.131565714',\n",
            "                                            'lunar': '57.2778857358',\n",
            "                                            'miles': '13687177.4667022932'},\n",
            "                          'orbiting_body': 'Venus',\n",
            "                          'relative_velocity': {'kilometers_per_hour': '71501.920671955',\n",
            "                                                'kilometers_per_second': '19.8616446311',\n",
            "                                                'miles_per_hour': '44428.5128753045'}},\n",
            "                         {'close_approach_date': '2025-04-12',\n",
            "                          'close_approach_date_full': '2025-Apr-12 03:55',\n",
            "                          'epoch_date_close_approach': 1744430100000,\n",
            "                          'miss_distance': {'astronomical': '0.0277410749',\n",
            "                                            'kilometers': '4150005.716550463',\n",
            "                                            'lunar': '10.7912781361',\n",
            "                                            'miles': '2578693.9766358694'},\n",
            "                          'orbiting_body': 'Earth',\n",
            "                          'relative_velocity': {'kilometers_per_hour': '50241.2903200026',\n",
            "                                                'kilometers_per_second': '13.9559139778',\n",
            "                                                'miles_per_hour': '31217.9839768927'}},\n",
            "                         {'close_approach_date': '2038-04-12',\n",
            "                          'close_approach_date_full': '2038-Apr-12 12:22',\n",
            "                          'epoch_date_close_approach': 2154687720000,\n",
            "                          'miss_distance': {'astronomical': '0.0287942519',\n",
            "                                            'kilometers': '4307558.752483453',\n",
            "                                            'lunar': '11.2009639891',\n",
            "                                            'miles': '2676592.8935315314'},\n",
            "                          'orbiting_body': 'Earth',\n",
            "                          'relative_velocity': {'kilometers_per_hour': '50396.6539839208',\n",
            "                                                'kilometers_per_second': '13.9990705511',\n",
            "                                                'miles_per_hour': '31314.5209157312'}},\n",
            "                         {'close_approach_date': '2051-04-13',\n",
            "                          'close_approach_date_full': '2051-Apr-13 00:28',\n",
            "                          'epoch_date_close_approach': 2564958480000,\n",
            "                          'miss_distance': {'astronomical': '0.0448869069',\n",
            "                                            'kilometers': '6714985.663128303',\n",
            "                                            'lunar': '17.4610067841',\n",
            "                                            'miles': '4172498.6097364614'},\n",
            "                          'orbiting_body': 'Earth',\n",
            "                          'relative_velocity': {'kilometers_per_hour': '50974.4725786249',\n",
            "                                                'kilometers_per_second': '14.1595757163',\n",
            "                                                'miles_per_hour': '31673.5549197572'}},\n",
            "                         {'close_approach_date': '2061-03-23',\n",
            "                          'close_approach_date_full': '2061-Mar-23 17:39',\n",
            "                          'epoch_date_close_approach': 2878825140000,\n",
            "                          'miss_distance': {'astronomical': '0.147555402',\n",
            "                                            'kilometers': '22073973.84619374',\n",
            "                                            'lunar': '57.399051378',\n",
            "                                            'miles': '13716131.322564012'},\n",
            "                          'orbiting_body': 'Venus',\n",
            "                          'relative_velocity': {'kilometers_per_hour': '71639.947028083',\n",
            "                                                'kilometers_per_second': '19.8999852856',\n",
            "                                                'miles_per_hour': '44514.2770853108'}},\n",
            "                         {'close_approach_date': '2064-04-12',\n",
            "                          'close_approach_date_full': '2064-Apr-12 22:25',\n",
            "                          'epoch_date_close_approach': 2975264700000,\n",
            "                          'miss_distance': {'astronomical': '0.0967527348',\n",
            "                                            'kilometers': '14474003.042754876',\n",
            "                                            'lunar': '37.6368138372',\n",
            "                                            'miles': '8993728.4460382488'},\n",
            "                          'orbiting_body': 'Earth',\n",
            "                          'relative_velocity': {'kilometers_per_hour': '52836.9474130816',\n",
            "                                                'kilometers_per_second': '14.676929837',\n",
            "                                                'miles_per_hour': '32830.8243523117'}},\n",
            "                         {'close_approach_date': '2075-04-12',\n",
            "                          'close_approach_date_full': '2075-Apr-12 08:16',\n",
            "                          'epoch_date_close_approach': 3322282560000,\n",
            "                          'miss_distance': {'astronomical': '0.1422806453',\n",
            "                                            'kilometers': '21284881.479105511',\n",
            "                                            'lunar': '55.3471710217',\n",
            "                                            'miles': '13225812.0620616118'},\n",
            "                          'orbiting_body': 'Earth',\n",
            "                          'relative_velocity': {'kilometers_per_hour': '51466.2887130203',\n",
            "                                                'kilometers_per_second': '14.2961913092',\n",
            "                                                'miles_per_hour': '31979.1503394875'}},\n",
            "                         {'close_approach_date': '2077-04-14',\n",
            "                          'close_approach_date_full': '2077-Apr-14 07:08',\n",
            "                          'epoch_date_close_approach': 3385609680000,\n",
            "                          'miss_distance': {'astronomical': '0.1655503326',\n",
            "                                            'kilometers': '24765977.134751562',\n",
            "                                            'lunar': '64.3990793814',\n",
            "                                            'miles': '15388864.6004010756'},\n",
            "                          'orbiting_body': 'Earth',\n",
            "                          'relative_velocity': {'kilometers_per_hour': '56332.248252916',\n",
            "                                                'kilometers_per_second': '15.6478467369',\n",
            "                                                'miles_per_hour': '35002.6683658188'}},\n",
            "                         {'close_approach_date': '2088-04-11',\n",
            "                          'close_approach_date_full': '2088-Apr-11 17:58',\n",
            "                          'epoch_date_close_approach': 3732544680000,\n",
            "                          'miss_distance': {'astronomical': '0.0773715033',\n",
            "                                            'kilometers': '11574612.092377971',\n",
            "                                            'lunar': '30.0975147837',\n",
            "                                            'miles': '7192130.4506831598'},\n",
            "                          'orbiting_body': 'Earth',\n",
            "                          'relative_velocity': {'kilometers_per_hour': '50097.4046421304',\n",
            "                                                'kilometers_per_second': '13.9159457339',\n",
            "                                                'miles_per_hour': '31128.5790122171'}},\n",
            "                         {'close_approach_date': '2097-07-09',\n",
            "                          'close_approach_date_full': '2097-Jul-09 05:48',\n",
            "                          'epoch_date_close_approach': 4024187280000,\n",
            "                          'miss_distance': {'astronomical': '0.1485115146',\n",
            "                                            'kilometers': '22217006.254633902',\n",
            "                                            'lunar': '57.7709791794',\n",
            "                                            'miles': '13805007.5399237676'},\n",
            "                          'orbiting_body': 'Venus',\n",
            "                          'relative_velocity': {'kilometers_per_hour': '71736.8228452015',\n",
            "                                                'kilometers_per_second': '19.9268952348',\n",
            "                                                'miles_per_hour': '44574.4719506754'}},\n",
            "                         {'close_approach_date': '2101-04-13',\n",
            "                          'close_approach_date_full': '2101-Apr-13 05:56',\n",
            "                          'epoch_date_close_approach': 4142814960000,\n",
            "                          'miss_distance': {'astronomical': '0.036657702',\n",
            "                                            'kilometers': '5483914.13829474',\n",
            "                                            'lunar': '14.259846078',\n",
            "                                            'miles': '3407546.235517812'},\n",
            "                          'orbiting_body': 'Earth',\n",
            "                          'relative_velocity': {'kilometers_per_hour': '50026.0387641008',\n",
            "                                                'kilometers_per_second': '13.8961218789',\n",
            "                                                'miles_per_hour': '31084.2350309492'}},\n",
            "                         {'close_approach_date': '2103-09-09',\n",
            "                          'close_approach_date_full': '2103-Sep-09 23:18',\n",
            "                          'epoch_date_close_approach': 4218823080000,\n",
            "                          'miss_distance': {'astronomical': '0.1492145949',\n",
            "                                            'kilometers': '22322185.569952863',\n",
            "                                            'lunar': '58.0444774161',\n",
            "                                            'miles': '13870362.9358929894'},\n",
            "                          'orbiting_body': 'Venus',\n",
            "                          'relative_velocity': {'kilometers_per_hour': '71303.6413204506',\n",
            "                                                'kilometers_per_second': '19.8065670335',\n",
            "                                                'miles_per_hour': '44305.3097971433'}},\n",
            "                         {'close_approach_date': '2114-04-13',\n",
            "                          'close_approach_date_full': '2114-Apr-13 15:29',\n",
            "                          'epoch_date_close_approach': 4553076540000,\n",
            "                          'miss_distance': {'astronomical': '0.0283583373',\n",
            "                                            'kilometers': '4242346.856821551',\n",
            "                                            'lunar': '11.0313932097',\n",
            "                                            'miles': '2636072.1005413638'},\n",
            "                          'orbiting_body': 'Earth',\n",
            "                          'relative_velocity': {'kilometers_per_hour': '50214.1193562794',\n",
            "                                                'kilometers_per_second': '13.9483664879',\n",
            "                                                'miles_per_hour': '31201.1009966837'}},\n",
            "                         {'close_approach_date': '2127-04-13',\n",
            "                          'close_approach_date_full': '2127-Apr-13 23:22',\n",
            "                          'epoch_date_close_approach': 4963332120000,\n",
            "                          'miss_distance': {'astronomical': '0.0277616992',\n",
            "                                            'kilometers': '4153091.067900704',\n",
            "                                            'lunar': '10.7993009888',\n",
            "                                            'miles': '2580611.1250655552'},\n",
            "                          'orbiting_body': 'Earth',\n",
            "                          'relative_velocity': {'kilometers_per_hour': '50326.9603084807',\n",
            "                                                'kilometers_per_second': '13.9797111968',\n",
            "                                                'miles_per_hour': '31271.2159761224'}},\n",
            "                         {'close_approach_date': '2140-04-13',\n",
            "                          'close_approach_date_full': '2140-Apr-13 07:29',\n",
            "                          'epoch_date_close_approach': 5373588540000,\n",
            "                          'miss_distance': {'astronomical': '0.0289741639',\n",
            "                                            'kilometers': '4334473.204470893',\n",
            "                                            'lunar': '11.2709497571',\n",
            "                                            'miles': '2693316.7585006034'},\n",
            "                          'orbiting_body': 'Earth',\n",
            "                          'relative_velocity': {'kilometers_per_hour': '50431.3258143542',\n",
            "                                                'kilometers_per_second': '14.0087016151',\n",
            "                                                'miles_per_hour': '31336.0646428136'}},\n",
            "                         {'close_approach_date': '2153-04-13',\n",
            "                          'close_approach_date_full': '2153-Apr-13 19:12',\n",
            "                          'epoch_date_close_approach': 5783857920000,\n",
            "                          'miss_distance': {'astronomical': '0.0427199999',\n",
            "                                            'kilometers': '6390820.991440213',\n",
            "                                            'lunar': '16.6180799611',\n",
            "                                            'miles': '3971072.0230244194'},\n",
            "                          'orbiting_body': 'Earth',\n",
            "                          'relative_velocity': {'kilometers_per_hour': '50916.8767297302',\n",
            "                                                'kilometers_per_second': '14.1435768694',\n",
            "                                                'miles_per_hour': '31637.7670990926'}},\n",
            "                         {'close_approach_date': '2158-06-10',\n",
            "                          'close_approach_date_full': '2158-Jun-10 22:19',\n",
            "                          'epoch_date_close_approach': 5946646740000,\n",
            "                          'miss_distance': {'astronomical': '0.148371615',\n",
            "                                            'kilometers': '22196077.57246005',\n",
            "                                            'lunar': '57.716558235',\n",
            "                                            'miles': '13792003.05984669'},\n",
            "                          'orbiting_body': 'Venus',\n",
            "                          'relative_velocity': {'kilometers_per_hour': '71229.2027459256',\n",
            "                                                'kilometers_per_second': '19.7858896516',\n",
            "                                                'miles_per_hour': '44259.0565617669'}},\n",
            "                         {'close_approach_date': '2166-04-14',\n",
            "                          'close_approach_date_full': '2166-Apr-14 17:27',\n",
            "                          'epoch_date_close_approach': 6194165220000,\n",
            "                          'miss_distance': {'astronomical': '0.0946305394',\n",
            "                                            'kilometers': '14156527.131191078',\n",
            "                                            'lunar': '36.8112798266',\n",
            "                                            'miles': '8796458.0621417564'},\n",
            "                          'orbiting_body': 'Earth',\n",
            "                          'relative_velocity': {'kilometers_per_hour': '52819.6382860705',\n",
            "                                                'kilometers_per_second': '14.6721217461',\n",
            "                                                'miles_per_hour': '32820.0691339198'}},\n",
            "                         {'close_approach_date': '2177-04-13',\n",
            "                          'close_approach_date_full': '2177-Apr-13 03:44',\n",
            "                          'epoch_date_close_approach': 6541184640000,\n",
            "                          'miss_distance': {'astronomical': '0.1438541486',\n",
            "                                            'kilometers': '21520274.221223482',\n",
            "                                            'lunar': '55.9592638054',\n",
            "                                            'miles': '13372078.3295567716'},\n",
            "                          'orbiting_body': 'Earth',\n",
            "                          'relative_velocity': {'kilometers_per_hour': '51373.8804035621',\n",
            "                                                'kilometers_per_second': '14.2705223343',\n",
            "                                                'miles_per_hour': '31921.7314096467'}},\n",
            "                         {'close_approach_date': '2179-04-16',\n",
            "                          'close_approach_date_full': '2179-Apr-16 02:40',\n",
            "                          'epoch_date_close_approach': 6604512000000,\n",
            "                          'miss_distance': {'astronomical': '0.1642779709',\n",
            "                                            'kilometers': '24575634.534561983',\n",
            "                                            'lunar': '63.9041306801',\n",
            "                                            'miles': '15270591.1930540454'},\n",
            "                          'orbiting_body': 'Earth',\n",
            "                          'relative_velocity': {'kilometers_per_hour': '56432.4594094022',\n",
            "                                                'kilometers_per_second': '15.6756831693',\n",
            "                                                'miles_per_hour': '35064.9356813589'}},\n",
            "                         {'close_approach_date': '2190-04-13',\n",
            "                          'close_approach_date_full': '2190-Apr-13 13:15',\n",
            "                          'epoch_date_close_approach': 6951446100000,\n",
            "                          'miss_distance': {'astronomical': '0.0792455151',\n",
            "                                            'kilometers': '11854960.266012837',\n",
            "                                            'lunar': '30.8265053739',\n",
            "                                            'miles': '7366330.7280056706'},\n",
            "                          'orbiting_body': 'Earth',\n",
            "                          'relative_velocity': {'kilometers_per_hour': '50077.6781428508',\n",
            "                                                'kilometers_per_second': '13.9104661508',\n",
            "                                                'miles_per_hour': '31116.3217327064'}},\n",
            "                         {'close_approach_date': '2194-09-26',\n",
            "                          'close_approach_date_full': '2194-Sep-26 21:53',\n",
            "                          'epoch_date_close_approach': 7092049980000,\n",
            "                          'miss_distance': {'astronomical': '0.148143331',\n",
            "                                            'kilometers': '22161926.77230497',\n",
            "                                            'lunar': '57.627755759',\n",
            "                                            'miles': '13770782.736629786'},\n",
            "                          'orbiting_body': 'Venus',\n",
            "                          'relative_velocity': {'kilometers_per_hour': '71247.2229440381',\n",
            "                                                'kilometers_per_second': '19.7908952622',\n",
            "                                                'miles_per_hour': '44270.2536120886'}}],\n",
            " 'designation': '2025 FP10',\n",
            " 'estimated_diameter': {'feet': {'estimated_diameter_max': 3236.1230737181,\n",
            "                                 'estimated_diameter_min': 1447.2382352778},\n",
            "                        'kilometers': {'estimated_diameter_max': 0.9863702813,\n",
            "                                       'estimated_diameter_min': 0.4411182},\n",
            "                        'meters': {'estimated_diameter_max': 986.3702813054,\n",
            "                                   'estimated_diameter_min': 441.1181999969},\n",
            "                        'miles': {'estimated_diameter_max': 0.6129018881,\n",
            "                                  'estimated_diameter_min': 0.2740980571}},\n",
            " 'id': '54524726',\n",
            " 'is_potentially_hazardous_asteroid': True,\n",
            " 'is_sentry_object': False,\n",
            " 'links': {'self': 'http://api.nasa.gov/neo/rest/v1/neo/54524726?api_key=o2bsUdeZ6NhRHgHBxjC19Mxwj9QmkaykdtzGymNg'},\n",
            " 'name': '(2025 FP10)',\n",
            " 'nasa_jpl_url': 'https://ssd.jpl.nasa.gov/tools/sbdb_lookup.html#/?sstr=54524726',\n",
            " 'neo_reference_id': '54524726',\n",
            " 'orbital_data': {'aphelion_distance': '.9830520046796073',\n",
            "                  'ascending_node_longitude': '21.79455018322241',\n",
            "                  'data_arc_in_days': 15,\n",
            "                  'eccentricity': '.2659932619994012',\n",
            "                  'epoch_osculation': '2460800.5',\n",
            "                  'equinox': 'J2000',\n",
            "                  'first_observation_date': '2025-03-24',\n",
            "                  'inclination': '27.83959409423051',\n",
            "                  'jupiter_tisserand_invariant': '7.360',\n",
            "                  'last_observation_date': '2025-04-08',\n",
            "                  'mean_anomaly': '192.6228919700697',\n",
            "                  'mean_motion': '1.440410987473637',\n",
            "                  'minimum_orbit_intersection': '.0278769',\n",
            "                  'observations_used': 114,\n",
            "                  'orbit_class': {'orbit_class_description': 'Near-Earth '\n",
            "                                                             'asteroid orbits '\n",
            "                                                             'similar to that '\n",
            "                                                             'of 2062 Aten',\n",
            "                                  'orbit_class_range': 'a (semi-major axis) < '\n",
            "                                                       '1.0 AU; q (perihelion) '\n",
            "                                                       '> 0.983 AU',\n",
            "                                  'orbit_class_type': 'ATE'},\n",
            "                  'orbit_determination_date': '2025-04-09 22:36:25',\n",
            "                  'orbit_id': '12',\n",
            "                  'orbit_uncertainty': '3',\n",
            "                  'orbital_period': '249.9286683666656',\n",
            "                  'perihelion_argument': '12.78348869635952',\n",
            "                  'perihelion_distance': '.5699610076125107',\n",
            "                  'perihelion_time': '2460916.700938124956',\n",
            "                  'semi_major_axis': '.776506506146059'}}\n"
          ]
        }
      ],
      "source": [
        "id = hazards[0]['id']\n",
        "url = f'https://api.nasa.gov/neo/rest/v1/neo/{id}?api_key={API_KEY}'\n",
        "response = requests.request(\"GET\", url, headers={}, data={})\n",
        "data = json.loads(response.text)\n",
        "\n",
        "pprint(data)"
      ],
      "metadata": {
        "collapsed": true,
        "pycharm": {
          "name": "#%%\n"
        },
        "ExecuteTime": {
          "end_time": "2024-01-04T04:05:43.787125Z",
          "start_time": "2024-01-04T04:05:43.067936Z"
        },
        "id": "NVRl3l7EmxBC",
        "outputId": "fc4f2fc6-fff3-4c33-f445-c4db7f18981b",
        "colab": {
          "base_uri": "https://localhost:8080/"
        }
      }
    },
    {
      "cell_type": "markdown",
      "source": [
        "## Exercise 1\n",
        "\n",
        "In the code cell below, **re-write the accumulator loop** that creates the list of hazards as a [list comprehension](https://realpython.com/lessons/list-comprehensions-overview/) that implements a [\"filter\"](https://youtu.be/hUes6y2b--0)\n",
        "Notice how this provides a concise way to \"filter\" items of interest from a larger data set."
      ],
      "metadata": {
        "collapsed": false,
        "pycharm": {
          "name": "#%% md\n"
        },
        "id": "93ns5r8gmxBB"
      }
    },
    {
      "cell_type": "code",
      "execution_count": 8,
      "outputs": [
        {
          "output_type": "stream",
          "name": "stdout",
          "text": [
            "1 potentially hazardous asteroids identified\n"
          ]
        }
      ],
      "source": [
        "# Ex. 1 your code here\n",
        "hazards = [item for item in neos if item['is_potentially_hazardous_asteroid'] is True]\n",
        "print(f'{len(hazards)} potentially hazardous asteroids identified')"
      ],
      "metadata": {
        "pycharm": {
          "name": "#%%\n"
        },
        "ExecuteTime": {
          "end_time": "2024-01-04T04:05:43.069849Z",
          "start_time": "2024-01-04T04:05:43.065922Z"
        },
        "id": "ewkwkc8wmxBB",
        "outputId": "b482f878-7ee4-4db2-bd47-55def95426f4",
        "colab": {
          "base_uri": "https://localhost:8080/"
        }
      }
    },
    {
      "cell_type": "markdown",
      "source": [
        "\n",
        "\n",
        "## Exercise 2\n",
        "\n",
        "In the code cell below, write a python function that takes a list of \"close approach data\" as a parameter,\n",
        "and returns a 2-tuple with the (date, miss km) of the closest approach to Earth in the list (where \"miss km\" is the miss distance in km).\n",
        "\n",
        "Hints:\n",
        "* notice the input is a list of dictionaries.  Each dictionary has a 'close_approach_date\", \"orbiting_body\", and 'miss_distance' field.\n",
        "* we are only interested in the closest approach to \"Earth\"\n",
        "\n",
        "\n",
        "Add at least one unit test to check your work - note the test data only needs dictionaries with the fields your function actually uses.\n"
      ],
      "metadata": {
        "id": "DNRs7ynOYwYk"
      }
    },
    {
      "cell_type": "code",
      "source": [
        "# Ex. 2 your code here\n",
        "def closest_approach(close_approach_data):\n",
        "  closest = close_approach_data[0]\n",
        "  for item in close_approach_data:\n",
        "    if item[0]['orbiting_body'] == 'Earth':\n",
        "      if item[0]['miss_distance']['kilometers'] < closest[0]['miss_distance']['kilometers']:\n",
        "           closest = item\n",
        "  return (closest[0]['close_approach_date'], closest[0]['miss_distance']['kilometers'])\n",
        "\n",
        "\n",
        "closest_approach_data = []\n",
        "for item in neos:\n",
        "  closest_approach_data.append(item['close_approach_data'])\n",
        "\n",
        "print(closest_approach(closest_approach_data))"
      ],
      "metadata": {
        "id": "tiyXTDfnZAd0",
        "ExecuteTime": {
          "end_time": "2024-01-04T04:05:43.790535Z",
          "start_time": "2024-01-04T04:05:43.787064Z"
        },
        "outputId": "551aef33-1d1a-4ceb-f114-546a1f752b89",
        "colab": {
          "base_uri": "https://localhost:8080/"
        }
      },
      "execution_count": 29,
      "outputs": [
        {
          "output_type": "stream",
          "name": "stdout",
          "text": [
            "('2025-04-12', '15339115.407537406')\n"
          ]
        }
      ]
    },
    {
      "cell_type": "markdown",
      "source": [
        "## Challenge Exercise\n",
        "\n",
        "In the code cell below, write a complete program that:\n",
        " 1. fetches the list of NEO's for this week.\n",
        " 2. for each NEO, fetch it's complete orbital data and determine its closest approach to Earth\n",
        " 3. identify which NEO from this week's data makes the closet approach to earth\n",
        " 4. print a nice message with information about the NEO, which it will approach the Earth, and how close it will come.\n",
        "\n",
        "Hints:\n",
        "* you'll need the start and end date - end date is today, see if you can use a [`timedelta`](https://docs.python.org/3/library/datetime.html#timedelta-objects) object to ge the start date (you can do basic \"date math\" with `timedelta` and `date` objects!)\n",
        "* you may need to modify the function we wrote in Ex. 2 to return a triple with the NEO's id included;\n",
        "* lots of opportunity here for more practice with list comprehensions\n"
      ],
      "metadata": {
        "collapsed": false,
        "id": "BrVVSFCnmxBC"
      }
    },
    {
      "cell_type": "code",
      "source": [
        "# Ex. 3 (challenge) your code here"
      ],
      "metadata": {
        "id": "Ds1YevErlzCe",
        "pycharm": {
          "name": "#%%\n"
        },
        "ExecuteTime": {
          "end_time": "2024-01-04T04:05:43.790766Z",
          "start_time": "2024-01-04T04:05:43.789211Z"
        }
      },
      "execution_count": null,
      "outputs": []
    }
  ]
}