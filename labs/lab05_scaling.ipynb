{
  "nbformat": 4,
  "nbformat_minor": 0,
  "metadata": {
    "colab": {
      "provenance": [],
      "include_colab_link": true
    },
    "kernelspec": {
      "name": "python3",
      "display_name": "Python 3"
    },
    "language_info": {
      "name": "python"
    }
  },
  "cells": [
    {
      "cell_type": "markdown",
      "metadata": {
        "id": "view-in-github",
        "colab_type": "text"
      },
      "source": [
        "<a href=\"https://colab.research.google.com/github/MarlaS02/comp215/blob/main/labs/lab05_scaling.ipynb\" target=\"_parent\"><img src=\"https://colab.research.google.com/assets/colab-badge.svg\" alt=\"Open In Colab\"/></a>"
      ]
    },
    {
      "cell_type": "markdown",
      "source": [
        "COMP 215 - LAB 5\n",
        "----------------\n",
        "#### Name(s):\n",
        "#### Date:\n",
        "\n",
        "By the end of this lab you should be able to:\n",
        "  * apply both a direct (ie. brute force) and heuristic algorithm to a problem\n",
        "  * use the networkx module to visualize graphs\n",
        "  * measure algorithm scaling\n",
        "\n",
        "\n",
        "During this lab, you will be introduced to the following:\n",
        "  * seeding the random module\n",
        "\n"
      ],
      "metadata": {
        "id": "maj2ZJihN_mq"
      }
    },
    {
      "cell_type": "markdown",
      "source": [
        "## The Traveling Salesperson Problem\n",
        "\n",
        "This lab is based on the famous Traveling Salesperson Problem (TSP) outlined in Section 3.3.2 of 'On Complexity'.  Imagine you needed to travel to ten different cities.  What is the sortest possible route you could take to visit every city?  For our version of the problem, you start from a specific city and must end on the same city.\n",
        "\n",
        "In this lab, you will implement a direct (ie. brute force) and a heuristic solution to the problem."
      ],
      "metadata": {
        "id": "bXq2viKmFY-h"
      }
    },
    {
      "cell_type": "code",
      "source": [
        "# start with some imports\n",
        "import random, math, time, itertools\n",
        "import networkx as nx\n",
        "import matplotlib.pyplot as plt\n",
        "%matplotlib inline\n",
        "from pprint import pprint"
      ],
      "metadata": {
        "id": "XAr1Vf5HiC6N"
      },
      "execution_count": 1,
      "outputs": []
    },
    {
      "cell_type": "markdown",
      "source": [
        "## Set up the map\n",
        "\n",
        "For this implementation of the problem we will randomly place N cities on a 100 by 100 grid.  Cities will be labelled using a single character; 'A', 'B', 'C', etc.  City locations will be denoted by a 2-tuple, `(x,y)`, giving their position on the grid. In order to create reproducable maps, we will use [random.seed()](https://docs.python.org/3/library/random.html#random.seed) to initialize the random module.  "
      ],
      "metadata": {
        "id": "P69qc4NLXcHA"
      }
    },
    {
      "cell_type": "code",
      "source": [
        "def setup_map(N, seed=1):\n",
        "  ''' Returns a map of N cities with random locations on a 100 by 100 grid '''\n",
        "  random.seed(seed)\n",
        "  city_locations = [(random.randint(0, 100), random.randint(0, 100)) for i in range(N)]\n",
        "  city_names = [chr(65 + i) for i in range(N)]\n",
        "  city_map = dict(zip(city_names, city_locations))\n",
        "  return city_map\n",
        "\n",
        "def graph_map(city_map):\n",
        "  ''' graph the map of cities using networkx'''\n",
        "  G = nx.Graph()\n",
        "  G.add_nodes_from(city_map)\n",
        "  nx.draw(G, city_map, with_labels=True)\n",
        "\n",
        "def distance(city1, city2, city_map):\n",
        "  ''' Returns the distance between two cities on a map'''\n",
        "  x1, y1 = city_map[city1]\n",
        "  x2, y2 = city_map[city2]\n",
        "  return round(math.sqrt((x2 - x1)**2 + (y2 - y1)**2),1)\n",
        "\n",
        "def calculate_distances(city_map):\n",
        "  ''' Returns a dictionary with the distances between all pairs of cities in a map '''\n",
        "  distances = {}\n",
        "  for city1 in city_map:\n",
        "      for city2 in city_map:\n",
        "          if city1 != city2:\n",
        "              # this will have duplicate distances (A,B) and (B,A)\n",
        "              # these duplicates make the algorithm implememntation simpler\n",
        "              distances[(city1, city2)] = distance(city1, city2, city_map)\n",
        "  return distances\n"
      ],
      "metadata": {
        "id": "lHqZss26iNtY"
      },
      "execution_count": 2,
      "outputs": []
    },
    {
      "cell_type": "code",
      "source": [
        "# test our setup functions\n",
        "city_map = setup_map(10)\n",
        "print(f'City Map: {city_map}')\n",
        "distances = calculate_distances(city_map)\n",
        "print(f'Distances between cities: {distances}')\n",
        "graph_map(city_map)\n",
        "city_map_2 = setup_map(4)\n"
      ],
      "metadata": {
        "id": "d0ZFBtOPpU-P",
        "colab": {
          "base_uri": "https://localhost:8080/",
          "height": 572
        },
        "outputId": "d90807d2-8743-4553-c8f5-38346f35eb0b"
      },
      "execution_count": 3,
      "outputs": [
        {
          "output_type": "stream",
          "name": "stdout",
          "text": [
            "City Map: {'A': (17, 72), 'B': (97, 8), 'C': (32, 15), 'D': (63, 97), 'E': (57, 60), 'F': (83, 48), 'G': (100, 26), 'H': (12, 62), 'I': (3, 49), 'J': (55, 77)}\n",
            "Distances between cities: {('A', 'B'): 102.4, ('A', 'C'): 58.9, ('A', 'D'): 52.4, ('A', 'E'): 41.8, ('A', 'F'): 70.2, ('A', 'G'): 94.9, ('A', 'H'): 11.2, ('A', 'I'): 26.9, ('A', 'J'): 38.3, ('B', 'A'): 102.4, ('B', 'C'): 65.4, ('B', 'D'): 95.3, ('B', 'E'): 65.6, ('B', 'F'): 42.4, ('B', 'G'): 18.2, ('B', 'H'): 100.7, ('B', 'I'): 102.6, ('B', 'J'): 80.8, ('C', 'A'): 58.9, ('C', 'B'): 65.4, ('C', 'D'): 87.7, ('C', 'E'): 51.5, ('C', 'F'): 60.7, ('C', 'G'): 68.9, ('C', 'H'): 51.1, ('C', 'I'): 44.7, ('C', 'J'): 66.1, ('D', 'A'): 52.4, ('D', 'B'): 95.3, ('D', 'C'): 87.7, ('D', 'E'): 37.5, ('D', 'F'): 52.9, ('D', 'G'): 80.1, ('D', 'H'): 61.9, ('D', 'I'): 76.8, ('D', 'J'): 21.5, ('E', 'A'): 41.8, ('E', 'B'): 65.6, ('E', 'C'): 51.5, ('E', 'D'): 37.5, ('E', 'F'): 28.6, ('E', 'G'): 54.8, ('E', 'H'): 45.0, ('E', 'I'): 55.1, ('E', 'J'): 17.1, ('F', 'A'): 70.2, ('F', 'B'): 42.4, ('F', 'C'): 60.7, ('F', 'D'): 52.9, ('F', 'E'): 28.6, ('F', 'G'): 27.8, ('F', 'H'): 72.4, ('F', 'I'): 80.0, ('F', 'J'): 40.3, ('G', 'A'): 94.9, ('G', 'B'): 18.2, ('G', 'C'): 68.9, ('G', 'D'): 80.1, ('G', 'E'): 54.8, ('G', 'F'): 27.8, ('G', 'H'): 95.1, ('G', 'I'): 99.7, ('G', 'J'): 68.0, ('H', 'A'): 11.2, ('H', 'B'): 100.7, ('H', 'C'): 51.1, ('H', 'D'): 61.9, ('H', 'E'): 45.0, ('H', 'F'): 72.4, ('H', 'G'): 95.1, ('H', 'I'): 15.8, ('H', 'J'): 45.5, ('I', 'A'): 26.9, ('I', 'B'): 102.6, ('I', 'C'): 44.7, ('I', 'D'): 76.8, ('I', 'E'): 55.1, ('I', 'F'): 80.0, ('I', 'G'): 99.7, ('I', 'H'): 15.8, ('I', 'J'): 59.1, ('J', 'A'): 38.3, ('J', 'B'): 80.8, ('J', 'C'): 66.1, ('J', 'D'): 21.5, ('J', 'E'): 17.1, ('J', 'F'): 40.3, ('J', 'G'): 68.0, ('J', 'H'): 45.5, ('J', 'I'): 59.1}\n"
          ]
        },
        {
          "output_type": "display_data",
          "data": {
            "text/plain": [
              "<Figure size 640x480 with 1 Axes>"
            ],
            "image/png": "[encoded data removed]"
          },
          "metadata": {}
        }
      ]
    },
    {
      "cell_type": "markdown",
      "source": [
        "### Exercise 1: The Brute Force Solution\n",
        "\n",
        "Implement a brute force solution to the traveling salesman problem using the city map and distance dictionary given above.  The algorithm for the brute force solution looks something like this:\n",
        " 1. Loop over every possible route that starts and ends on city A.  For a three city example, this would be ABCA, ACBA.  \n",
        " 2. Calculate the total distance of each possible route.  \n",
        " 3. Find the route with the minimum total distance.\n",
        "\n",
        "Before you start coding, think about what functions and/or class you might want to simplify your implementation of the algorithm.  Write a small test for your algorithm."
      ],
      "metadata": {
        "id": "L_clDiVgOXjT"
      }
    },
    {
      "cell_type": "code",
      "source": [
        "# Ex. 1 your solution here\n",
        "\n",
        "city_list = list(city_map.keys())\n",
        "print(city_list)\n",
        "\n",
        "city_list_2 = list(city_map_2.keys())\n",
        "\n",
        "possible_routes = list(itertools.permutations(city_list[1:10]))\n",
        "possible_routes_complete = [('A',) + char + ('A',) for char in possible_routes]\n",
        "total_distances = []\n",
        "for i in range(len(possible_routes_complete)):\n",
        "  total_distance = 0\n",
        "  for j in range(len(possible_routes_complete[i])-1):\n",
        "    total_distance += distances[(possible_routes_complete[i][j], possible_routes_complete[i][j+1])]\n",
        "  total_distances.append(total_distance)\n",
        "\n",
        "assert len(possible_routes_complete) == 362880\n",
        "assert len(total_distances) == 362880\n",
        "\n",
        "shortest_route = possible_routes_complete[total_distances.index(min(total_distances))]\n",
        "print(shortest_route)\n",
        "\n",
        "possible_routes_2 = list(itertools.permutations(city_list_2[1:4]))\n",
        "possible_routes_2_complete = [('A',) + char + ('A',) for char in possible_routes_2]\n",
        "total_distances_2 = []\n",
        "for i in range(len(possible_routes_2_complete)):\n",
        "  total_distance_2 = 0\n",
        "  for j in range(len(possible_routes_2_complete[i])-1):\n",
        "    total_distance_2 += distances[(possible_routes_2_complete[i][j], possible_routes_2_complete[i][j+1])]\n",
        "  total_distances_2.append(total_distance_2)\n",
        "\n",
        "shortest_route_2 = possible_routes_2_complete[total_distances_2.index(min(total_distances_2))]\n",
        "print(shortest_route_2)\n",
        "\n",
        "print(total_distances_2)\n",
        "print(min(total_distances_2))\n",
        "\n",
        "assert len(possible_routes_2_complete) == 6\n",
        "assert len(total_distances_2) == 6\n",
        "\n",
        "print(possible_routes_2_complete)"
      ],
      "metadata": {
        "id": "nLmzZgjwECtJ",
        "colab": {
          "base_uri": "https://localhost:8080/"
        },
        "outputId": "d0a0dd6f-322c-4207-8ca6-5bec1899c414"
      },
      "execution_count": 10,
      "outputs": [
        {
          "output_type": "stream",
          "name": "stdout",
          "text": [
            "['A', 'B', 'C', 'D', 'E', 'F', 'G', 'H', 'I', 'J']\n",
            "('A', 'D', 'J', 'E', 'F', 'G', 'B', 'C', 'I', 'H', 'A')\n",
            "('A', 'C', 'B', 'D', 'A')\n",
            "[307.9, 344.29999999999995, 272.0, 344.29999999999995, 272.0, 307.9]\n",
            "272.0\n",
            "[('A', 'B', 'C', 'D', 'A'), ('A', 'B', 'D', 'C', 'A'), ('A', 'C', 'B', 'D', 'A'), ('A', 'C', 'D', 'B', 'A'), ('A', 'D', 'B', 'C', 'A'), ('A', 'D', 'C', 'B', 'A')]\n"
          ]
        }
      ]
    },
    {
      "cell_type": "markdown",
      "source": [
        "### Exercise 2: Nearest Neighbour\n",
        "\n",
        "Implement a nearest neighbour solution to the traveling salesman problem using the city map and distance dictionary given above.  The algorithm for the nearest neighbour solution looks something like this:\n",
        " 1. Start from the starting city.  \n",
        " 2. Go to the nearest city that has not been visited.  \n",
        " 3. Repeat steps 1 and 2 until all cities have been visited.\n",
        "\n",
        "Before you start coding, think about what functions and/or class you might want to simplify your implementation of the algorithm.  Write a small test for your algorithm."
      ],
      "metadata": {
        "id": "JhIjwjq-Oa4F"
      }
    },
    {
      "cell_type": "code",
      "source": [
        "# Ex.2 your code here\n",
        "\n",
        "current_city = 'A'\n",
        "next_stop = ''\n",
        "smallest_distance = 1000000\n",
        "visited_cities = []\n",
        "\n",
        "while len(visited_cities) < 10:\n",
        "\n",
        "  for i in range(10):\n",
        "    char_1 = chr(65 + i)\n",
        "    if char_1 not in visited_cities and char_1 != current_city and distances[(current_city, char_1)] < smallest_distance:\n",
        "       next_stop = char_1\n",
        "       smallest_distance = distances[(current_city, char_1)]\n",
        "\n",
        "\n",
        "  visited_cities.append(current_city)\n",
        "\n",
        "  current_city = next_stop\n",
        "  smallest_distance = 100000\n",
        "  next_stop = ''\n",
        "\n",
        "print(visited_cities)"
      ],
      "metadata": {
        "id": "jrsQQyMLEFZ2",
        "colab": {
          "base_uri": "https://localhost:8080/"
        },
        "outputId": "75bb1f8f-0c09-4b5c-f4d7-b3f44e37c07f"
      },
      "execution_count": 12,
      "outputs": [
        {
          "output_type": "stream",
          "name": "stdout",
          "text": [
            "['A', 'H', 'I', 'C', 'E', 'J', 'D', 'F', 'G', 'B']\n"
          ]
        }
      ]
    },
    {
      "cell_type": "markdown",
      "source": [
        "### Exercise 3: Graph the Routes\n",
        "\n",
        "Use the networkx module to create directed graphs of the routes (brute force and nearest neighbour).  Include the distances between the cities on the edges.  Run several different map setups with a different sizes (ie. number of cities).  Do the brute force (ie. direct) and nearest neighbour (ie. heuristic) algorithms always give the same solution?  Do you notice anything about the brute force solutions that suggests an alternative heuristic algorithm?\n"
      ],
      "metadata": {
        "id": "RzeiY9dFpBAC"
      }
    },
    {
      "cell_type": "code",
      "source": [
        "# Ex.3 your code here\n",
        "\n",
        "city_network = nx.DiGraph()\n",
        "city_network.add_nodes_from(city_map)\n",
        "for i in range(len(visited_cities)-1):\n",
        "  city_network.add_edge(visited_cities[i], visited_cities[i+1], weight = distances[(visited_cities[i], visited_cities[i+1])])\n",
        "\n",
        "nx.draw(city_network, city_map, with_labels = True)\n",
        "nx.draw_networkx_edge_labels(city_network, city_map, edge_labels = nx.get_edge_attributes(city_network, 'weight'))\n",
        "\n",
        "\n"
      ],
      "metadata": {
        "id": "U9NFv5PkEKO4",
        "colab": {
          "base_uri": "https://localhost:8080/",
          "height": 678
        },
        "outputId": "c7546f90-7a01-4260-f628-4459e4c7409c"
      },
      "execution_count": 18,
      "outputs": [
        {
          "output_type": "execute_result",
          "data": {
            "text/plain": [
              "{('A', 'H'): Text(14.500093458220368, 67.00018691644074, '11.2'),\n",
              " ('C', 'E'): Text(44.500132454442806, 37.500238417997025, '51.5'),\n",
              " ('D', 'F'): Text(72.99992893775925, 72.50017410248984, '52.9'),\n",
              " ('E', 'J'): Text(55.999984007328756, 68.50013593770564, '17.1'),\n",
              " ('F', 'G'): Text(91.50005421834068, 36.99992983508855, '27.8'),\n",
              " ('G', 'B'): Text(98.49991905875505, 16.99951435253024, '18.2'),\n",
              " ('H', 'I'): Text(7.499839721247559, 55.499768486246474, '15.8'),\n",
              " ('I', 'C'): Text(17.500138792558573, 31.99983727768995, '44.7'),\n",
              " ('J', 'D'): Text(58.99992107972504, 86.99980269931257, '21.5')}"
            ]
          },
          "metadata": {},
          "execution_count": 18
        },
        {
          "output_type": "display_data",
          "data": {
            "text/plain": [
              "<Figure size 640x480 with 1 Axes>"
            ],
            "image/png": "[encoded data removed]"
          },
          "metadata": {}
        }
      ]
    },
    {
      "cell_type": "markdown",
      "source": [
        "### Exercise 4: Algorithm Scaling\n",
        "\n",
        "Use the `time` module to measure the running time of the two algorithms.  Note that the `time.time()` function returns the current time, so calling it before and after the algorithm has run can give you the time it takes for the algorithm to execute.  Taking the average over several trials will make the measurement more precise.  Demonstrate the scaling nature of the algorithms by plotting their execution time as a function of N, up to about N = 10.  "
      ],
      "metadata": {
        "id": "HD2PiYXQV48y"
      }
    },
    {
      "cell_type": "code",
      "source": [
        "# Ex 4: your code here"
      ],
      "metadata": {
        "id": "DBpuwJ5SSNJB"
      },
      "execution_count": null,
      "outputs": []
    }
  ]
}